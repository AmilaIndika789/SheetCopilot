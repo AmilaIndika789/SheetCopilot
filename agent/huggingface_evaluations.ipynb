{
 "cells": [
  {
   "cell_type": "markdown",
   "metadata": {},
   "source": [
    "## Import required libraries and packages"
   ]
  },
  {
   "cell_type": "code",
   "execution_count": 1,
   "metadata": {},
   "outputs": [],
   "source": [
    "import evaluate\n",
    "import yaml\n",
    "import nltk\n",
    "nltk.download('punkt_tab', quiet=True)\n",
    "import pathlib\n",
    "import numpy as np\n",
    "from tqdm import tqdm"
   ]
  },
  {
   "cell_type": "code",
   "execution_count": 2,
   "metadata": {},
   "outputs": [],
   "source": [
    "OUTPUT_PATH = \"../output_dir\"\n",
    "model_name = \"gpt-4o-mini\""
   ]
  },
  {
   "cell_type": "markdown",
   "metadata": {},
   "source": [
    "## Helper functions"
   ]
  },
  {
   "cell_type": "code",
   "execution_count": 3,
   "metadata": {},
   "outputs": [],
   "source": [
    "def create_path_generator(file_path):\n",
    "    return pathlib.Path(f\"{file_path}\").glob(\"**/*\")"
   ]
  },
  {
   "cell_type": "code",
   "execution_count": 4,
   "metadata": {},
   "outputs": [],
   "source": [
    "def read_yaml_file(file_path, content_type):\n",
    "    with open(file_path) as file:\n",
    "        instructions = yaml.load(file, Loader=yaml.Loader)\n",
    "    return yaml.dump(instructions[content_type])"
   ]
  },
  {
   "cell_type": "code",
   "execution_count": 5,
   "metadata": {},
   "outputs": [],
   "source": [
    "path_generator = create_path_generator(\n",
    "    file_path=f\"{OUTPUT_PATH}/intermediate_responses/\"\n",
    ")\n",
    "correct_response_file_paths = [str(path) for path in path_generator]\n",
    "correct_response_file_paths = correct_response_file_paths[1:]"
   ]
  },
  {
   "cell_type": "code",
   "execution_count": 6,
   "metadata": {},
   "outputs": [],
   "source": [
    "path_generator = create_path_generator(file_path=f\"{OUTPUT_PATH}/{model_name}/gpt_responses/\")\n",
    "gpt_responses_file_paths = [str(path) for path in path_generator]"
   ]
  },
  {
   "cell_type": "code",
   "execution_count": 7,
   "metadata": {},
   "outputs": [
    {
     "name": "stderr",
     "output_type": "stream",
     "text": [
      "[nltk_data] Downloading package wordnet to\n",
      "[nltk_data]     C:\\Users\\Amilas_Windows_VM\\AppData\\Roaming\\nltk_data..\n",
      "[nltk_data]     .\n",
      "[nltk_data]   Package wordnet is already up-to-date!\n",
      "[nltk_data] Downloading package punkt_tab to\n",
      "[nltk_data]     C:\\Users\\Amilas_Windows_VM\\AppData\\Roaming\\nltk_data..\n",
      "[nltk_data]     .\n",
      "[nltk_data]   Package punkt_tab is already up-to-date!\n",
      "[nltk_data] Downloading package omw-1.4 to\n",
      "[nltk_data]     C:\\Users\\Amilas_Windows_VM\\AppData\\Roaming\\nltk_data..\n",
      "[nltk_data]     .\n",
      "[nltk_data]   Package omw-1.4 is already up-to-date!\n"
     ]
    }
   ],
   "source": [
    "bleu = evaluate.load(\"bleu\")\n",
    "google_bleu = evaluate.load(\"google_bleu\")\n",
    "rouge = evaluate.load(\"rouge\")\n",
    "meteor = evaluate.load(\"meteor\")"
   ]
  },
  {
   "cell_type": "code",
   "execution_count": 8,
   "metadata": {},
   "outputs": [
    {
     "name": "stderr",
     "output_type": "stream",
     "text": [
      "100%|██████████| 10/10 [00:09<00:00,  1.09it/s]\n"
     ]
    }
   ],
   "source": [
    "bleu_scores = []\n",
    "gleu_scores = []\n",
    "rouge_scores = []\n",
    "meteor_scores = []\n",
    "for test_index in tqdm(range(10)):\n",
    "    correct_file_path = correct_response_file_paths[test_index]\n",
    "    predicted_file_path = gpt_responses_file_paths[test_index]\n",
    "\n",
    "    # Correct instructions\n",
    "    correct_instructions = read_yaml_file(\n",
    "        file_path=correct_file_path, content_type=\"intermediate response\"\n",
    "    )\n",
    "    correct_instructions = (\n",
    "        correct_instructions.replace(\"'\", \"\").replace('\"', \"\").split(\"- Step\")\n",
    "    )\n",
    "    correct_instructions = [\n",
    "        instruction.strip().replace(\"\\n\", \"\")\n",
    "        for instruction in correct_instructions\n",
    "        if instruction != \"\"\n",
    "    ]\n",
    "\n",
    "    # predicted instructions\n",
    "    predicted_instructions = read_yaml_file(\n",
    "        file_path=predicted_file_path, content_type=\"gpt_response\"\n",
    "    )\n",
    "    predicted_instructions = (\n",
    "        predicted_instructions.replace(\"'\", \"\").replace('\"', \"\").split(\"- Step\")\n",
    "    )\n",
    "    predicted_instructions = [\n",
    "        instruction.strip().replace(\"\\n\", \"\")\n",
    "        for instruction in predicted_instructions\n",
    "        if instruction != \"\"\n",
    "    ]\n",
    "    predicted_instructions = [\"\\n\".join(predicted_instructions)]\n",
    "    correct_instructions = [\"\\n\".join(correct_instructions)]\n",
    "    \n",
    "    if len(predicted_instructions) != len(correct_instructions):\n",
    "        print(f\"Predicted file: {predicted_file_path}\")\n",
    "        print(f\"Correct file: {correct_file_path}\")\n",
    "        print(f\"Predicted: {predicted_instructions}\")\n",
    "        print(f\"Correct: {correct_instructions}\")\n",
    "\n",
    "    # BLEU\n",
    "    bleu_results = bleu.compute(\n",
    "        predictions=predicted_instructions, references=correct_instructions\n",
    "    )\n",
    "    bleu_scores.append(bleu_results[\"bleu\"])\n",
    "\n",
    "    # GLEU\n",
    "    google_bleu_results = google_bleu.compute(\n",
    "        predictions=predicted_instructions, references=correct_instructions\n",
    "    )\n",
    "    gleu_scores.append(google_bleu_results[\"google_bleu\"])\n",
    "\n",
    "    # Rouge-L\n",
    "    rouge_results = rouge.compute(\n",
    "        predictions=predicted_instructions, references=correct_instructions\n",
    "    )\n",
    "    rouge_scores.append(rouge_results[\"rougeL\"])\n",
    "\n",
    "    # METEOR\n",
    "    meteor_results = meteor.compute(\n",
    "        predictions=predicted_instructions, references=correct_instructions\n",
    "    )\n",
    "    meteor_scores.append(meteor_results[\"meteor\"])"
   ]
  },
  {
   "cell_type": "code",
   "execution_count": 9,
   "metadata": {},
   "outputs": [
    {
     "name": "stdout",
     "output_type": "stream",
     "text": [
      "BLEU: 0.236 +/- 0.176\n",
      "GLEU: 0.304 +/- 0.142\n",
      "ROUGE-L: 0.551 +/- 0.112\n",
      "METEOR: 0.637 +/- 0.165\n"
     ]
    }
   ],
   "source": [
    "print(f\"BLEU: {np.mean(bleu_scores):.3f} +/- {np.std(bleu_scores):.3f}\")\n",
    "print(f\"GLEU: {np.mean(gleu_scores):.3f} +/- {np.std(gleu_scores):.3f}\")\n",
    "print(f\"ROUGE-L: {np.mean(rouge_scores):.3f} +/- {np.std(rouge_scores):.3f}\")\n",
    "print(f\"METEOR: {np.mean(meteor_scores):.3f} +/- {np.std(meteor_scores):.3f}\")"
   ]
  },
  {
   "cell_type": "code",
   "execution_count": null,
   "metadata": {},
   "outputs": [],
   "source": []
  }
 ],
 "metadata": {
  "kernelspec": {
   "display_name": "llm_ss",
   "language": "python",
   "name": "python3"
  },
  "language_info": {
   "codemirror_mode": {
    "name": "ipython",
    "version": 3
   },
   "file_extension": ".py",
   "mimetype": "text/x-python",
   "name": "python",
   "nbconvert_exporter": "python",
   "pygments_lexer": "ipython3",
   "version": "3.10.14"
  }
 },
 "nbformat": 4,
 "nbformat_minor": 2
}
