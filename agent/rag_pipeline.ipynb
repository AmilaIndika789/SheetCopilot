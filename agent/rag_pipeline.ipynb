{
 "cells": [
  {
   "cell_type": "markdown",
   "id": "a4aa386c",
   "metadata": {},
   "source": [
    "## Import required libraries and packages"
   ]
  },
  {
   "cell_type": "code",
   "execution_count": 1,
   "id": "d73d5526",
   "metadata": {},
   "outputs": [],
   "source": [
    "import os\n",
    "import yaml\n",
    "\n",
    "import pandas as pd\n",
    "from langchain_community.document_loaders import UnstructuredHTMLLoader\n",
    "from langchain_openai import OpenAIEmbeddings\n",
    "from langchain_experimental.text_splitter import SemanticChunker\n",
    "from langchain_chroma import Chroma\n",
    "from langchain_core.prompts import ChatPromptTemplate, FewShotChatMessagePromptTemplate\n",
    "\n",
    "\n",
    "from prompt import Prompt"
   ]
  },
  {
   "cell_type": "markdown",
   "id": "2ddadcf7",
   "metadata": {},
   "source": [
    "## Helper code to extract paths, sheet state"
   ]
  },
  {
   "cell_type": "code",
   "execution_count": 2,
   "id": "6026b6ba",
   "metadata": {},
   "outputs": [],
   "source": [
    "config_file = \"./config/config.yaml\"\n",
    "agent_name = \"gpt-4o-mini\"\n",
    "model_name = \"gpt-4o-mini\"\n",
    "few_shot_count = 2"
   ]
  },
  {
   "cell_type": "code",
   "execution_count": 3,
   "id": "c72f60b9",
   "metadata": {},
   "outputs": [],
   "source": [
    "def set_agent_configuration(configuration_file_path, agent_name):\n",
    "    with open(configuration_file_path, mode=\"r\") as file:\n",
    "        config = yaml.load(file, Loader=yaml.Loader)\n",
    "\n",
    "    agent_config = config[\"Agent\"]\n",
    "    return agent_config"
   ]
  },
  {
   "cell_type": "code",
   "execution_count": 4,
   "id": "4dce7aab",
   "metadata": {},
   "outputs": [],
   "source": [
    "agent_config = set_agent_configuration(\n",
    "    configuration_file_path=config_file, agent_name=agent_name\n",
    ")\n",
    "prompt = Prompt(\n",
    "    agent_configuration=agent_config,\n",
    "    agent_name=agent_name,\n",
    "    model_name=model_name,\n",
    "    few_shot_count=few_shot_count,\n",
    ")"
   ]
  },
  {
   "cell_type": "code",
   "execution_count": 5,
   "id": "1b12eef5",
   "metadata": {},
   "outputs": [],
   "source": [
    "def load_html_documents():\n",
    "    excel_js_api_docs = [\n",
    "        str(path) for path in prompt.create_path_generator(\"../excel_js_api_docs\")\n",
    "    ]\n",
    "    documents = []\n",
    "    for filename in excel_js_api_docs:\n",
    "        html_loader = UnstructuredHTMLLoader(file_path=filename)\n",
    "        document = html_loader.load()\n",
    "        documents.append(document[0])\n",
    "    return documents"
   ]
  },
  {
   "cell_type": "code",
   "execution_count": 6,
   "id": "068ace40",
   "metadata": {},
   "outputs": [],
   "source": [
    "def split_documents_into_chunks(documents, embedding_model):\n",
    "    semantic_splitter = SemanticChunker(\n",
    "        embeddings=embedding_model,\n",
    "        breakpoint_threshold_type=\"gradient\",\n",
    "        breakpoint_threshold_amount=0.8,\n",
    "    )\n",
    "    chunks = semantic_splitter.split_documents(documents)\n",
    "    return chunks"
   ]
  },
  {
   "cell_type": "code",
   "execution_count": 7,
   "id": "2281af98",
   "metadata": {},
   "outputs": [],
   "source": [
    "def embed_chunks_and_save_vector_database(chunks, database_directory, embedding_model):\n",
    "    vector_store = Chroma.from_documents(\n",
    "        documents=chunks,\n",
    "        embedding=embedding_model,\n",
    "        persist_directory=database_directory,\n",
    "    )\n",
    "    return vector_store"
   ]
  },
  {
   "cell_type": "code",
   "execution_count": 8,
   "id": "0db2673c",
   "metadata": {},
   "outputs": [
    {
     "name": "stdout",
     "output_type": "stream",
     "text": [
      "Vector database already exists. Loading the database ...\n"
     ]
    }
   ],
   "source": [
    "vector_database_directory = \"../vector_db/\"\n",
    "embedding_model = OpenAIEmbeddings(\n",
    "    api_key=os.environ[\"OPENAI_API_KEY\"], model=\"text-embedding-3-small\"\n",
    ")\n",
    "if not os.path.exists(f\"{vector_database_directory}/chroma.sqlite3\"):\n",
    "    print(\"Vector Database does not exist. Creating a new database ...\")\n",
    "    html_documents = load_html_documents()\n",
    "    splitted_chunks = split_documents_into_chunks(html_documents, embedding_model)\n",
    "    vector_database = embed_chunks_and_save_vector_database(\n",
    "        splitted_chunks, vector_database_directory, embedding_model\n",
    "    )\n",
    "else:\n",
    "    print(\"Vector database already exists. Loading the database ...\")\n",
    "    vector_database = Chroma(\n",
    "        persist_directory=vector_database_directory, embedding_function=embedding_model\n",
    "    )\n",
    "    vector_database.get()"
   ]
  },
  {
   "cell_type": "markdown",
   "id": "9048b0d7",
   "metadata": {},
   "source": [
    "## Retriever"
   ]
  },
  {
   "cell_type": "code",
   "execution_count": 9,
   "id": "76838e3a",
   "metadata": {},
   "outputs": [],
   "source": [
    "retriever = vector_database.as_retriever(\n",
    "    search_type=\"similarity\",\n",
    "    search_kwargs={\"k\": 10}\n",
    ")"
   ]
  },
  {
   "cell_type": "markdown",
   "id": "79562726",
   "metadata": {},
   "source": [
    "## Get sheet state"
   ]
  },
  {
   "cell_type": "code",
   "execution_count": 10,
   "id": "83e5c227",
   "metadata": {},
   "outputs": [],
   "source": [
    "sheet_state = prompt.get_sheet_state(\"../JS_Excel_files/EntireShippingCosts.xlsx\")"
   ]
  },
  {
   "cell_type": "markdown",
   "id": "50f246b7",
   "metadata": {},
   "source": [
    "## Get JavaScript code answers"
   ]
  },
  {
   "cell_type": "code",
   "execution_count": 11,
   "id": "660490a1",
   "metadata": {},
   "outputs": [],
   "source": [
    "def read_js_file(file_path):\n",
    "    with open(file_path, 'r') as file:\n",
    "        return file.read()"
   ]
  },
  {
   "cell_type": "code",
   "execution_count": 12,
   "id": "87e3f975",
   "metadata": {},
   "outputs": [],
   "source": [
    "task_10_js_code = read_js_file(\"../JS_Excel_files/task_10.js\")\n",
    "task_11_js_code = read_js_file(\"../JS_Excel_files/task_11.js\")"
   ]
  },
  {
   "cell_type": "markdown",
   "id": "fd5dbcbf",
   "metadata": {},
   "source": [
    "## Few shot prompt"
   ]
  },
  {
   "cell_type": "code",
   "execution_count": 13,
   "id": "cb1088cb",
   "metadata": {},
   "outputs": [],
   "source": [
    "few_shot_examples = [\n",
    "    {\n",
    "        \"input\": f\"Duplicate the first 10 rows in Sheet1 in Sheet2. \\n Sheet state: {sheet_state}\", \n",
    "        \"output\": f\"{task_10_js_code}\"\n",
    "    },\n",
    "    {\n",
    "        \"input\": f\"Display only the rows where the distances to Milwaukee are less than 2000 miles. \\n Sheet state: {sheet_state}\", \n",
    "        \"output\": f\"{task_11_js_code}\"\n",
    "    },\n",
    "]"
   ]
  },
  {
   "cell_type": "code",
   "execution_count": 14,
   "id": "4799daf7",
   "metadata": {},
   "outputs": [],
   "source": [
    "example_prompt = ChatPromptTemplate.from_messages([\n",
    "    (\"human\", \"{input}\"), \n",
    "    (\"ai\", \"{output}\"),\n",
    "])"
   ]
  },
  {
   "cell_type": "code",
   "execution_count": 15,
   "id": "c3203eb1",
   "metadata": {},
   "outputs": [],
   "source": [
    "few_shot_prompt = FewShotChatMessagePromptTemplate(\n",
    "    example_prompt=example_prompt,\n",
    "    examples=few_shot_examples,\n",
    ")"
   ]
  },
  {
   "cell_type": "markdown",
   "id": "43e46c5a",
   "metadata": {},
   "source": [
    "## Final Prompt"
   ]
  },
  {
   "cell_type": "code",
   "execution_count": 16,
   "id": "dcd55275",
   "metadata": {},
   "outputs": [],
   "source": [
    "user_input = (\n",
    "    \"\\n\"\n",
    "    \"excel_js_api: {excel_js_api}\\n\"\n",
    "    \"input: {input}\\n\"\n",
    ")"
   ]
  },
  {
   "cell_type": "code",
   "execution_count": 17,
   "id": "876af4b4",
   "metadata": {},
   "outputs": [],
   "source": [
    "system_message = (\n",
    "    \"You are a JavaScript, TypeScript, and Excel expert.\\n\"\n",
    "    \"Generate the TypeScript code to manipulate Excel using Excel JavaScript API for each given task.\\n\"\n",
    "    \"The Excel sheet state is provided.\\n\"\n",
    ")"
   ]
  },
  {
   "cell_type": "code",
   "execution_count": 18,
   "id": "b98b218e",
   "metadata": {},
   "outputs": [],
   "source": [
    "final_prompt = ChatPromptTemplate.from_messages(\n",
    "    [\n",
    "        (\"system\", system_message),\n",
    "        few_shot_prompt,\n",
    "        (\"human\", user_input)\n",
    "    ]\n",
    ")"
   ]
  },
  {
   "cell_type": "code",
   "execution_count": 19,
   "id": "81606070",
   "metadata": {},
   "outputs": [
    {
     "name": "stdout",
     "output_type": "stream",
     "text": [
      "System: You are a JavaScript, TypeScript, and Excel expert.\n",
      "Generate the TypeScript code to manipulate Excel using Excel JavaScript API for each given task.\n",
      "The Excel sheet state is provided.\n",
      "\n",
      "Human: Duplicate the first 10 rows in Sheet1 in Sheet2. \n",
      " Sheet state: Sheet state: Sheet \"Sheet1\" has 5 columns (Headers are A: \"Customers\", B: \"Seattle\", C: \"Milwaukee\", D: \"Birmingham\", E: \"Oakland\") and 71 rows (1 header row and 70 data rows).\n",
      "AI: $(\"#run\").on(\"click\", () => tryCatch(run));\n",
      "\n",
      "async function run() {\n",
      "  await Excel.run(async (context) => {\n",
      "    let sheets = context.workbook.worksheets;\n",
      "    let sheet1 = sheets.getItem(\"Sheet1\");\n",
      "\n",
      "    sheet1.load(\"position\"); // Load the position of Sheet1\n",
      "\n",
      "    await context.sync(); // Sync before using loaded properties\n",
      "\n",
      "    // Add a new sheet\n",
      "    let sheet2 = sheets.add(\"Sheet2\");\n",
      "    sheet2.position = sheet1.position; // Insert before Sheet1\n",
      "\n",
      "    // Copy headers\n",
      "    let headers = sheet1.getRange(\"A1:E1\");\n",
      "    sheet2.getRange(\"A1:E1\").copyFrom(headers);\n",
      "\n",
      "    // Copy remaining 9 rows\n",
      "    let remainingNineRows = sheet1.getRange(\"A2:E10\");\n",
      "    sheet2.getRange(\"A2:E10\").copyFrom(remainingNineRows);\n",
      "\n",
      "    await context.sync();\n",
      "  }).catch((error) => {\n",
      "    console.error(error);\n",
      "  });\n",
      "}\n",
      "\n",
      "/** Default helper for invoking an action and handling errors. */\n",
      "async function tryCatch(callback) {\n",
      "  try {\n",
      "    await callback();\n",
      "  } catch (error) {\n",
      "    // Note: In a production add-in, you'd want to notify the user through your add-in's UI.\n",
      "    console.error(error);\n",
      "  }\n",
      "}\n",
      "\n",
      "Human: Display only the rows where the distances to Milwaukee are less than 2000 miles. \n",
      " Sheet state: Sheet state: Sheet \"Sheet1\" has 5 columns (Headers are A: \"Customers\", B: \"Seattle\", C: \"Milwaukee\", D: \"Birmingham\", E: \"Oakland\") and 71 rows (1 header row and 70 data rows).\n",
      "AI: $(\"#run\").on(\"click\", () => tryCatch(run));\n",
      "\n",
      "async function run() {\n",
      "  await Excel.run(async (context) => {\n",
      "    const sheet = context.workbook.worksheets.getActiveWorksheet();\n",
      "    let range = sheet.getUsedRange();\n",
      "    sheet.autoFilter.apply(range, 2, {\n",
      "      criterion1: \"<2000\",\n",
      "      filterOn: Excel.FilterOn.custom\n",
      "    });\n",
      "\n",
      "    await context.sync();\n",
      "  });\n",
      "}\n",
      "\n",
      "/** Default helper for invoking an action and handling errors. */\n",
      "async function tryCatch(callback) {\n",
      "  try {\n",
      "    await callback();\n",
      "  } catch (error) {\n",
      "    // Note: In a production add-in, you'd want to notify the user through your add-in's UI.\n",
      "    console.error(error);\n",
      "  }\n",
      "}\n",
      "\n",
      "Human: \n",
      "excel_js_api: HTML_docs\n",
      "input: Task: I want to calculate the revenue for each transaction in the sales table considering corresponding retail price and discount. Please help me do this in a new column with header \"Revenue\". Then create a pivot table in a new sheet to show the counts of the websites on which boomerangs were sold. Finally, plot a bar chart in this new sheet for the pivot table with chart title \"Sales frequency by website\" and without legends.\n",
      "Context: My workbook has two tables. Sheet \"Sheet1\" records the sales of a boomerang company. Sheet \"Retail Price\" lists the retail prices for all products.\n",
      "Sheet State: Sheet state: Sheet \"Sheet1\" has 6 columns (Headers are A: \"Date Time\", B: \"Web Site\", C: \"Product\", D: \"Type\", E: \"Quantity\", F: \"Discount\") and 36 rows (1 header row and 35 data rows). Sheet \"Retail Price\" has 2 columns (Headers are A: \"Product\", B: \"Retail Price\") and 23 rows (1 header row and 22 data rows).\n",
      "\n",
      "System: You are a JavaScript, TypeScript, and Excel expert.\n",
      "Generate the TypeScript code to manipulate Excel using Excel JavaScript API for each given task.\n",
      "The Excel sheet state is provided.\n",
      "\n",
      "Human: Duplicate the first 10 rows in Sheet1 in Sheet2. \n",
      " Sheet state: Sheet state: Sheet \"Sheet1\" has 5 columns (Headers are A: \"Customers\", B: \"Seattle\", C: \"Milwaukee\", D: \"Birmingham\", E: \"Oakland\") and 71 rows (1 header row and 70 data rows).\n",
      "AI: $(\"#run\").on(\"click\", () => tryCatch(run));\n",
      "\n",
      "async function run() {\n",
      "  await Excel.run(async (context) => {\n",
      "    let sheets = context.workbook.worksheets;\n",
      "    let sheet1 = sheets.getItem(\"Sheet1\");\n",
      "\n",
      "    sheet1.load(\"position\"); // Load the position of Sheet1\n",
      "\n",
      "    await context.sync(); // Sync before using loaded properties\n",
      "\n",
      "    // Add a new sheet\n",
      "    let sheet2 = sheets.add(\"Sheet2\");\n",
      "    sheet2.position = sheet1.position; // Insert before Sheet1\n",
      "\n",
      "    // Copy headers\n",
      "    let headers = sheet1.getRange(\"A1:E1\");\n",
      "    sheet2.getRange(\"A1:E1\").copyFrom(headers);\n",
      "\n",
      "    // Copy remaining 9 rows\n",
      "    let remainingNineRows = sheet1.getRange(\"A2:E10\");\n",
      "    sheet2.getRange(\"A2:E10\").copyFrom(remainingNineRows);\n",
      "\n",
      "    await context.sync();\n",
      "  }).catch((error) => {\n",
      "    console.error(error);\n",
      "  });\n",
      "}\n",
      "\n",
      "/** Default helper for invoking an action and handling errors. */\n",
      "async function tryCatch(callback) {\n",
      "  try {\n",
      "    await callback();\n",
      "  } catch (error) {\n",
      "    // Note: In a production add-in, you'd want to notify the user through your add-in's UI.\n",
      "    console.error(error);\n",
      "  }\n",
      "}\n",
      "\n",
      "Human: Display only the rows where the distances to Milwaukee are less than 2000 miles. \n",
      " Sheet state: Sheet state: Sheet \"Sheet1\" has 5 columns (Headers are A: \"Customers\", B: \"Seattle\", C: \"Milwaukee\", D: \"Birmingham\", E: \"Oakland\") and 71 rows (1 header row and 70 data rows).\n",
      "AI: $(\"#run\").on(\"click\", () => tryCatch(run));\n",
      "\n",
      "async function run() {\n",
      "  await Excel.run(async (context) => {\n",
      "    const sheet = context.workbook.worksheets.getActiveWorksheet();\n",
      "    let range = sheet.getUsedRange();\n",
      "    sheet.autoFilter.apply(range, 2, {\n",
      "      criterion1: \"<2000\",\n",
      "      filterOn: Excel.FilterOn.custom\n",
      "    });\n",
      "\n",
      "    await context.sync();\n",
      "  });\n",
      "}\n",
      "\n",
      "/** Default helper for invoking an action and handling errors. */\n",
      "async function tryCatch(callback) {\n",
      "  try {\n",
      "    await callback();\n",
      "  } catch (error) {\n",
      "    // Note: In a production add-in, you'd want to notify the user through your add-in's UI.\n",
      "    console.error(error);\n",
      "  }\n",
      "}\n",
      "\n",
      "Human: \n",
      "excel_js_api: HTML_docs\n",
      "input: Task: Help me calculate the revenue for each product in the sales table considering corresponding retail price and discount. Do this in column G titled \"Revenue\". Then create a pivot table in a new sheet to show the sum of revenue for each product sold. Finally, plot a column chart in the new sheet illustrating this pivot table with chart title \"Revenue of each product\" and without legends.\n",
      "Context: My workbook has two tables. Sheet \"Sheet1\" records the sales of a boomerang company. Sheet \"Retail Price\" lists the retail prices for all products.\n",
      "Sheet State: Sheet state: Sheet \"Sheet1\" has 6 columns (Headers are A: \"Date Time\", B: \"Web Site\", C: \"Product\", D: \"Type\", E: \"Quantity\", F: \"Discount\") and 36 rows (1 header row and 35 data rows). Sheet \"Retail Price\" has 2 columns (Headers are A: \"Product\", B: \"Retail Price\") and 23 rows (1 header row and 22 data rows).\n",
      "\n"
     ]
    }
   ],
   "source": [
    "with open(config_file, mode=\"r\") as file:\n",
    "    config = yaml.load(file, Loader=yaml.Loader)\n",
    "task_df = pd.read_excel(config['path']['task_path'], header=0)\n",
    "\n",
    "for index, row in task_df.iloc[:2].iterrows():\n",
    "    source_path = os.path.join(config['path']['source_path'], row['Sheet Name']+'.xlsx')\n",
    "    input_task = (\n",
    "        f\"Task: {row['Instructions']}\\n\"\n",
    "        f\"Context: {row['Context']}\\n\"\n",
    "        f\"Sheet State: {prompt.get_sheet_state(source_path)}\"\n",
    "    )\n",
    "    print(final_prompt.format(input=input_task, excel_js_api=\"HTML_docs\"))\n",
    "    "
   ]
  },
  {
   "cell_type": "code",
   "execution_count": null,
   "id": "709c60e4",
   "metadata": {},
   "outputs": [],
   "source": []
  }
 ],
 "metadata": {
  "kernelspec": {
   "display_name": "llm_ss",
   "language": "python",
   "name": "python3"
  },
  "language_info": {
   "codemirror_mode": {
    "name": "ipython",
    "version": 3
   },
   "file_extension": ".py",
   "mimetype": "text/x-python",
   "name": "python",
   "nbconvert_exporter": "python",
   "pygments_lexer": "ipython3",
   "version": "3.10.14"
  }
 },
 "nbformat": 4,
 "nbformat_minor": 5
}
