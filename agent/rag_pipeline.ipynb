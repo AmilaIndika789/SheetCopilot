{
 "cells": [
  {
   "cell_type": "markdown",
   "id": "a4aa386c",
   "metadata": {},
   "source": [
    "## Import required libraries and packages"
   ]
  },
  {
   "cell_type": "code",
   "execution_count": 1,
   "id": "d73d5526",
   "metadata": {},
   "outputs": [],
   "source": [
    "import os\n",
    "import yaml\n",
    "\n",
    "import pandas as pd\n",
    "from langchain_community.document_loaders import UnstructuredHTMLLoader\n",
    "from langchain_openai import OpenAIEmbeddings\n",
    "from langchain_experimental.text_splitter import SemanticChunker\n",
    "from langchain_chroma import Chroma\n",
    "from langchain_core.prompts import ChatPromptTemplate, FewShotChatMessagePromptTemplate\n",
    "from langchain_core.runnables import RunnablePassthrough\n",
    "from langchain_core.output_parsers import StrOutputParser\n",
    "from langchain_openai import ChatOpenAI\n",
    "\n",
    "from prompt import Prompt"
   ]
  },
  {
   "cell_type": "markdown",
   "id": "2ddadcf7",
   "metadata": {},
   "source": [
    "## Helper code to extract paths, sheet state"
   ]
  },
  {
   "cell_type": "code",
   "execution_count": 2,
   "id": "6026b6ba",
   "metadata": {},
   "outputs": [],
   "source": [
    "config_file = \"./config/config.yaml\"\n",
    "agent_name = \"gpt-4o-mini\"\n",
    "model_name = \"gpt-4o-mini\"\n",
    "few_shot_count = 2"
   ]
  },
  {
   "cell_type": "code",
   "execution_count": 3,
   "id": "c72f60b9",
   "metadata": {},
   "outputs": [],
   "source": [
    "def set_agent_configuration(configuration_file_path, agent_name):\n",
    "    with open(configuration_file_path, mode=\"r\") as file:\n",
    "        config = yaml.load(file, Loader=yaml.Loader)\n",
    "\n",
    "    agent_config = config[\"Agent\"]\n",
    "    return agent_config"
   ]
  },
  {
   "cell_type": "code",
   "execution_count": 4,
   "id": "4dce7aab",
   "metadata": {},
   "outputs": [],
   "source": [
    "agent_config = set_agent_configuration(\n",
    "    configuration_file_path=config_file, agent_name=agent_name\n",
    ")\n",
    "prompt = Prompt(\n",
    "    agent_configuration=agent_config,\n",
    "    agent_name=agent_name,\n",
    "    model_name=model_name,\n",
    "    few_shot_count=few_shot_count,\n",
    ")"
   ]
  },
  {
   "cell_type": "code",
   "execution_count": 5,
   "id": "1b12eef5",
   "metadata": {},
   "outputs": [],
   "source": [
    "def load_html_documents():\n",
    "    excel_js_api_docs = [\n",
    "        str(path) for path in prompt.create_path_generator(\"../excel_js_api_docs\")\n",
    "    ]\n",
    "    documents = []\n",
    "    for filename in excel_js_api_docs:\n",
    "        html_loader = UnstructuredHTMLLoader(file_path=filename)\n",
    "        document = html_loader.load()\n",
    "        documents.append(document[0])\n",
    "    return documents"
   ]
  },
  {
   "cell_type": "code",
   "execution_count": 6,
   "id": "068ace40",
   "metadata": {},
   "outputs": [],
   "source": [
    "def split_documents_into_chunks(documents, embedding_model):\n",
    "    semantic_splitter = SemanticChunker(\n",
    "        embeddings=embedding_model,\n",
    "        breakpoint_threshold_type=\"gradient\",\n",
    "        breakpoint_threshold_amount=0.8,\n",
    "    )\n",
    "    chunks = semantic_splitter.split_documents(documents)\n",
    "    return chunks"
   ]
  },
  {
   "cell_type": "code",
   "execution_count": 7,
   "id": "2281af98",
   "metadata": {},
   "outputs": [],
   "source": [
    "def embed_chunks_and_save_vector_database(chunks, database_directory, embedding_model):\n",
    "    vector_store = Chroma.from_documents(\n",
    "        documents=chunks,\n",
    "        embedding=embedding_model,\n",
    "        persist_directory=database_directory,\n",
    "    )\n",
    "    return vector_store"
   ]
  },
  {
   "cell_type": "code",
   "execution_count": 8,
   "id": "0db2673c",
   "metadata": {},
   "outputs": [
    {
     "name": "stdout",
     "output_type": "stream",
     "text": [
      "Vector database already exists. Loading the database ...\n"
     ]
    }
   ],
   "source": [
    "vector_database_directory = \"../vector_db/\"\n",
    "embedding_model = OpenAIEmbeddings(\n",
    "    api_key=os.environ[\"OPENAI_API_KEY\"], model=\"text-embedding-3-small\"\n",
    ")\n",
    "if not os.path.exists(f\"{vector_database_directory}/chroma.sqlite3\"):\n",
    "    print(\"Vector Database does not exist. Creating a new database ...\")\n",
    "    html_documents = load_html_documents()\n",
    "    splitted_chunks = split_documents_into_chunks(html_documents, embedding_model)\n",
    "    vector_database = embed_chunks_and_save_vector_database(\n",
    "        splitted_chunks, vector_database_directory, embedding_model\n",
    "    )\n",
    "else:\n",
    "    print(\"Vector database already exists. Loading the database ...\")\n",
    "    vector_database = Chroma(\n",
    "        persist_directory=vector_database_directory, embedding_function=embedding_model\n",
    "    )\n",
    "    vector_database.get()"
   ]
  },
  {
   "cell_type": "markdown",
   "id": "9048b0d7",
   "metadata": {},
   "source": [
    "## Retriever"
   ]
  },
  {
   "cell_type": "code",
   "execution_count": 9,
   "id": "76838e3a",
   "metadata": {},
   "outputs": [],
   "source": [
    "retriever = vector_database.as_retriever(\n",
    "    search_type=\"similarity\",\n",
    "    search_kwargs={\"k\": 10}\n",
    ")"
   ]
  },
  {
   "cell_type": "markdown",
   "id": "79562726",
   "metadata": {},
   "source": [
    "## Get sheet state"
   ]
  },
  {
   "cell_type": "code",
   "execution_count": 10,
   "id": "83e5c227",
   "metadata": {},
   "outputs": [],
   "source": [
    "sheet_state = prompt.get_sheet_state(\"../JS_Excel_files/EntireShippingCosts.xlsx\")"
   ]
  },
  {
   "cell_type": "markdown",
   "id": "50f246b7",
   "metadata": {},
   "source": [
    "## Get JavaScript code answers"
   ]
  },
  {
   "cell_type": "code",
   "execution_count": 11,
   "id": "660490a1",
   "metadata": {},
   "outputs": [],
   "source": [
    "def read_js_file(file_path):\n",
    "    with open(file_path, 'r') as file:\n",
    "        return file.read()"
   ]
  },
  {
   "cell_type": "code",
   "execution_count": 12,
   "id": "87e3f975",
   "metadata": {},
   "outputs": [],
   "source": [
    "task_10_js_code = read_js_file(\"../JS_Excel_files/task_10.js\")\n",
    "task_11_js_code = read_js_file(\"../JS_Excel_files/task_11.js\")"
   ]
  },
  {
   "cell_type": "markdown",
   "id": "fd5dbcbf",
   "metadata": {},
   "source": [
    "## Few shot prompt"
   ]
  },
  {
   "cell_type": "code",
   "execution_count": 13,
   "id": "cb1088cb",
   "metadata": {},
   "outputs": [],
   "source": [
    "few_shot_examples = [\n",
    "    {\n",
    "        \"input\": f\"Duplicate the first 10 rows in Sheet1 in Sheet2. \\n Sheet state: {sheet_state}\", \n",
    "        \"output\": f\"{task_10_js_code}\"\n",
    "    },\n",
    "    {\n",
    "        \"input\": f\"Display only the rows where the distances to Milwaukee are less than 2000 miles. \\n Sheet state: {sheet_state}\", \n",
    "        \"output\": f\"{task_11_js_code}\"\n",
    "    },\n",
    "]"
   ]
  },
  {
   "cell_type": "code",
   "execution_count": 14,
   "id": "4799daf7",
   "metadata": {},
   "outputs": [],
   "source": [
    "example_prompt = ChatPromptTemplate.from_messages([\n",
    "    (\"human\", \"{input}\"), \n",
    "    (\"ai\", \"{output}\"),\n",
    "])"
   ]
  },
  {
   "cell_type": "code",
   "execution_count": 15,
   "id": "c3203eb1",
   "metadata": {},
   "outputs": [],
   "source": [
    "few_shot_prompt = FewShotChatMessagePromptTemplate(\n",
    "    example_prompt=example_prompt,\n",
    "    examples=few_shot_examples,\n",
    ")"
   ]
  },
  {
   "cell_type": "markdown",
   "id": "43e46c5a",
   "metadata": {},
   "source": [
    "## Final Prompt"
   ]
  },
  {
   "cell_type": "code",
   "execution_count": 16,
   "id": "dcd55275",
   "metadata": {},
   "outputs": [],
   "source": [
    "user_input = (\n",
    "    \"\\n\"\n",
    "    \"excel_js_api: {excel_js_api}\\n\"\n",
    "    \"input: {input}\\n\"\n",
    ")"
   ]
  },
  {
   "cell_type": "code",
   "execution_count": 17,
   "id": "876af4b4",
   "metadata": {},
   "outputs": [],
   "source": [
    "system_message = (\n",
    "    \"You are a JavaScript, TypeScript, and Excel expert.\\n\"\n",
    "    \"Generate the TypeScript code to manipulate Excel using Excel JavaScript API for each given task.\\n\"\n",
    "    \"Provide only the TypeScript code as a string without enclosing in backtick code block\\n\"\n",
    "    \"Do not provide additional explanations\\n\"\n",
    "    \"The Excel sheet state is provided.\\n\"\n",
    ")"
   ]
  },
  {
   "cell_type": "code",
   "execution_count": 18,
   "id": "b98b218e",
   "metadata": {},
   "outputs": [],
   "source": [
    "final_prompt = ChatPromptTemplate.from_messages(\n",
    "    [\n",
    "        (\"system\", system_message),\n",
    "        few_shot_prompt,\n",
    "        (\"human\", user_input)\n",
    "    ]\n",
    ")"
   ]
  },
  {
   "cell_type": "markdown",
   "id": "f44a6364",
   "metadata": {},
   "source": [
    "## Invoke the LLM through LCEL chain"
   ]
  },
  {
   "cell_type": "code",
   "execution_count": 19,
   "id": "5258e0fb",
   "metadata": {},
   "outputs": [],
   "source": [
    "llm = ChatOpenAI(model=\"gpt-4o-mini\", api_key=os.environ[\"OPENAI_API_KEY\"], temperature=0)"
   ]
  },
  {
   "cell_type": "code",
   "execution_count": 20,
   "id": "882fb880",
   "metadata": {},
   "outputs": [],
   "source": [
    "LCEL_chain = (\n",
    "    {\"excel_js_api\": retriever, \"input\": RunnablePassthrough()}\n",
    "    | final_prompt\n",
    "    | llm\n",
    "    | StrOutputParser()\n",
    ")"
   ]
  },
  {
   "cell_type": "code",
   "execution_count": 21,
   "id": "81606070",
   "metadata": {},
   "outputs": [
    {
     "name": "stdout",
     "output_type": "stream",
     "text": [
      "$(\"#run\").on(\"click\", () => tryCatch(run));\n",
      "\n",
      "async function run() {\n",
      "  await Excel.run(async (context) => {\n",
      "    const salesSheet = context.workbook.worksheets.getItem(\"Sheet1\");\n",
      "    const retailSheet = context.workbook.worksheets.getItem(\"Retail Price\");\n",
      "\n",
      "    // Load the necessary ranges\n",
      "    const salesRange = salesSheet.getUsedRange();\n",
      "    const retailRange = retailSheet.getUsedRange();\n",
      "    \n",
      "    salesRange.load(\"values\");\n",
      "    retailRange.load(\"values\");\n",
      "\n",
      "    await context.sync();\n",
      "\n",
      "    // Create a new column for Revenue\n",
      "    const revenueColumnIndex = 6; // Column G (index 6)\n",
      "    const revenueHeader = \"Revenue\";\n",
      "    salesSheet.getRange(`G1`).values = [[revenueHeader]];\n",
      "\n",
      "    // Calculate Revenue\n",
      "    const retailPrices = {};\n",
      "    retailRange.values.forEach(row => {\n",
      "      retailPrices[row[0]] = row[1]; // Map product to retail price\n",
      "    });\n",
      "\n",
      "    const revenueValues = salesRange.values.slice(1).map(row => {\n",
      "      const retailPrice = retailPrices[row[2]] || 0; // Get retail price for the product\n",
      "      const discount = row[5] || 0; // Get discount\n",
      "      return [retailPrice * (1 - discount) * row[4]]; // Revenue = (Retail Price * (1 - Discount)) * Quantity\n",
      "    });\n",
      "\n",
      "    salesSheet.getRange(`G2:G${revenueValues.length + 1}`).values = revenueValues;\n",
      "\n",
      "    // Create a Pivot Table\n",
      "    const pivotTableSheet = context.workbook.worksheets.add(\"PivotTableSheet\");\n",
      "    const pivotTableRange = salesSheet.getRange(\"A1:G36\");\n",
      "    const pivotTable = context.workbook.pivotTables.add(\"PivotTable1\", pivotTableRange, pivotTableSheet.getRange(\"A1\"));\n",
      "\n",
      "    pivotTable.addRowHierarchy(pivotTable.getHierarchy(\"Web Site\"));\n",
      "    pivotTable.addDataHierarchy(pivotTable.getHierarchy(\"Quantity\"), Excel.PivotTableSummarizeFunction.count);\n",
      "\n",
      "    // Create a Bar Chart\n",
      "    const chart = pivotTableSheet.charts.add(Excel.ChartType.barClustered, pivotTable.getRange(), false);\n",
      "    chart.title.text = \"Sales frequency by website\";\n",
      "    chart.legend.setVisible(false);\n",
      "\n",
      "    await context.sync();\n",
      "  });\n",
      "}\n",
      "\n",
      "/** Default helper for invoking an action and handling errors. */\n",
      "async function tryCatch(callback) {\n",
      "  try {\n",
      "    await callback();\n",
      "  } catch (error) {\n",
      "    // Note: In a production add-in, you'd want to notify the user through your add-in's UI.\n",
      "    console.error(error);\n",
      "  }\n",
      "}\n",
      "$(\"#run\").on(\"click\", () => tryCatch(run));\n",
      "\n",
      "async function run() {\n",
      "  await Excel.run(async (context) => {\n",
      "    const salesSheet = context.workbook.worksheets.getItem(\"Sheet1\");\n",
      "    const priceSheet = context.workbook.worksheets.getItem(\"Retail Price\");\n",
      "\n",
      "    // Load the necessary ranges\n",
      "    const salesRange = salesSheet.getUsedRange();\n",
      "    const priceRange = priceSheet.getUsedRange();\n",
      "    salesRange.load(\"values\");\n",
      "    priceRange.load(\"values\");\n",
      "\n",
      "    await context.sync();\n",
      "\n",
      "    // Create a new column for Revenue in Sheet1\n",
      "    const revenueColumnIndex = 6; // Column G\n",
      "    salesSheet.getRange(`G1`).values = [[\"Revenue\"]];\n",
      "\n",
      "    const salesData = salesRange.values;\n",
      "    const priceData = priceRange.values;\n",
      "\n",
      "    // Calculate revenue for each product\n",
      "    for (let i = 1; i < salesData.length; i++) {\n",
      "      const product = salesData[i][2]; // Product column\n",
      "      const quantity = salesData[i][4]; // Quantity column\n",
      "      const discount = salesData[i][5]; // Discount column\n",
      "\n",
      "      // Find retail price for the product\n",
      "      const priceRow = priceData.find(row => row[0] === product);\n",
      "      if (priceRow) {\n",
      "        const retailPrice = priceRow[1];\n",
      "        const revenue = quantity * retailPrice * (1 - discount);\n",
      "        salesSheet.getRange(`G${i + 1}`).values = [[revenue]];\n",
      "      }\n",
      "    }\n",
      "\n",
      "    await context.sync();\n",
      "\n",
      "    // Create a new sheet for the pivot table\n",
      "    const pivotSheet = context.workbook.worksheets.add(\"Revenue Pivot\");\n",
      "    const pivotTable = pivotSheet.pivotTables.add(\"RevenuePivot\", salesRange, \"G1:G36\", \"C1:C36\");\n",
      "\n",
      "    // Set pivot table properties\n",
      "    pivotTable.rowHierarchy.items[0].name = \"Product\";\n",
      "    pivotTable.dataHierarchy.items[0].name = \"Sum of Revenue\";\n",
      "\n",
      "    await context.sync();\n",
      "\n",
      "    // Create a column chart based on the pivot table\n",
      "    const chart = pivotSheet.charts.add(Excel.ChartType.columnClustered, pivotTable.getRange(), Excel.ChartSeriesBy.auto);\n",
      "    chart.title.text = \"Revenue of each product\";\n",
      "    chart.legend.setVisible(false);\n",
      "\n",
      "    await context.sync();\n",
      "  });\n",
      "}\n",
      "\n",
      "/** Default helper for invoking an action and handling errors. */\n",
      "async function tryCatch(callback) {\n",
      "  try {\n",
      "    await callback();\n",
      "  } catch (error) {\n",
      "    // Note: In a production add-in, you'd want to notify the user through your add-in's UI.\n",
      "    console.error(error);\n",
      "  }\n",
      "}\n"
     ]
    }
   ],
   "source": [
    "with open(config_file, mode=\"r\") as file:\n",
    "    config = yaml.load(file, Loader=yaml.Loader)\n",
    "task_df = pd.read_excel(config['path']['task_path'], header=0)\n",
    "\n",
    "for index, row in task_df.iloc[:2].iterrows():\n",
    "    source_path = os.path.join(config['path']['source_path'], row['Sheet Name']+'.xlsx')\n",
    "    input_task = (\n",
    "        f\"Task: {row['Instructions']}\\n\"\n",
    "        f\"Context: {row['Context']}\\n\"\n",
    "        f\"Sheet State: {prompt.get_sheet_state(source_path)}\"\n",
    "    )\n",
    "    generated_js_code = LCEL_chain.invoke(input_task)\n",
    "    print(generated_js_code)\n",
    "\n",
    "    "
   ]
  },
  {
   "cell_type": "code",
   "execution_count": null,
   "id": "709c60e4",
   "metadata": {},
   "outputs": [],
   "source": []
  }
 ],
 "metadata": {
  "kernelspec": {
   "display_name": "llm_ss",
   "language": "python",
   "name": "python3"
  },
  "language_info": {
   "codemirror_mode": {
    "name": "ipython",
    "version": 3
   },
   "file_extension": ".py",
   "mimetype": "text/x-python",
   "name": "python",
   "nbconvert_exporter": "python",
   "pygments_lexer": "ipython3",
   "version": "3.10.14"
  }
 },
 "nbformat": 4,
 "nbformat_minor": 5
}
