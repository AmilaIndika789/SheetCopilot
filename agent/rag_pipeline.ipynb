{
 "cells": [
  {
   "cell_type": "markdown",
   "id": "a4aa386c",
   "metadata": {},
   "source": [
    "## Import required libraries and packages"
   ]
  },
  {
   "cell_type": "code",
   "execution_count": 1,
   "id": "d73d5526",
   "metadata": {},
   "outputs": [],
   "source": [
    "import os\n",
    "import yaml\n",
    "\n",
    "from langchain_community.document_loaders import UnstructuredHTMLLoader\n",
    "from langchain_openai import OpenAIEmbeddings\n",
    "from langchain_experimental.text_splitter import SemanticChunker\n",
    "from langchain_chroma import Chroma\n",
    "\n",
    "from langchain_core.prompts import ChatPromptTemplate, FewShotChatMessagePromptTemplate, MessagesPlaceholder\n",
    "from prompt import Prompt"
   ]
  },
  {
   "cell_type": "markdown",
   "id": "e1154caa",
   "metadata": {},
   "source": [
    "## Load HTML documents"
   ]
  },
  {
   "cell_type": "code",
   "execution_count": 2,
   "id": "5a503b33",
   "metadata": {},
   "outputs": [],
   "source": [
    "documents = []\n",
    "for filename in [\"excel.aggregationfunction.html\", \"excel.alloweditrange.html\"]:\n",
    "    html_loader = UnstructuredHTMLLoader(file_path=f\"../excel_js_api_docs/{filename}\")\n",
    "    document = html_loader.load()\n",
    "    documents.append(document[0])"
   ]
  },
  {
   "cell_type": "code",
   "execution_count": 3,
   "id": "a52c5001",
   "metadata": {},
   "outputs": [
    {
     "data": {
      "text/plain": [
       "[Document(metadata={'source': '../excel_js_api_docs/excel.aggregationfunction.html'}, page_content='Read in English\\n\\nNote\\n\\nAccess to this page requires authorization. You can try signing in or changing directories.\\n\\nAccess to this page requires authorization. You can try changing directories.\\n\\nExcel.AggregationFunction enum\\n\\nReference\\n\\nAggregation function for the DataPivotHierarchy.\\n\\nRemarks\\n\\n[ API set: ExcelApi 1.8 ]\\n\\nExamples\\n\\n// Link to full sample: https://raw.githubusercontent.com/OfficeDev/office-js-snippets/prod/samples/excel/38-pivottable/pivottable-filters-and-summaries.yaml\\r\\n\\r\\nasync function genericFunctionSwitch(functionType: Excel.AggregationFunction) {\\r\\n    await Excel.run(async (context) => {\\r\\n        const pivotTable = context.workbook.worksheets.getActiveWorksheet().pivotTables.getItem(\"Farm Sales\");\\r\\n        pivotTable.dataHierarchies.load(\"no-properties-needed\");\\r\\n        await context.sync();\\r\\n\\r\\n        pivotTable.dataHierarchies.items[0].summarizeBy = functionType;\\r\\n        pivotTable.dataHierarchies.items[1].summarizeBy = functionType;\\r\\n        await context.sync();\\r\\n    });\\r\\n}\\r\\n\\nFields\\n\\nautomatic = \"Automatic\" Excel will automatically select the aggregation based on the data items. [ API set: ExcelApi 1.8 ] average = \"Average\" Aggregate using the average of the data, equivalent to the AVERAGE function. [ API set: ExcelApi 1.8 ] count = \"Count\" Aggregate using the count of items in the data, equivalent to the COUNTA function. [ API set: ExcelApi 1.8 ] countNumbers = \"CountNumbers\" Aggregate using the count of numbers in the data, equivalent to the COUNT function. [ API set: ExcelApi 1.8 ] max = \"Max\" Aggregate using the maximum value of the data, equivalent to the MAX function. [ API set: ExcelApi 1.8 ] min = \"Min\" Aggregate using the minimum value of the data, equivalent to the MIN function. [ API set: ExcelApi 1.8 ] product = \"Product\" Aggregate using the product of the data, equivalent to the PRODUCT function. [ API set: ExcelApi 1.8 ] standardDeviation = \"StandardDeviation\" Aggregate using the standard deviation of the data, equivalent to the STDEV function. [ API set: ExcelApi 1.8 ] standardDeviationP = \"StandardDeviationP\" Aggregate using the standard deviation of the data, equivalent to the STDEVP function. [ API set: ExcelApi 1.8 ] sum = \"Sum\" Aggregate using the sum of the data, equivalent to the SUM function. [ API set: ExcelApi 1.8 ] unknown = \"Unknown\" Aggregation function is unknown or unsupported. [ API set: ExcelApi 1.8 ] variance = \"Variance\" Aggregate using the variance of the data, equivalent to the VAR function. [ API set: ExcelApi 1.8 ] varianceP = \"VarianceP\" Aggregate using the variance of the data, equivalent to the VARP function. [ API set: ExcelApi 1.8 ]\\n\\nCollaborate with us on GitHub\\n\\nThe source for this content can be found on GitHub, where you can also create and review issues and pull requests. For more information, see our contributor guide.\\n\\nOffice Add-ins\\n\\nOpen a documentation issue Provide product feedback'),\n",
       " Document(metadata={'source': '../excel_js_api_docs/excel.alloweditrange.html'}, page_content='Read in English\\n\\nNote\\n\\nAccess to this page requires authorization. You can try signing in or changing directories.\\n\\nAccess to this page requires authorization. You can try changing directories.\\n\\nExcel.AllowEditRange class\\n\\nReference\\n\\nRepresents an AllowEditRange object found in a worksheet. This object works with worksheet protection properties. When worksheet protection is enabled, an AllowEditRange object can be used to allow editing of a specific range, while maintaining protection on the rest of the worksheet.\\n\\nRemarks\\n\\n[ API set: ExcelApiOnline 1.1 ]\\n\\nProperties\\n\\naddress Specifies the range associated with the object. Worksheet protection must be disabled or paused for this method to work properly. If worksheet protection is enabled and not paused, this method throws an AccessDenied error and fails to set the range. context The request context associated with the object. This connects the add-in\\'s process to the Office host application\\'s process. is Password Protected Specifies if the object is password protected. title Specifies the title of the object. Worksheet protection must be disabled or paused for this method to work properly. If worksheet protection is enabled and not paused, this method throws an AccessDenied error and fails to set the title. If there is already an existing AllowEditRange with the same string, or if the string is null or empty (\"\"), then this method throws an InvalidArgument error and fails to set the title.\\n\\nMethods\\n\\ndelete() Deletes the object from the AllowEditRangeCollection . Worksheet protection must be disabled or paused for this method to work properly. If worksheet protection is enabled and not paused, this method throws an AccessDenied error and fails the delete operation. load(options) Queues up a command to load the specified properties of the object. You must call context.sync() before reading the properties. load(property Names) Queues up a command to load the specified properties of the object. You must call context.sync() before reading the properties. load(property Names And Paths) Queues up a command to load the specified properties of the object. You must call context.sync() before reading the properties. pause Protection(password) Pauses worksheet protection for the object for the user in the current session. This method does nothing if worksheet protection isn\\'t enabled or is already paused. If worksheet protection cannot be paused, this method throws an UnsupportedOperation error and fails to pause protection for the object. If the password is incorrect, then this method throws a BadPassword error and fails to pause protection for the object. If a password is supplied but the object does not require a password, the inputted password will be ignored and the operation will succeed. set(properties, options) Sets multiple properties of an object at the same time. You can pass either a plain object with the appropriate properties, or another API object of the same type. set(properties) Sets multiple properties on the object at the same time, based on an existing loaded object. set Password(password) Changes the password associated with the object. Setting the password string as empty (\"\") or null will remove password protection from the object. Worksheet protection must be disabled or paused for this method to work properly. If worksheet protection is enabled and not paused, then this method throws an AccessDenied error and the set operation fails. toJSON() Overrides the JavaScript toJSON() method in order to provide more useful output when an API object is passed to JSON.stringify() . ( JSON.stringify , in turn, calls the toJSON method of the object that\\'s passed to it.) Whereas the original Excel.AllowEditRange object is an API object, the toJSON method returns a plain JavaScript object (typed as Excel.Interfaces.AllowEditRangeData ) that contains shallow copies of any loaded child properties from the original object.\\n\\nProperty Details\\n\\naddress\\n\\nSpecifies the range associated with the object. Worksheet protection must be disabled or paused for this method to work properly. If worksheet protection is enabled and not paused, this method throws an AccessDenied error and fails to set the range.\\n\\naddress: string;\\n\\nProperty Value\\n\\nstring\\n\\nRemarks\\n\\n[ API set: ExcelApiOnline 1.1 ]\\n\\ncontext\\n\\nThe request context associated with the object. This connects the add-in\\'s process to the Office host application\\'s process.\\n\\ncontext: RequestContext;\\n\\nProperty Value\\n\\nExcel.RequestContext\\n\\nisPasswordProtected\\n\\nSpecifies if the object is password protected.\\n\\nreadonly isPasswordProtected: boolean;\\n\\nProperty Value\\n\\nboolean\\n\\nRemarks\\n\\n[ API set: ExcelApiOnline 1.1 ]\\n\\ntitle\\n\\nSpecifies the title of the object. Worksheet protection must be disabled or paused for this method to work properly. If worksheet protection is enabled and not paused, this method throws an AccessDenied error and fails to set the title. If there is already an existing AllowEditRange with the same string, or if the string is null or empty (\"\"), then this method throws an InvalidArgument error and fails to set the title.\\n\\ntitle: string;\\n\\nProperty Value\\n\\nstring\\n\\nRemarks\\n\\n[ API set: ExcelApiOnline 1.1 ]\\n\\nMethod Details\\n\\ndelete()\\n\\nDeletes the object from the AllowEditRangeCollection. Worksheet protection must be disabled or paused for this method to work properly. If worksheet protection is enabled and not paused, this method throws an AccessDenied error and fails the delete operation.\\n\\ndelete(): void;\\n\\nReturns\\n\\nvoid\\n\\nRemarks\\n\\n[ API set: ExcelApiOnline 1.1 ]\\n\\nload(options)\\n\\nQueues up a command to load the specified properties of the object. You must call context.sync() before reading the properties.\\n\\nload(options?: Excel.Interfaces.AllowEditRangeLoadOptions): Excel.AllowEditRange;\\n\\nParameters\\n\\nProvides options for which properties of the object to load.\\n\\nReturns\\n\\nExcel.AllowEditRange\\n\\nload(propertyNames)\\n\\nQueues up a command to load the specified properties of the object. You must call context.sync() before reading the properties.\\n\\nload(propertyNames?: string | string[]): Excel.AllowEditRange;\\n\\nParameters\\n\\nA comma-delimited string or an array of strings that specify the properties to load.\\n\\nReturns\\n\\nExcel.AllowEditRange\\n\\nload(propertyNamesAndPaths)\\n\\nQueues up a command to load the specified properties of the object. You must call context.sync() before reading the properties.\\n\\nload(propertyNamesAndPaths?: {\\r\\n            select?: string;\\r\\n            expand?: string;\\r\\n        }): Excel.AllowEditRange;\\n\\nParameters\\n\\npropertyNamesAndPaths.select is a comma-delimited string that specifies the properties to load, and propertyNamesAndPaths.expand is a comma-delimited string that specifies the navigation properties to load.\\n\\nReturns\\n\\nExcel.AllowEditRange\\n\\npauseProtection(password)\\n\\nPauses worksheet protection for the object for the user in the current session. This method does nothing if worksheet protection isn\\'t enabled or is already paused. If worksheet protection cannot be paused, this method throws an UnsupportedOperation error and fails to pause protection for the object. If the password is incorrect, then this method throws a BadPassword error and fails to pause protection for the object. If a password is supplied but the object does not require a password, the inputted password will be ignored and the operation will succeed.\\n\\npauseProtection(password?: string): void;\\n\\nParameters\\n\\nThe password associated with the AllowEditRange object.\\n\\nReturns\\n\\nvoid\\n\\nRemarks\\n\\n[ API set: ExcelApiOnline 1.1 ]\\n\\nset(properties, options)\\n\\nSets multiple properties of an object at the same time. You can pass either a plain object with the appropriate properties, or another API object of the same type.\\n\\nset(properties: Interfaces.AllowEditRangeUpdateData, options?: OfficeExtension.UpdateOptions): void;\\n\\nParameters\\n\\nA JavaScript object with properties that are structured isomorphically to the properties of the object on which the method is called.\\n\\nProvides an option to suppress errors if the properties object tries to set any read-only properties.\\n\\nReturns\\n\\nvoid\\n\\nset(properties)\\n\\nSets multiple properties on the object at the same time, based on an existing loaded object.\\n\\nset(properties: Excel.AllowEditRange): void;\\n\\nParameters\\n\\nReturns\\n\\nvoid\\n\\nsetPassword(password)\\n\\nChanges the password associated with the object. Setting the password string as empty (\"\") or null will remove password protection from the object. Worksheet protection must be disabled or paused for this method to work properly. If worksheet protection is enabled and not paused, then this method throws an AccessDenied error and the set operation fails.\\n\\nsetPassword(password?: string): void;\\n\\nParameters\\n\\nThe password associated with the AllowEditRange object.\\n\\nReturns\\n\\nvoid\\n\\nRemarks\\n\\n[ API set: ExcelApiOnline 1.1 ]\\n\\ntoJSON()\\n\\nOverrides the JavaScript toJSON() method in order to provide more useful output when an API object is passed to JSON.stringify(). (JSON.stringify, in turn, calls the toJSON method of the object that\\'s passed to it.) Whereas the original Excel.AllowEditRange object is an API object, the toJSON method returns a plain JavaScript object (typed as Excel.Interfaces.AllowEditRangeData) that contains shallow copies of any loaded child properties from the original object.\\n\\ntoJSON(): Excel.Interfaces.AllowEditRangeData;\\n\\nReturns\\n\\nExcel.Interfaces.AllowEditRangeData\\n\\nCollaborate with us on GitHub\\n\\nThe source for this content can be found on GitHub, where you can also create and review issues and pull requests. For more information, see our contributor guide.\\n\\nOffice Add-ins\\n\\nOpen a documentation issue Provide product feedback')]"
      ]
     },
     "execution_count": 3,
     "metadata": {},
     "output_type": "execute_result"
    }
   ],
   "source": [
    "documents"
   ]
  },
  {
   "cell_type": "markdown",
   "id": "8735c2e0",
   "metadata": {},
   "source": [
    "## Split Document texts"
   ]
  },
  {
   "cell_type": "code",
   "execution_count": 4,
   "id": "cb7a0b7a",
   "metadata": {},
   "outputs": [],
   "source": [
    "embeddings = OpenAIEmbeddings(\n",
    "    api_key=os.environ[\"OPENAI_API_KEY\"], model=\"text-embedding-3-small\"\n",
    ")"
   ]
  },
  {
   "cell_type": "code",
   "execution_count": 5,
   "id": "2c5ae120",
   "metadata": {},
   "outputs": [],
   "source": [
    "semantic_splitter = SemanticChunker(\n",
    "    embeddings=embeddings,\n",
    "    breakpoint_threshold_type=\"gradient\",\n",
    "    breakpoint_threshold_amount=0.8,\n",
    ")"
   ]
  },
  {
   "cell_type": "code",
   "execution_count": 6,
   "id": "faa82b8f",
   "metadata": {},
   "outputs": [],
   "source": [
    "chunks = semantic_splitter.split_documents(documents)"
   ]
  },
  {
   "cell_type": "markdown",
   "id": "4e558f5f",
   "metadata": {},
   "source": [
    "## Embed splitted chunks"
   ]
  },
  {
   "cell_type": "code",
   "execution_count": 7,
   "id": "8dc45da1",
   "metadata": {},
   "outputs": [],
   "source": [
    "embedding_model = OpenAIEmbeddings(\n",
    "    api_key=os.environ[\"OPENAI_API_KEY\"], model=\"text-embedding-3-small\"\n",
    ")"
   ]
  },
  {
   "cell_type": "markdown",
   "id": "52b27020",
   "metadata": {},
   "source": [
    "## Store embeddings in a vector database"
   ]
  },
  {
   "cell_type": "code",
   "execution_count": 8,
   "id": "2fad9fa4",
   "metadata": {},
   "outputs": [],
   "source": [
    "vector_store = Chroma.from_documents(documents=chunks, embedding=embedding_model)"
   ]
  },
  {
   "cell_type": "markdown",
   "id": "9048b0d7",
   "metadata": {},
   "source": [
    "## Retriever"
   ]
  },
  {
   "cell_type": "code",
   "execution_count": 9,
   "id": "76838e3a",
   "metadata": {},
   "outputs": [],
   "source": [
    "retriever = vector_store.as_retriever(\n",
    "    search_type=\"similarity\",\n",
    "    search_kwargs={\"k\": 10}\n",
    ")"
   ]
  },
  {
   "cell_type": "markdown",
   "id": "79562726",
   "metadata": {},
   "source": [
    "## Get sheet state"
   ]
  },
  {
   "cell_type": "code",
   "execution_count": 10,
   "id": "6026b6ba",
   "metadata": {},
   "outputs": [],
   "source": [
    "config_file = \"./config/config.yaml\"\n",
    "agent_name = \"gpt-4o-mini\"\n",
    "model_name = \"gpt-4o-mini\"\n",
    "few_shot_count = 2"
   ]
  },
  {
   "cell_type": "code",
   "execution_count": 11,
   "id": "c72f60b9",
   "metadata": {},
   "outputs": [],
   "source": [
    "def set_agent_configuration(configuration_file_path, agent_name):\n",
    "    with open(configuration_file_path, mode=\"r\") as file:\n",
    "        config = yaml.load(file, Loader=yaml.Loader)\n",
    "\n",
    "    agent_config = config[\"Agent\"]\n",
    "    return agent_config"
   ]
  },
  {
   "cell_type": "code",
   "execution_count": 12,
   "id": "4dce7aab",
   "metadata": {},
   "outputs": [],
   "source": [
    "agent_config = set_agent_configuration(\n",
    "    configuration_file_path=config_file, agent_name=agent_name\n",
    ")\n",
    "prompt = Prompt(\n",
    "    agent_configuration=agent_config,\n",
    "    agent_name=agent_name,\n",
    "    model_name=model_name,\n",
    "    few_shot_count=few_shot_count,\n",
    ")"
   ]
  },
  {
   "cell_type": "code",
   "execution_count": 13,
   "id": "83e5c227",
   "metadata": {},
   "outputs": [],
   "source": [
    "sheet_state = prompt.get_sheet_state(\"../JS_Excel_files/EntireShippingCosts.xlsx\")"
   ]
  },
  {
   "cell_type": "markdown",
   "id": "50f246b7",
   "metadata": {},
   "source": [
    "## Get JavaScript code answers"
   ]
  },
  {
   "cell_type": "code",
   "execution_count": 14,
   "id": "660490a1",
   "metadata": {},
   "outputs": [],
   "source": [
    "def read_js_file(file_path):\n",
    "    with open(file_path, 'r') as file:\n",
    "        return file.read()"
   ]
  },
  {
   "cell_type": "code",
   "execution_count": 15,
   "id": "87e3f975",
   "metadata": {},
   "outputs": [],
   "source": [
    "task_10_js_code = read_js_file(\"../JS_Excel_files/task_10.js\")\n",
    "task_11_js_code = read_js_file(\"../JS_Excel_files/task_11.js\")"
   ]
  },
  {
   "cell_type": "markdown",
   "id": "fd5dbcbf",
   "metadata": {},
   "source": [
    "## Few shot prompt"
   ]
  },
  {
   "cell_type": "code",
   "execution_count": 16,
   "id": "cb1088cb",
   "metadata": {},
   "outputs": [],
   "source": [
    "few_shot_examples = [\n",
    "    {\n",
    "        \"input\": f\"Duplicate the first 10 rows in Sheet1 in Sheet2. \\n Sheet state: {sheet_state}\", \n",
    "        \"output\": f\"{task_10_js_code}\"\n",
    "    },\n",
    "    {\n",
    "        \"input\": f\"Display only the rows where the distances to Milwaukee are less than 2000 miles. \\n Sheet state: {sheet_state}\", \n",
    "        \"output\": f\"{task_11_js_code}\"\n",
    "    },\n",
    "]"
   ]
  },
  {
   "cell_type": "code",
   "execution_count": 17,
   "id": "4799daf7",
   "metadata": {},
   "outputs": [],
   "source": [
    "example_prompt = ChatPromptTemplate.from_messages([\n",
    "    (\"human\", \"{input}\"), \n",
    "    (\"ai\", \"{output}\"),\n",
    "])"
   ]
  },
  {
   "cell_type": "code",
   "execution_count": 18,
   "id": "c3203eb1",
   "metadata": {},
   "outputs": [],
   "source": [
    "few_shot_prompt = FewShotChatMessagePromptTemplate(\n",
    "    example_prompt=example_prompt,\n",
    "    examples=few_shot_examples,\n",
    ")"
   ]
  },
  {
   "cell_type": "markdown",
   "id": "43e46c5a",
   "metadata": {},
   "source": [
    "## Final Prompt"
   ]
  },
  {
   "cell_type": "code",
   "execution_count": 19,
   "id": "dcd55275",
   "metadata": {},
   "outputs": [],
   "source": [
    "user_input = (\n",
    "    \"\\n\"\n",
    "    \"excel_js_api: {excel_js_api}\\n\"\n",
    "    \"input: {input}\\n\"\n",
    ")"
   ]
  },
  {
   "cell_type": "code",
   "execution_count": 20,
   "id": "876af4b4",
   "metadata": {},
   "outputs": [],
   "source": [
    "system_message = (\n",
    "    \"You are a JavaScript, TypeScript, and Excel expert.\\n\"\n",
    "    \"Generate the TypeScript code to manipulate Excel using Excel JavaScript API for each given task.\\n\"\n",
    "    \"The Excel sheet state is provided.\\n\"\n",
    ")"
   ]
  },
  {
   "cell_type": "code",
   "execution_count": 21,
   "id": "b98b218e",
   "metadata": {},
   "outputs": [],
   "source": [
    "final_prompt = ChatPromptTemplate.from_messages(\n",
    "    [\n",
    "        (\"system\", system_message),\n",
    "        few_shot_prompt,\n",
    "        (\"human\", user_input)\n",
    "    ]\n",
    ")"
   ]
  },
  {
   "cell_type": "code",
   "execution_count": 22,
   "id": "3a00b740",
   "metadata": {},
   "outputs": [
    {
     "name": "stdout",
     "output_type": "stream",
     "text": [
      "System: You are a JavaScript, TypeScript, and Excel expert.\n",
      "Generate the TypeScript code to manipulate Excel using Excel JavaScript API for each given task.\n",
      "The Excel sheet state is provided.\n",
      "\n",
      "Human: Duplicate the first 10 rows in Sheet1 in Sheet2. \n",
      " Sheet state: Sheet state: Sheet \"Sheet1\" has 5 columns (Headers are A: \"Customers\", B: \"Seattle\", C: \"Milwaukee\", D: \"Birmingham\", E: \"Oakland\") and 71 rows (1 header row and 70 data rows).\n",
      "AI: $(\"#run\").on(\"click\", () => tryCatch(run));\n",
      "\n",
      "async function run() {\n",
      "  await Excel.run(async (context) => {\n",
      "    let sheets = context.workbook.worksheets;\n",
      "    let sheet1 = sheets.getItem(\"Sheet1\");\n",
      "\n",
      "    sheet1.load(\"position\"); // Load the position of Sheet1\n",
      "\n",
      "    await context.sync(); // Sync before using loaded properties\n",
      "\n",
      "    // Add a new sheet\n",
      "    let sheet2 = sheets.add(\"Sheet2\");\n",
      "    sheet2.position = sheet1.position; // Insert before Sheet1\n",
      "\n",
      "    // Copy headers\n",
      "    let headers = sheet1.getRange(\"A1:E1\");\n",
      "    sheet2.getRange(\"A1:E1\").copyFrom(headers);\n",
      "\n",
      "    // Copy remaining 9 rows\n",
      "    let remainingNineRows = sheet1.getRange(\"A2:E10\");\n",
      "    sheet2.getRange(\"A2:E10\").copyFrom(remainingNineRows);\n",
      "\n",
      "    await context.sync();\n",
      "  }).catch((error) => {\n",
      "    console.error(error);\n",
      "  });\n",
      "}\n",
      "\n",
      "/** Default helper for invoking an action and handling errors. */\n",
      "async function tryCatch(callback) {\n",
      "  try {\n",
      "    await callback();\n",
      "  } catch (error) {\n",
      "    // Note: In a production add-in, you'd want to notify the user through your add-in's UI.\n",
      "    console.error(error);\n",
      "  }\n",
      "}\n",
      "\n",
      "Human: Display only the rows where the distances to Milwaukee are less than 2000 miles. \n",
      " Sheet state: Sheet state: Sheet \"Sheet1\" has 5 columns (Headers are A: \"Customers\", B: \"Seattle\", C: \"Milwaukee\", D: \"Birmingham\", E: \"Oakland\") and 71 rows (1 header row and 70 data rows).\n",
      "AI: $(\"#run\").on(\"click\", () => tryCatch(run));\n",
      "\n",
      "async function run() {\n",
      "  await Excel.run(async (context) => {\n",
      "    const sheet = context.workbook.worksheets.getActiveWorksheet();\n",
      "    let range = sheet.getUsedRange();\n",
      "    sheet.autoFilter.apply(range, 2, {\n",
      "      criterion1: \"<2000\",\n",
      "      filterOn: Excel.FilterOn.custom\n",
      "    });\n",
      "\n",
      "    await context.sync();\n",
      "  });\n",
      "}\n",
      "\n",
      "/** Default helper for invoking an action and handling errors. */\n",
      "async function tryCatch(callback) {\n",
      "  try {\n",
      "    await callback();\n",
      "  } catch (error) {\n",
      "    // Note: In a production add-in, you'd want to notify the user through your add-in's UI.\n",
      "    console.error(error);\n",
      "  }\n",
      "}\n",
      "\n",
      "Human: \n",
      "excel_js_api: HTML docs\n",
      "input: What is 5+6?\n",
      "\n"
     ]
    }
   ],
   "source": [
    "print(final_prompt.format(input=\"What is 5+6?\", excel_js_api=\"HTML docs\"))"
   ]
  },
  {
   "cell_type": "code",
   "execution_count": null,
   "id": "81606070",
   "metadata": {},
   "outputs": [],
   "source": []
  }
 ],
 "metadata": {
  "kernelspec": {
   "display_name": "llm_ss",
   "language": "python",
   "name": "python3"
  },
  "language_info": {
   "codemirror_mode": {
    "name": "ipython",
    "version": 3
   },
   "file_extension": ".py",
   "mimetype": "text/x-python",
   "name": "python",
   "nbconvert_exporter": "python",
   "pygments_lexer": "ipython3",
   "version": "3.10.14"
  }
 },
 "nbformat": 4,
 "nbformat_minor": 5
}
