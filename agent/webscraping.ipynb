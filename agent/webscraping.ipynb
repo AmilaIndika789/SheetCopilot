{
 "cells": [
  {
   "cell_type": "code",
   "execution_count": 1,
   "metadata": {},
   "outputs": [],
   "source": [
    "from bs4 import BeautifulSoup\n",
    "import requests\n",
    "from tqdm import tqdm\n",
    "import time"
   ]
  },
  {
   "cell_type": "code",
   "execution_count": 2,
   "metadata": {},
   "outputs": [],
   "source": [
    "EXCEL_JS_API_BASE_URL = f\"https://learn.microsoft.com/en-us/javascript/api\""
   ]
  },
  {
   "cell_type": "code",
   "execution_count": 3,
   "metadata": {},
   "outputs": [],
   "source": [
    "start_url = f\"{EXCEL_JS_API_BASE_URL}/excel?view=excel-js-preview\"\n",
    "page = requests.get(url=start_url)"
   ]
  },
  {
   "cell_type": "code",
   "execution_count": 4,
   "metadata": {},
   "outputs": [],
   "source": [
    "soup = BeautifulSoup(page.content, \"html.parser\")\n",
    "function_URLs = []\n",
    "for a_tag_link in soup.find_all(\"a\", href=True):\n",
    "    if a_tag_link[\"href\"][0:11] == \"excel/excel\":\n",
    "        function_URLs.append(f\"{EXCEL_JS_API_BASE_URL}/{a_tag_link['href']}\")"
   ]
  },
  {
   "cell_type": "code",
   "execution_count": 5,
   "metadata": {},
   "outputs": [],
   "source": [
    "all_URLs = [start_url] + function_URLs"
   ]
  },
  {
   "cell_type": "code",
   "execution_count": 6,
   "metadata": {},
   "outputs": [
    {
     "name": "stderr",
     "output_type": "stream",
     "text": [
      "1129it [1:07:01,  3.56s/it]\n"
     ]
    }
   ],
   "source": [
    "filenames = [url.split(\"/\")[-1].split(\"?\")[0] for url in all_URLs]\n",
    "try:\n",
    "    for filename, url in tqdm(zip(filenames, all_URLs)):\n",
    "        response = requests.get(url)\n",
    "        response.raise_for_status()\n",
    "        html_content = response.text\n",
    "        savepath = f\"../excel_js_api_docs/{filename}.html\"\n",
    "        with open(file=savepath, mode=\"w\", encoding=\"utf-8\") as html_file:\n",
    "            html_file.write(html_content)\n",
    "        time.sleep(3)\n",
    "except Exception as e:\n",
    "    print(f\"An error occured: {e}\")\n"
   ]
  },
  {
   "cell_type": "code",
   "execution_count": null,
   "metadata": {},
   "outputs": [],
   "source": []
  }
 ],
 "metadata": {
  "kernelspec": {
   "display_name": "llm_ss",
   "language": "python",
   "name": "python3"
  },
  "language_info": {
   "codemirror_mode": {
    "name": "ipython",
    "version": 3
   },
   "file_extension": ".py",
   "mimetype": "text/x-python",
   "name": "python",
   "nbconvert_exporter": "python",
   "pygments_lexer": "ipython3",
   "version": "3.10.14"
  }
 },
 "nbformat": 4,
 "nbformat_minor": 2
}
