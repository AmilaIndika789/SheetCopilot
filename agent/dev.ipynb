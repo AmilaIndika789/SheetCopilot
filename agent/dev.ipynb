{
 "cells": [
  {
   "cell_type": "markdown",
   "metadata": {},
   "source": [
    "## Import required libraries and packages"
   ]
  },
  {
   "cell_type": "code",
   "execution_count": 6,
   "metadata": {},
   "outputs": [],
   "source": [
    "import yaml\n",
    "import os\n",
    "import pathlib\n",
    "import time\n",
    "from Agent.xwAPI import xwBackend\n",
    "from utils.construct_prompt import get_api_doc\n",
    "from utils.ChatGPT import ChatGPT"
   ]
  },
  {
   "cell_type": "markdown",
   "metadata": {},
   "source": [
    "## Helper functions"
   ]
  },
  {
   "cell_type": "code",
   "execution_count": 7,
   "metadata": {},
   "outputs": [],
   "source": [
    "def set_agent_configuration(configuration_file_path):\n",
    "    with open(configuration_file_path, mode=\"r\") as file:\n",
    "        config = yaml.load(file, Loader=yaml.Loader)\n",
    "\n",
    "    agent_config = config[\"Agent\"]\n",
    "    agent_config[\"ChatGPT_1\"][\"api_keys\"] = [os.environ[\"OPENAI_API_KEY\"]]\n",
    "    return agent_config"
   ]
  },
  {
   "cell_type": "code",
   "execution_count": 8,
   "metadata": {},
   "outputs": [],
   "source": [
    "def get_api_documentation(agent_config):\n",
    "    with open(agent_config[\"api_doc_path\"]) as f:\n",
    "        api_doc = yaml.load(f, Loader=yaml.FullLoader)\n",
    "    return api_doc"
   ]
  },
  {
   "cell_type": "code",
   "execution_count": 4,
   "metadata": {},
   "outputs": [],
   "source": [
    "def get_excel_backend(agent_config, api_doc):\n",
    "    if agent_config[\"API_backend\"] == \"xw\":\n",
    "        xw_backend = xwBackend(agent_config[\"APP_backend\"], api_doc)\n",
    "    return xw_backend"
   ]
  },
  {
   "cell_type": "code",
   "execution_count": 5,
   "metadata": {},
   "outputs": [],
   "source": [
    "def create_path_generator(file_path):\n",
    "    return pathlib.Path(f\"{file_path}\").glob(\"**/*\")"
   ]
  },
  {
   "cell_type": "code",
   "execution_count": 6,
   "metadata": {},
   "outputs": [],
   "source": [
    "def get_source_excel_filenames(path_generator):\n",
    "    response_log_paths = [\n",
    "        str(path).split(\"\\\\\")[-1] for path in path_generator if path.is_file()\n",
    "    ]\n",
    "    return [f\"{log_file[2:-5]}.xlsx\" for log_file in response_log_paths]"
   ]
  },
  {
   "cell_type": "code",
   "execution_count": 7,
   "metadata": {},
   "outputs": [],
   "source": [
    "def get_sheet_state(file_path, backend):\n",
    "    if file_path is not None:\n",
    "        time.sleep(0.5)\n",
    "        backend.OpenWorkbook(file_path)\n",
    "\n",
    "    return backend.GetSheetsState()"
   ]
  },
  {
   "cell_type": "code",
   "execution_count": 8,
   "metadata": {},
   "outputs": [],
   "source": [
    "def extract_docs_for_input_functions(input_file_path, agent_config, api_doc):\n",
    "    with open(input_file_path) as file:\n",
    "        input_functions = yaml.load(file, Loader=yaml.Loader)\n",
    "    prompt_format = agent_config[\"ChatGPT_1\"][\"prompt_format\"]\n",
    "    api_list, api_usage, api_detail_doc = get_api_doc(prompt_format, api_doc)\n",
    "    # Filter upto first open paranthesis\n",
    "    unique_function_names = set(\n",
    "        [\n",
    "            function[: function.find(\"(\")]\n",
    "            for function in input_functions[\"refined_response\"]\n",
    "        ]\n",
    "    )\n",
    "    documentation_for_functions = [\n",
    "        api_detail_doc[name] for name in unique_function_names\n",
    "    ]\n",
    "    return documentation_for_functions"
   ]
  },
  {
   "cell_type": "code",
   "execution_count": 9,
   "metadata": {},
   "outputs": [],
   "source": [
    "def get_input_functions(input_file_path):\n",
    "    with open(input_file_path) as file:\n",
    "        input_functions = yaml.load(file, Loader=yaml.Loader)\n",
    "    return yaml.dump(input_functions[\"refined_response\"])"
   ]
  },
  {
   "cell_type": "code",
   "execution_count": null,
   "metadata": {},
   "outputs": [],
   "source": [
    "def get_correct_summarization(correct_file_path):\n",
    "    with open(correct_file_path) as file:\n",
    "        correct_summarizations = yaml.load(file, Loader=yaml.Loader)\n",
    "    return yaml.dump(correct_summarizations[\"intermediate response\"])"
   ]
  },
  {
   "cell_type": "markdown",
   "metadata": {},
   "source": [
    "## Setup and Initializations"
   ]
  },
  {
   "cell_type": "code",
   "execution_count": null,
   "metadata": {},
   "outputs": [],
   "source": [
    "CONFIG_FILE = \"./config/config.yaml\""
   ]
  },
  {
   "cell_type": "code",
   "execution_count": null,
   "metadata": {},
   "outputs": [],
   "source": [
    "agent_config = set_agent_configuration(configuration_file_path=CONFIG_FILE)\n",
    "api_doc = get_api_documentation(agent_config=agent_config)\n",
    "xw_backend = get_excel_backend(agent_config=agent_config, api_doc=api_doc)"
   ]
  },
  {
   "cell_type": "code",
   "execution_count": null,
   "metadata": {},
   "outputs": [],
   "source": [
    "path_generator = create_path_generator(file_path=\"../output_dir/refined_responses/\")\n",
    "input_file_paths = [str(path) for path in path_generator]\n",
    "# input_file_paths"
   ]
  },
  {
   "cell_type": "code",
   "execution_count": null,
   "metadata": {},
   "outputs": [],
   "source": [
    "path_generator = create_path_generator(file_path=\"../output_dir/refined_responses/\")\n",
    "excel_file_names = get_source_excel_filenames(path_generator=path_generator)\n",
    "excel_file_paths = [\n",
    "    f\"../dataset/task_sheets/{file_name}\" for file_name in excel_file_names\n",
    "]\n",
    "# excel_file_paths"
   ]
  },
  {
   "cell_type": "markdown",
   "metadata": {},
   "source": [
    "## Example for One-shot Learning"
   ]
  },
  {
   "cell_type": "code",
   "execution_count": null,
   "metadata": {},
   "outputs": [],
   "source": [
    "example_index = 0\n",
    "example_src_file_path = excel_file_paths[example_index]\n",
    "example_input_file_path = input_file_paths[example_index]\n",
    "# example_src_file_path, example_input_file_path"
   ]
  },
  {
   "cell_type": "code",
   "execution_count": 16,
   "metadata": {},
   "outputs": [],
   "source": [
    "path_generator = create_path_generator(\n",
    "    file_path=\"../output_dir/intermediate_responses/\"\n",
    ")\n",
    "correct_response_file_paths = [str(path) for path in path_generator]\n",
    "# correct_response_file_paths"
   ]
  },
  {
   "cell_type": "code",
   "execution_count": null,
   "metadata": {},
   "outputs": [],
   "source": [
    "example_correct_file_path = correct_response_file_paths[example_index]\n",
    "# example_correct_file_path"
   ]
  },
  {
   "cell_type": "code",
   "execution_count": 18,
   "metadata": {},
   "outputs": [],
   "source": [
    "example_sheet_state = get_sheet_state(\n",
    "    file_path=example_src_file_path, backend=xw_backend\n",
    ")\n",
    "# example_sheet_state"
   ]
  },
  {
   "cell_type": "markdown",
   "metadata": {},
   "source": [
    "## Test set (except one-shot example)"
   ]
  },
  {
   "cell_type": "code",
   "execution_count": null,
   "metadata": {},
   "outputs": [],
   "source": [
    "test_index = 2\n",
    "test_input_file_path = input_file_paths[test_index]\n",
    "test_src_file_path = excel_file_paths[test_index]\n",
    "# test_input_file_path, test_src_file_path"
   ]
  },
  {
   "cell_type": "code",
   "execution_count": 20,
   "metadata": {},
   "outputs": [
    {
     "data": {
      "text/plain": [
       "'\\nSYSTEM\\nSummarize the each sub-step of instructions into explanations in natural language. Be brief and do not provide verbose explanations.\\n\\nUSER\\n{input_example}\\nHere is the supplementary documentation you can reference:\\n{documentation_example}\\nHere is the corresponding sheet state:\\n{sheet_state_example}\\n\\nASSISTANT\\n{correct_example}\\n\\nUSER\\n{actual_input}\\nHere is the supplementary documentation you can reference:\\n{actual_documentation}\\nHere is the corresponding sheet state:\\n{actual_sheet_state}\\n'"
      ]
     },
     "execution_count": 20,
     "metadata": {},
     "output_type": "execute_result"
    }
   ],
   "source": [
    "prompt = \"\"\"\n",
    "SYSTEM\n",
    "Summarize the each sub-step of instructions into explanations in natural language. Be brief and do not provide verbose explanations.\n",
    "\n",
    "USER\n",
    "{input_example}\n",
    "Here is the supplementary documentation you can reference:\n",
    "{documentation_example}\n",
    "Here is the corresponding sheet state:\n",
    "{sheet_state_example}\n",
    "\n",
    "ASSISTANT\n",
    "{correct_example}\n",
    "\n",
    "USER\n",
    "{actual_input}\n",
    "Here is the supplementary documentation you can reference:\n",
    "{actual_documentation}\n",
    "Here is the corresponding sheet state:\n",
    "{actual_sheet_state}\n",
    "\"\"\"\n",
    "prompt"
   ]
  },
  {
   "cell_type": "code",
   "execution_count": 21,
   "metadata": {},
   "outputs": [],
   "source": [
    "prompt = prompt.format(\n",
    "    input_example=get_input_functions(example_input_file_path),\n",
    "    documentation_example=extract_docs_for_input_functions(\n",
    "        input_file_path=example_input_file_path,\n",
    "        agent_config=agent_config,\n",
    "        api_doc=api_doc,\n",
    "    ),\n",
    "    correct_example=get_correct_summarization(\n",
    "        correct_file_path=example_correct_file_path\n",
    "    ),\n",
    "    sheet_state_example=get_sheet_state(\n",
    "        file_path=example_src_file_path, backend=xw_backend\n",
    "    ),\n",
    "    actual_input=get_input_functions(test_input_file_path),\n",
    "    actual_documentation=extract_docs_for_input_functions(\n",
    "        input_file_path=test_input_file_path, agent_config=agent_config, api_doc=api_doc\n",
    "    ),\n",
    "    actual_sheet_state=get_sheet_state(\n",
    "        file_path=test_src_file_path, backend=xw_backend\n",
    "    ),\n",
    ")\n",
    "# print(prompt)"
   ]
  },
  {
   "cell_type": "code",
   "execution_count": 22,
   "metadata": {},
   "outputs": [],
   "source": [
    "async def call_chat_gpt():\n",
    "    try:\n",
    "        chatbot = ChatGPT(agent_config[\"ChatGPT_1\"], context=[], interaction_mode=True)\n",
    "        response = await chatbot(prompt)\n",
    "    except Exception as e:\n",
    "        print(f\"error occurs when parsing response: {e}\")\n",
    "    else:\n",
    "        return response"
   ]
  },
  {
   "cell_type": "code",
   "execution_count": null,
   "metadata": {},
   "outputs": [],
   "source": [
    "response = await call_chat_gpt()"
   ]
  },
  {
   "cell_type": "code",
   "execution_count": 24,
   "metadata": {},
   "outputs": [
    {
     "name": "stdout",
     "output_type": "stream",
     "text": [
      "- Step 1. Write \"Future Value\" in cell F1 to label the new column.\n",
      "- Step 2. Write a formula in cell F2 to calculate the future value based on the present value, interest rate, and compounding periods.\n",
      "- Step 3. AutoFill the formula from F2 down to F5 to apply it to the other rows in the column.\n"
     ]
    }
   ],
   "source": [
    "print(response)"
   ]
  },
  {
   "cell_type": "code",
   "execution_count": 25,
   "metadata": {},
   "outputs": [
    {
     "data": {
      "text/plain": [
       "['- Step 1. Write \"Future Value\" in cell F1 to label the new column.',\n",
       " '- Step 2. Write a formula in cell F2 to calculate the future value based on the present value, interest rate, and compounding periods.',\n",
       " '- Step 3. AutoFill the formula from F2 down to F5 to apply it to the other rows in the column.']"
      ]
     },
     "execution_count": 25,
     "metadata": {},
     "output_type": "execute_result"
    }
   ],
   "source": [
    "predicted_instructions = response.split(\"\\n\")\n",
    "predicted_instructions"
   ]
  },
  {
   "cell_type": "code",
   "execution_count": 26,
   "metadata": {},
   "outputs": [],
   "source": [
    "test_correct_file_path = correct_response_file_paths[test_index]"
   ]
  },
  {
   "cell_type": "code",
   "execution_count": 27,
   "metadata": {},
   "outputs": [
    {
     "data": {
      "text/plain": [
       "['- Step 1. Create a new column F.',\n",
       " '- Step 2. Write the formula for future value calculation in the first data row.',\n",
       " '- Step 3. Fill the formula down to the other rows.']"
      ]
     },
     "execution_count": 27,
     "metadata": {},
     "output_type": "execute_result"
    }
   ],
   "source": [
    "correct_instructions = get_correct_summarization(\n",
    "    correct_file_path=test_correct_file_path\n",
    ").split(\"\\n\")\n",
    "correct_instructions = [\n",
    "    instruction for instruction in correct_instructions if instruction != \"\"\n",
    "]\n",
    "correct_instructions"
   ]
  },
  {
   "cell_type": "code",
   "execution_count": 29,
   "metadata": {},
   "outputs": [
    {
     "data": {
      "text/plain": [
       "{'bleu': 0.18217511419048013,\n",
       " 'precisions': [0.5098039215686274,\n",
       "  0.2916666666666667,\n",
       "  0.15555555555555556,\n",
       "  0.047619047619047616],\n",
       " 'brevity_penalty': 1.0,\n",
       " 'length_ratio': 1.275,\n",
       " 'translation_length': 51,\n",
       " 'reference_length': 40}"
      ]
     },
     "execution_count": 29,
     "metadata": {},
     "output_type": "execute_result"
    }
   ],
   "source": [
    "bleu = evaluate.load(\"bleu\")\n",
    "bleu_results = bleu.compute(predictions=predicted_instructions, references=correct_instructions)\n",
    "bleu_results"
   ]
  },
  {
   "cell_type": "code",
   "execution_count": 30,
   "metadata": {},
   "outputs": [
    {
     "data": {
      "text/plain": [
       "{'google_bleu': 0.25257731958762886}"
      ]
     },
     "execution_count": 30,
     "metadata": {},
     "output_type": "execute_result"
    }
   ],
   "source": [
    "google_bleu = evaluate.load(\"google_bleu\")\n",
    "google_bleu_results = google_bleu.compute(predictions=predicted_instructions, references=correct_instructions)\n",
    "google_bleu_results"
   ]
  },
  {
   "cell_type": "code",
   "execution_count": 31,
   "metadata": {},
   "outputs": [
    {
     "data": {
      "text/plain": [
       "{'rouge1': 0.5261158594491927,\n",
       " 'rouge2': 0.3127777777777778,\n",
       " 'rougeL': 0.5014245014245015,\n",
       " 'rougeLsum': 0.5014245014245015}"
      ]
     },
     "execution_count": 31,
     "metadata": {},
     "output_type": "execute_result"
    }
   ],
   "outputs": [],
   "source": [
    "rouge = evaluate.load(\"rouge\")\n",
    "rouge_results = rouge.compute(predictions=predicted_instructions, references=correct_instructions)\n",
    "rouge_results"
   ]
  },
  {
   "cell_type": "code",
   "execution_count": null,
   "metadata": {},
   "outputs": [],
   "source": []
  }
 ],
 "metadata": {
  "kernelspec": {
   "display_name": "llm_ss",
   "language": "python",
   "name": "python3"
  },
  "language_info": {
   "codemirror_mode": {
    "name": "ipython",
    "version": 3
   },
   "file_extension": ".py",
   "mimetype": "text/x-python",
   "name": "python",
   "nbconvert_exporter": "python",
   "pygments_lexer": "ipython3",
   "version": "3.10.14"
  }
 },
 "nbformat": 4,
 "nbformat_minor": 2
}
