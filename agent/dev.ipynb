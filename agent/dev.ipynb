{
 "cells": [
  {
   "cell_type": "code",
   "execution_count": 6,
   "metadata": {},
   "outputs": [],
   "source": [
    "import yaml\n",
    "import os\n",
    "import pathlib\n",
    "import time\n",
    "from Agent.xwAPI import xwBackend\n",
    "from utils.construct_prompt import get_api_doc\n",
    "from utils.ChatGPT import ChatGPT"
   ]
  },
  {
   "cell_type": "code",
   "execution_count": 7,
   "metadata": {},
   "outputs": [],
   "source": [
    "import evaluate"
   ]
  },
  {
   "cell_type": "code",
   "execution_count": 8,
   "metadata": {},
   "outputs": [],
   "source": [
    "CONFIG_FILE = \"./config/config.yaml\""
   ]
  },
  {
   "cell_type": "code",
   "execution_count": 4,
   "metadata": {},
   "outputs": [],
   "source": [
    "def set_agent_configuration(configuration_file_path):\n",
    "    with open(configuration_file_path, mode='r') as file:\n",
    "        config = yaml.load(file, Loader=yaml.Loader)\n",
    "\n",
    "    agent_config = config[\"Agent\"]\n",
    "    agent_config['ChatGPT_1']['api_keys'] = [os.environ['OPENAI_API_KEY']]\n",
    "    return agent_config"
   ]
  },
  {
   "cell_type": "code",
   "execution_count": 5,
   "metadata": {},
   "outputs": [],
   "source": [
    "def get_api_documentation(agent_config):\n",
    "    with open(agent_config['api_doc_path']) as f:\n",
    "        api_doc = yaml.load(f, Loader=yaml.FullLoader)\n",
    "    return api_doc"
   ]
  },
  {
   "cell_type": "code",
   "execution_count": 6,
   "metadata": {},
   "outputs": [],
   "source": [
    "def get_excel_backend(agent_config, api_doc):\n",
    "    if agent_config['API_backend'] == 'xw':\n",
    "        xw_backend = xwBackend(agent_config['APP_backend'], api_doc)\n",
    "    return xw_backend"
   ]
  },
  {
   "cell_type": "code",
   "execution_count": 7,
   "metadata": {},
   "outputs": [],
   "source": [
    "def create_path_generator(file_path):\n",
    "    return pathlib.Path(f\"{file_path}\").glob(\"**/*\")"
   ]
  },
  {
   "cell_type": "code",
   "execution_count": 8,
   "metadata": {},
   "outputs": [],
   "source": [
    "def get_source_excel_filenames(path_generator):\n",
    "    response_log_paths = [str(path).split(\"\\\\\")[-1] for path in path_generator if path.is_file()]\n",
    "    return [f\"{log_file[2:-5]}.xlsx\" for log_file in response_log_paths]"
   ]
  },
  {
   "cell_type": "code",
   "execution_count": 9,
   "metadata": {},
   "outputs": [],
   "source": [
    "agent_config = set_agent_configuration(configuration_file_path=CONFIG_FILE)\n",
    "api_doc = get_api_documentation(agent_config=agent_config)\n",
    "xw_backend = get_excel_backend(agent_config=agent_config, api_doc=api_doc)"
   ]
  },
  {
   "cell_type": "code",
   "execution_count": 11,
   "metadata": {},
   "outputs": [
    {
     "data": {
      "text/plain": [
       "['..\\\\output_dir\\\\refined_responses\\\\1_Dragging.yaml',\n",
       " '..\\\\output_dir\\\\refined_responses\\\\2_Dragging.yaml',\n",
       " '..\\\\output_dir\\\\refined_responses\\\\2_FutureValue.yaml',\n",
       " '..\\\\output_dir\\\\refined_responses\\\\4_Dragging.yaml',\n",
       " '..\\\\output_dir\\\\refined_responses\\\\4_FutureValue.yaml',\n",
       " '..\\\\output_dir\\\\refined_responses\\\\5_BoomerangSales.yaml']"
      ]
     },
     "execution_count": 11,
     "metadata": {},
     "output_type": "execute_result"
    }
   ],
   "source": [
    "path_generator = create_path_generator(file_path=\"../output_dir/refined_responses/\")\n",
    "input_file_paths = [str(path) for path in path_generator]\n",
    "input_file_paths"
   ]
  },
  {
   "cell_type": "code",
   "execution_count": 14,
   "metadata": {},
   "outputs": [
    {
     "data": {
      "text/plain": [
       "['../dataset/task_sheets/Dragging.xlsx',\n",
       " '../dataset/task_sheets/Dragging.xlsx',\n",
       " '../dataset/task_sheets/FutureValue.xlsx',\n",
       " '../dataset/task_sheets/Dragging.xlsx',\n",
       " '../dataset/task_sheets/FutureValue.xlsx',\n",
       " '../dataset/task_sheets/BoomerangSales.xlsx']"
      ]
     },
     "execution_count": 14,
     "metadata": {},
     "output_type": "execute_result"
    }
   ],
   "source": [
    "path_generator = create_path_generator(file_path=\"../output_dir/refined_responses/\")\n",
    "excel_file_names = get_source_excel_filenames(path_generator=path_generator)\n",
    "excel_file_paths = [f\"../dataset/task_sheets/{file_name}\" for file_name in excel_file_names]\n",
    "excel_file_paths"
   ]
  },
  {
   "cell_type": "code",
   "execution_count": 16,
   "metadata": {},
   "outputs": [
    {
     "data": {
      "text/plain": [
       "('../dataset/task_sheets/Dragging.xlsx',\n",
       " '..\\\\output_dir\\\\refined_responses\\\\2_Dragging.yaml')"
      ]
     },
     "execution_count": 16,
     "metadata": {},
     "output_type": "execute_result"
    }
   ],
   "source": [
    "example_index = 1\n",
    "example_file_path = excel_file_paths[example_index]\n",
    "example_input_file_path = input_file_paths[example_index]\n",
    "example_file_path, example_input_file_path"
   ]
  },
  {
   "cell_type": "code",
   "execution_count": 17,
   "metadata": {},
   "outputs": [],
   "source": [
    "path_generator = create_path_generator(file_path=\"../output_dir/intermediate_responses/\")\n",
    "correct_response_file_paths = [str(path) for path in path_generator]"
   ]
  },
  {
   "cell_type": "code",
   "execution_count": 18,
   "metadata": {},
   "outputs": [
    {
     "data": {
      "text/plain": [
       "'..\\\\output_dir\\\\intermediate_responses\\\\2_FutureValue.yaml'"
      ]
     },
     "execution_count": 18,
     "metadata": {},
     "output_type": "execute_result"
    }
   ],
   "source": [
    "test_index = 2\n",
    "test_file_path = correct_response_file_paths[test_index]\n",
    "test_file_path"
   ]
  },
  {
   "cell_type": "code",
   "execution_count": 19,
   "metadata": {},
   "outputs": [],
   "source": [
    "def get_sheet_state(file_path):\n",
    "    if file_path is not None:\n",
    "        time.sleep(0.5)\n",
    "        xw_backend.OpenWorkbook(file_path)\n",
    "\n",
    "    return xw_backend.GetSheetsState()"
   ]
  },
  {
   "cell_type": "code",
   "execution_count": 20,
   "metadata": {},
   "outputs": [
    {
     "data": {
      "text/plain": [
       "'Sheet state: Sheet \"Sheet1\" has 2 columns (Headers are A: \"Hanging Mass (m2) (kg)\", B: \"Acceleration (m/s^2)\") and 122 rows (1 header row and 121 data rows).'"
      ]
     },
     "execution_count": 20,
     "metadata": {},
     "output_type": "execute_result"
    }
   ],
   "source": [
    "example_sheet_state = get_sheet_state(file_path=example_file_path)\n",
    "example_sheet_state"
   ]
  },
  {
   "cell_type": "code",
   "execution_count": null,
   "metadata": {},
   "outputs": [],
   "source": [
    "prompt_format = agent_config['ChatGPT_1']['prompt_format']\n",
    "api_list, api_usage, api_detail_doc = get_api_doc(prompt_format, api_doc)"
   ]
  },
  {
   "cell_type": "code",
   "execution_count": null,
   "metadata": {},
   "outputs": [],
   "source": [
    "response_log_path = f\"../output_dir/refined_responses/{response_log_paths[example_index]}\"\n",
    "with open(response_log_path) as file:\n",
    "    response_log = yaml.load(file, Loader=yaml.Loader)"
   ]
  },
  {
   "cell_type": "code",
   "execution_count": null,
   "metadata": {},
   "outputs": [],
   "source": [
    "intermediate_response_log_path = intermediate_response_paths[example_index]\n",
    "with open(intermediate_response_log_path) as file:\n",
    "    intermediate_response_log = yaml.load(file, Loader=yaml.Loader)"
   ]
  },
  {
   "cell_type": "code",
   "execution_count": null,
   "metadata": {},
   "outputs": [],
   "source": [
    "prompt = \"\"\"\n",
    "SYSTEM\n",
    "Summarize the each sub-step of refined responses into explanations in natural language.\n",
    "\n",
    "USER\n",
    "{one_shot_refined_response_example}\n",
    "Here is the supplementary documentation you can reference:\n",
    "{one_shot_documentation_example}\n",
    "Here is the corresponding sheet state:\n",
    "{one_shot_sheet_state_example}\n",
    "\n",
    "ASSISTANT\n",
    "{one_shot_intermediate_response_example}\n",
    "\n",
    "USER\n",
    "{actual_refined_response}\n",
    "Here is the supplementary documentation you can reference:\n",
    "{actual_documentation}\n",
    "Here is the corresponding sheet state:\n",
    "{actual_sheet_state}\n",
    "\"\"\"\n",
    "prompt"
   ]
  },
  {
   "cell_type": "code",
   "execution_count": null,
   "metadata": {},
   "outputs": [],
   "source": [
    "# Filter upto first open paranthesis\n",
    "unique_function_names = set([sub_instruction[:sub_instruction.find(\"(\")] for sub_instruction in response_log[\"refined_response\"]])\n",
    "unique_function_names"
   ]
  },
  {
   "cell_type": "code",
   "execution_count": null,
   "metadata": {},
   "outputs": [],
   "source": [
    "documentation_for_functions = {\"documentation\": [api_detail_doc[name] for name in unique_function_names]}"
   ]
  },
  {
   "cell_type": "code",
   "execution_count": null,
   "metadata": {},
   "outputs": [],
   "source": [
    "prompt = prompt.format(one_shot_refined_response_example=yaml.dump(response_log[\"refined_response\"]),\n",
    "                       one_shot_documentatio_examplen=yaml.dump(documentation_for_functions[\"documentation\"]), \n",
    "                       one_shot_sheet_state_example=sheet_state[\"Sheet state\"])\n",
    "print(prompt)"
   ]
  },
  {
   "cell_type": "code",
   "execution_count": null,
   "metadata": {},
   "outputs": [],
   "source": [
    "async def call_chat_gpt():\n",
    "    try:\n",
    "        chatbot = ChatGPT(agent_config['ChatGPT_1'], context=[], interaction_mode=True)\n",
    "        response = await chatbot(prompt)\n",
    "    except Exception as e:\n",
    "        print(f\"error occurs when parsing response: {e}\")\n",
    "    else:\n",
    "        return response\n"
   ]
  },
  {
   "cell_type": "code",
   "execution_count": null,
   "metadata": {},
   "outputs": [],
   "source": [
    "response = await call_chat_gpt()"
   ]
  },
  {
   "cell_type": "code",
   "execution_count": null,
   "metadata": {},
   "outputs": [],
   "source": [
    "print(response)"
   ]
  },
  {
   "cell_type": "code",
   "execution_count": null,
   "metadata": {},
   "outputs": [],
   "source": []
  }
 ],
 "metadata": {
  "kernelspec": {
   "display_name": "llm_ss",
   "language": "python",
   "name": "python3"
  },
  "language_info": {
   "codemirror_mode": {
    "name": "ipython",
    "version": 3
   },
   "file_extension": ".py",
   "mimetype": "text/x-python",
   "name": "python",
   "nbconvert_exporter": "python",
   "pygments_lexer": "ipython3",
   "version": "3.10.14"
  }
 },
 "nbformat": 4,
 "nbformat_minor": 2
}
