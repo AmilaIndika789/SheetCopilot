{
 "cells": [
  {
   "cell_type": "code",
   "execution_count": 6,
   "metadata": {},
   "outputs": [],
   "source": [
    "import yaml\n",
    "import os\n",
    "import pathlib\n",
    "import time\n",
    "from Agent.xwAPI import xwBackend\n",
    "from utils.construct_prompt import get_api_doc\n",
    "from utils.ChatGPT import ChatGPT"
   ]
  },
  {
   "cell_type": "code",
   "execution_count": 7,
   "metadata": {},
   "outputs": [],
   "source": [
    "import evaluate"
   ]
  },
  {
   "cell_type": "code",
   "execution_count": 8,
   "metadata": {},
   "outputs": [],
   "source": [
    "CONFIG_FILE = \"./config/config.yaml\""
   ]
  },
  {
   "cell_type": "code",
   "execution_count": 4,
   "metadata": {},
   "outputs": [],
   "source": [
    "def set_agent_configuration(configuration_file_path):\n",
    "    with open(configuration_file_path, mode='r') as file:\n",
    "        config = yaml.load(file, Loader=yaml.Loader)\n",
    "\n",
    "    agent_config = config[\"Agent\"]\n",
    "    agent_config['ChatGPT_1']['api_keys'] = [os.environ['OPENAI_API_KEY']]\n",
    "    return agent_config"
   ]
  },
  {
   "cell_type": "code",
   "execution_count": 5,
   "metadata": {},
   "outputs": [],
   "source": [
    "def get_api_documentation(agent_config):\n",
    "    with open(agent_config['api_doc_path']) as f:\n",
    "        api_doc = yaml.load(f, Loader=yaml.FullLoader)\n",
    "    return api_doc"
   ]
  },
  {
   "cell_type": "code",
   "execution_count": 6,
   "metadata": {},
   "outputs": [],
   "source": [
    "def get_excel_backend(agent_config, api_doc):\n",
    "    if agent_config['API_backend'] == 'xw':\n",
    "        xw_backend = xwBackend(agent_config['APP_backend'], api_doc)\n",
    "    return xw_backend"
   ]
  },
  {
   "cell_type": "code",
   "execution_count": 7,
   "metadata": {},
   "outputs": [],
   "source": [
    "def create_path_generator(file_path):\n",
    "    return pathlib.Path(f\"{file_path}\").glob(\"**/*\")"
   ]
  },
  {
   "cell_type": "code",
   "execution_count": 8,
   "metadata": {},
   "outputs": [],
   "source": [
    "def get_source_excel_filenames(path_generator):\n",
    "    response_log_paths = [str(path).split(\"\\\\\")[-1] for path in path_generator if path.is_file()]\n",
    "    return [f\"{log_file[2:-5]}.xlsx\" for log_file in response_log_paths]"
   ]
  },
  {
   "cell_type": "code",
   "execution_count": 9,
   "metadata": {},
   "outputs": [],
   "source": [
    "agent_config = set_agent_configuration(configuration_file_path=CONFIG_FILE)\n",
    "api_doc = get_api_documentation(agent_config=agent_config)\n",
    "xw_backend = get_excel_backend(agent_config=agent_config, api_doc=api_doc)"
   ]
  },
  {
   "cell_type": "code",
   "execution_count": null,
   "metadata": {},
   "outputs": [],
   "source": [
    "path_generator = create_path_generator(file_path=\"../output_dir/refined_responses/\")\n",
    "input_file_paths = [str(path) for path in path_generator]\n",
    "input_file_paths"
   ]
  },
  {
   "cell_type": "code",
   "execution_count": null,
   "metadata": {},
   "outputs": [],
   "source": [
    "path_generator = create_path_generator(file_path=\"../output_dir/refined_responses/\")\n",
    "excel_file_names = get_source_excel_filenames(path_generator=path_generator)\n",
    "excel_file_paths = [f\"../dataset/task_sheets/{file_name}\" for file_name in excel_file_names]\n",
    "excel_file_paths"
   ]
  },
  {
   "cell_type": "code",
   "execution_count": null,
   "metadata": {},
   "outputs": [],
   "source": [
    "example_index = 1\n",
    "example_src_file_path = excel_file_paths[example_index]\n",
    "example_input_file_path = input_file_paths[example_index]\n",
    "example_src_file_path, example_input_file_path"
   ]
  },
  {
   "cell_type": "code",
   "execution_count": null,
   "metadata": {},
   "outputs": [],
   "source": [
    "path_generator = create_path_generator(file_path=\"../output_dir/intermediate_responses/\")\n",
    "correct_response_file_paths = [str(path) for path in path_generator]\n",
    "correct_response_file_paths"
   ]
  },
  {
   "cell_type": "code",
   "execution_count": null,
   "metadata": {},
   "outputs": [],
   "source": [
    "example_correct_file_path = correct_response_file_paths[example_index]\n",
    "example_correct_file_path"
   ]
  },
  {
   "cell_type": "code",
   "execution_count": null,
   "metadata": {},
   "outputs": [],
   "source": [
    "test_index = 2\n",
    "test_input_file_path = input_file_paths[test_index]\n",
    "test_src_file_path = excel_file_paths[test_index]\n",
    "test_input_file_path, test_src_file_path"
   ]
  },
  {
   "cell_type": "code",
   "execution_count": 16,
   "metadata": {},
   "outputs": [],
   "source": [
    "def get_sheet_state(file_path):\n",
    "    if file_path is not None:\n",
    "        time.sleep(0.5)\n",
    "        xw_backend.OpenWorkbook(file_path)\n",
    "\n",
    "    return xw_backend.GetSheetsState()"
   ]
  },
  {
   "cell_type": "code",
   "execution_count": null,
   "metadata": {},
   "outputs": [],
   "source": [
    "example_sheet_state = get_sheet_state(file_path=example_src_file_path)\n",
    "example_sheet_state"
   ]
  },
  {
   "cell_type": "code",
   "execution_count": 18,
   "metadata": {},
   "outputs": [],
   "source": [
    "def extract_docs_for_input_functions(input_file_path, agent_config):\n",
    "    with open(input_file_path) as file:\n",
    "        input_functions = yaml.load(file, Loader=yaml.Loader)\n",
    "    prompt_format = agent_config['ChatGPT_1']['prompt_format']\n",
    "    api_list, api_usage, api_detail_doc = get_api_doc(prompt_format, api_doc)\n",
    "    # Filter upto first open paranthesis\n",
    "    unique_function_names = set([function[:function.find(\"(\")] for function in input_functions[\"refined_response\"]])\n",
    "    documentation_for_functions = [api_detail_doc[name] for name in unique_function_names]\n",
    "    return documentation_for_functions"
   ]
  },
  {
   "cell_type": "code",
   "execution_count": null,
   "metadata": {},
   "outputs": [],
   "source": [
    "extract_docs_for_input_functions(input_file_path=example_input_file_path, agent_config=agent_config)"
   ]
  },
  {
   "cell_type": "code",
   "execution_count": 20,
   "metadata": {},
   "outputs": [],
   "source": [
    "def get_input_functions(input_file_path):\n",
    "    with open(input_file_path) as file:\n",
    "        input_functions = yaml.load(file, Loader=yaml.Loader)\n",
    "    return yaml.dump(input_functions[\"refined_response\"])"
   ]
  },
  {
   "cell_type": "code",
   "execution_count": 21,
   "metadata": {},
   "outputs": [],
   "source": [
    "def get_correct_summarization(correct_file_path):\n",
    "    with open(correct_file_path) as file:\n",
    "        correct_summarizations = yaml.load(file, Loader=yaml.Loader)\n",
    "    return yaml.dump(correct_summarizations[\"intermediate response\"])"
   ]
  },
  {
   "cell_type": "code",
   "execution_count": null,
   "metadata": {},
   "outputs": [],
   "source": [
    "prompt = \"\"\"\n",
    "SYSTEM\n",
    "Summarize the each sub-step of instructions into explanations in natural language.\n",
    "\n",
    "USER\n",
    "{input_example}\n",
    "Here is the supplementary documentation you can reference:\n",
    "{documentation_example}\n",
    "Here is the corresponding sheet state:\n",
    "{sheet_state_example}\n",
    "\n",
    "ASSISTANT\n",
    "{correct_example}\n",
    "\n",
    "USER\n",
    "{actual_input}\n",
    "Here is the supplementary documentation you can reference:\n",
    "{actual_documentation}\n",
    "Here is the corresponding sheet state:\n",
    "{actual_sheet_state}\n",
    "\"\"\"\n",
    "prompt"
   ]
  },
  {
   "cell_type": "code",
   "execution_count": null,
   "metadata": {},
   "outputs": [],
   "source": [
    "prompt = prompt.format(input_example=get_input_functions(example_input_file_path),\n",
    "                       documentation_example=extract_docs_for_input_functions(input_file_path=example_input_file_path, agent_config=agent_config),\n",
    "                       correct_example=get_correct_summarization(correct_file_path=example_correct_file_path),\n",
    "                       sheet_state_example=get_sheet_state(file_path=example_src_file_path),\n",
    "                       actual_input=get_input_functions(test_input_file_path),\n",
    "                       actual_documentation=extract_docs_for_input_functions(input_file_path=test_input_file_path, agent_config=agent_config),\n",
    "                       actual_sheet_state=get_sheet_state(file_path=test_src_file_path)\n",
    "                       )\n",
    "print(prompt)"
   ]
  },
  {
   "cell_type": "code",
   "execution_count": 24,
   "metadata": {},
   "outputs": [],
   "source": [
    "async def call_chat_gpt():\n",
    "    try:\n",
    "        chatbot = ChatGPT(agent_config['ChatGPT_1'], context=[], interaction_mode=True)\n",
    "        response = await chatbot(prompt)\n",
    "    except Exception as e:\n",
    "        print(f\"error occurs when parsing response: {e}\")\n",
    "    else:\n",
    "        return response\n"
   ]
  },
  {
   "cell_type": "code",
   "execution_count": null,
   "metadata": {},
   "outputs": [],
   "source": [
    "response = await call_chat_gpt()"
   ]
  },
  {
   "cell_type": "code",
   "execution_count": null,
   "metadata": {},
   "outputs": [],
   "source": [
    "print(response)"
   ]
  },
  {
   "cell_type": "code",
   "execution_count": null,
   "metadata": {},
   "outputs": [],
   "source": []
  }
 ],
 "metadata": {
  "kernelspec": {
   "display_name": "llm_ss",
   "language": "python",
   "name": "python3"
  },
  "language_info": {
   "codemirror_mode": {
    "name": "ipython",
    "version": 3
   },
   "file_extension": ".py",
   "mimetype": "text/x-python",
   "name": "python",
   "nbconvert_exporter": "python",
   "pygments_lexer": "ipython3",
   "version": "3.10.14"
  }
 },
 "nbformat": 4,
 "nbformat_minor": 2
}
