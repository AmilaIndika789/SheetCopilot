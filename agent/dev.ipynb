{
 "cells": [
  {
   "cell_type": "code",
   "execution_count": 6,
   "metadata": {},
   "outputs": [],
   "source": [
    "import yaml\n",
    "import os\n",
    "import pathlib\n",
    "import time\n",
    "from Agent.xwAPI import xwBackend\n",
    "from utils.construct_prompt import get_api_doc\n",
    "from utils.ChatGPT import ChatGPT"
   ]
  },
  {
   "cell_type": "code",
   "execution_count": 7,
   "metadata": {},
   "outputs": [],
   "source": [
    "import evaluate"
   ]
  },
  {
   "cell_type": "code",
   "execution_count": 8,
   "metadata": {},
   "outputs": [],
   "source": [
    "CONFIG_FILE = \"./config/config.yaml\""
   ]
  },
  {
   "cell_type": "code",
   "execution_count": 4,
   "metadata": {},
   "outputs": [],
   "source": [
    "def set_agent_configuration(configuration_file_path):\n",
    "    with open(configuration_file_path, mode='r') as file:\n",
    "        config = yaml.load(file, Loader=yaml.Loader)\n",
    "\n",
    "    agent_config = config[\"Agent\"]\n",
    "    agent_config['ChatGPT_1']['api_keys'] = [os.environ['OPENAI_API_KEY']]\n",
    "    return agent_config"
   ]
  },
  {
   "cell_type": "code",
   "execution_count": 5,
   "metadata": {},
   "outputs": [],
   "source": [
    "def get_api_documentation(agent_config):\n",
    "    with open(agent_config['api_doc_path']) as f:\n",
    "        api_doc = yaml.load(f, Loader=yaml.FullLoader)\n",
    "    return api_doc"
   ]
  },
  {
   "cell_type": "code",
   "execution_count": 6,
   "metadata": {},
   "outputs": [],
   "source": [
    "def get_excel_backend(agent_config, api_doc):\n",
    "    if agent_config['API_backend'] == 'xw':\n",
    "        xw_backend = xwBackend(agent_config['APP_backend'], api_doc)\n",
    "    return xw_backend"
   ]
  },
  {
   "cell_type": "code",
   "execution_count": 7,
   "metadata": {},
   "outputs": [],
   "source": [
    "def create_path_generator(file_path):\n",
    "    return pathlib.Path(f\"{file_path}\").glob(\"**/*\")"
   ]
  },
  {
   "cell_type": "code",
   "execution_count": 8,
   "metadata": {},
   "outputs": [],
   "source": [
    "def get_source_excel_filenames(path_generator):\n",
    "    response_log_paths = [str(path).split(\"\\\\\")[-1] for path in path_generator if path.is_file()]\n",
    "    return [f\"{log_file[2:-5]}.xlsx\" for log_file in response_log_paths]"
   ]
  },
  {
   "cell_type": "code",
   "execution_count": 9,
   "metadata": {},
   "outputs": [],
   "source": [
    "agent_config = set_agent_configuration(configuration_file_path=CONFIG_FILE)\n",
    "api_doc = get_api_documentation(agent_config=agent_config)\n",
    "xw_backend = get_excel_backend(agent_config=agent_config, api_doc=api_doc)"
   ]
  },
  {
   "cell_type": "code",
   "execution_count": null,
   "metadata": {},
   "outputs": [],
   "source": [
    "path_generator = create_path_generator(file_path=\"../output_dir/refined_responses/\")\n",
    "input_file_paths = [str(path) for path in path_generator]\n",
    "input_file_paths"
   ]
  },
  {
   "cell_type": "code",
   "execution_count": null,
   "metadata": {},
   "outputs": [],
   "source": [
    "path_generator = create_path_generator(file_path=\"../output_dir/refined_responses/\")\n",
    "excel_file_names = get_source_excel_filenames(path_generator=path_generator)\n",
    "excel_file_paths = [f\"../dataset/task_sheets/{file_name}\" for file_name in excel_file_names]\n",
    "excel_file_paths"
   ]
  },
  {
   "cell_type": "code",
   "execution_count": null,
   "metadata": {},
   "outputs": [],
   "source": [
    "example_index = 1\n",
    "example_src_file_path = excel_file_paths[example_index]\n",
    "example_input_file_path = input_file_paths[example_index]\n",
    "example_src_file_path, example_input_file_path"
   ]
  },
  {
   "cell_type": "code",
   "execution_count": null,
   "metadata": {},
   "outputs": [],
   "source": [
    "path_generator = create_path_generator(file_path=\"../output_dir/intermediate_responses/\")\n",
    "correct_response_file_paths = [str(path) for path in path_generator]\n",
    "correct_response_file_paths"
   ]
  },
  {
   "cell_type": "code",
   "execution_count": null,
   "metadata": {},
   "outputs": [],
   "source": [
    "example_correct_file_path = correct_response_file_paths[example_index]\n",
    "example_correct_file_path"
   ]
  },
  {
   "cell_type": "code",
   "execution_count": null,
   "metadata": {},
   "outputs": [],
   "source": [
    "test_index = 2\n",
    "test_input_file_path = input_file_paths[test_index]\n",
    "test_src_file_path = excel_file_paths[test_index]\n",
    "test_input_file_path, test_src_file_path"
   ]
  },
  {
   "cell_type": "code",
   "execution_count": 16,
   "metadata": {},
   "outputs": [],
   "source": [
    "def get_sheet_state(file_path):\n",
    "    if file_path is not None:\n",
    "        time.sleep(0.5)\n",
    "        xw_backend.OpenWorkbook(file_path)\n",
    "\n",
    "    return xw_backend.GetSheetsState()"
   ]
  },
  {
   "cell_type": "code",
   "execution_count": null,
   "metadata": {},
   "outputs": [],
   "source": [
    "example_sheet_state = get_sheet_state(file_path=example_src_file_path)\n",
    "example_sheet_state"
   ]
  },
  {
   "cell_type": "code",
   "execution_count": 18,
   "metadata": {},
   "outputs": [],
   "source": [
    "def extract_docs_for_input_functions(input_file_path, agent_config):\n",
    "    with open(input_file_path) as file:\n",
    "        input_functions = yaml.load(file, Loader=yaml.Loader)\n",
    "    prompt_format = agent_config['ChatGPT_1']['prompt_format']\n",
    "    api_list, api_usage, api_detail_doc = get_api_doc(prompt_format, api_doc)\n",
    "    # Filter upto first open paranthesis\n",
    "    unique_function_names = set([function[:function.find(\"(\")] for function in input_functions[\"refined_response\"]])\n",
    "    documentation_for_functions = [api_detail_doc[name] for name in unique_function_names]\n",
    "    return documentation_for_functions"
   ]
  },
  {
   "cell_type": "code",
   "execution_count": null,
   "metadata": {},
   "outputs": [],
   "source": [
    "extract_docs_for_input_functions(input_file_path=example_input_file_path, agent_config=agent_config)"
   ]
  },
  {
   "cell_type": "code",
   "execution_count": 20,
   "metadata": {},
   "outputs": [],
   "source": [
    "def get_input_functions(input_file_path):\n",
    "    with open(input_file_path) as file:\n",
    "        input_functions = yaml.load(file, Loader=yaml.Loader)\n",
    "    return yaml.dump(input_functions[\"refined_response\"])"
   ]
  },
  {
   "cell_type": "code",
   "execution_count": 21,
   "metadata": {},
   "outputs": [],
   "source": [
    "def get_correct_summarization(correct_file_path):\n",
    "    with open(correct_file_path) as file:\n",
    "        correct_summarizations = yaml.load(file, Loader=yaml.Loader)\n",
    "    return yaml.dump(correct_summarizations[\"intermediate response\"])"
   ]
  },
  {
   "cell_type": "code",
   "execution_count": null,
   "metadata": {},
   "outputs": [
    {
     "data": {
      "text/plain": [
       "'\\nSYSTEM\\nSummarize the each sub-step of instructions into explanations in natural language. Be brief and do not provide verbose explanations.\\n\\nUSER\\n{input_example}\\nHere is the supplementary documentation you can reference:\\n{documentation_example}\\nHere is the corresponding sheet state:\\n{sheet_state_example}\\n\\nASSISTANT\\n{correct_example}\\n\\nUSER\\n{actual_input}\\nHere is the supplementary documentation you can reference:\\n{actual_documentation}\\nHere is the corresponding sheet state:\\n{actual_sheet_state}\\n'"
      ]
     },
     "execution_count": 22,
     "metadata": {},
     "output_type": "execute_result"
    }
   ],
   "source": [
    "prompt = \"\"\"\n",
    "SYSTEM\n",
    "Summarize the each sub-step of instructions into explanations in natural language. Be brief and do not provide verbose explanations.\n",
    "\n",
    "USER\n",
    "{input_example}\n",
    "Here is the supplementary documentation you can reference:\n",
    "{documentation_example}\n",
    "Here is the corresponding sheet state:\n",
    "{sheet_state_example}\n",
    "\n",
    "ASSISTANT\n",
    "{correct_example}\n",
    "\n",
    "USER\n",
    "{actual_input}\n",
    "Here is the supplementary documentation you can reference:\n",
    "{actual_documentation}\n",
    "Here is the corresponding sheet state:\n",
    "{actual_sheet_state}\n",
    "\"\"\"\n",
    "prompt"
   ]
  },
  {
   "cell_type": "code",
   "execution_count": null,
   "metadata": {},
   "outputs": [
    {
     "name": "stdout",
     "output_type": "stream",
     "text": [
      "\n",
      "SYSTEM\n",
      "Summarize the each sub-step of instructions into explanations in natural language. Be brief and do not provide verbose explanations.\n",
      "\n",
      "USER\n",
      "- Write(range=\"Sheet1!B2\", value=\"=(A2*9.81)/(0.75+A2)\")\n",
      "- AutoFill(source=\"Sheet1!B2\", destination=\"Sheet1!B2:B122\")\n",
      "- SetConditionalFormat(source=\"Sheet1!B2:B122\", formula=\"=$B2>=1\", fillColor=\"green\")\n",
      "- SetConditionalFormat(source=\"Sheet1!B2:B122\", formula=\"=$B2<1\", fillColor=\"yellow\")\n",
      "\n",
      "Here is the supplementary documentation you can reference:\n",
      "['AutoFill(source: str, destination: str)\\nArgs explanation:\\nsource (string): The range to auto fill from.\\ndestination (string): The range to auto fill into.\\n# The destination must include the source range.\\n\\nUsage example:\\n# Example 1: Autofill down columns\\nAutoFill(\"Sheet1!A1\", \"Sheet1!A1:A10\")\\n', 'SetConditionalFormat(source: str, formula: str, bold: nool = None, color: str = None, fillColor: str = None, italic: bool = None, underline: bool = None)\\nArgs explanation:\\nsource (string): The range to set conditional format.\\nformula (string): The Excel formula representing the condition. For example, \"=A1>B1\" means highlight the first cell of the source range if the value in A1 is greater than the value in B1.\\nbold (bool): Whether to set bold. True means bold, False means not bold.\\ncolor (string): The color to set. It can be \\'black\\', \\'white\\', \\'red\\', \\'green\\', \\'blue\\', \\'yellow\\', \\'magenta\\', \\'cyan\\', \\'dark_red\\', \\'dark_green\\'.\\nfillColor (string): The fill color to set. It can be \\'black\\', \\'white\\', \\'red\\', \\'green\\', \\'blue\\', \\'yellow\\', \\'magenta\\', \\'cyan\\', \\'dark_red\\', \\'dark_green\\'.\\nitalic (bool): Whether to set italic. True means italic, False means not italic.\\nunderline (bool): Whether to set underline. True means underline, False means not underline.\\n\\nUsage example:\\n# Example 1: Highlight cells A1 to A10 greater than cell D1 with white text and red background.\\nSetConditionalFormat(source=\\'Sheet1!A1:A10\\', formula=\\'=$A1>$D$1\\', color=\"white\", fillColor=\"red\")\\n# Absolute reference is used for A1 because iteration is done for rows while the column is fixed. Absolute reference is used for D1 because it is the only target to be compared with.\\n# After implementing this action, the cells in range A1:A10 whose values >= D1 will have white texts and red fill.\\n# Example 2: lf column D contains the letter \\'H\\' highlight the colum F cell texts in yellow. \\nSetConditionalFormat(source=\\'Sheet1!D2:D\\', formula=\\'=ISNUMBER(SEARCH(\"H\",$D2))\\', color=\"yellow\")\\n# Absolute reference is used for D2 because iteration is done for rows while the column is fixed. source starts from D2 because the column header needs to be ignored.\\n# Example 3: Highlight the column B cells in Sheet1 between 2pm and 5pm in bold text. If the time is formatted as Text, TIMEVALUE can be used to convert time to factions. The following API call can be used in this case.\\nSetConditionalFormat(source=\"Sheet1!B2:B36\", formula=\\'=AND(TIMEVALUE($B2)>=TIMEVALUE(\"14:00:00\"),TIMEVALUE($B2)<=TIMEVALUE(\"17:00:00\"))\\', fillColor=\"yellow\")\\n', 'Write(range: str, value: str)\\nArgs explanation:\\nrange (string): The range to write the value into. Here, the range must be a single cell.\\nvalue (string): The value to be written. The string in value also can be an Excel formula. A string starting with \"=\" will be treated as a formula. When using address indexing from another sheet in a formula, if the worksheet name contains spaces, its name must be enclosed in single quotes (e.g. \\'Pivot Table\\'!A1). Please use correct absolute and relative references, e.g., $A$1, $A1, A$1, A1.\\n\\nUsage example:\\n# Example 1: Write headers for the new column.\\nWrite(\"Sheet2!A1\", \"Date\")\\nWrite(\"Sheet2!B1\", \"Sales\")\\n# Example 2: Write the formula into the cell.\\nWrite(\"Sheet1!A2\", \"=VLOOKUP(\\'Retail Price\\'!C2, \\'Retail Price\\'!A:B, 2, FALSE)\") # Must single quote the sheet name if it contains spaces.\\nWrite(\"Sheet1!A3\", \"=SUM(Sheet2!$A$1:$A$20)\") # Absolute address.\\n# Example 3: Add a new column after the A column named \"Month\".\\nInsertColumn(\"Sheet1\", after=\"A\")\\nWrite(\"Sheet1!B1\", \"Month\")\\n']\n",
      "Here is the corresponding sheet state:\n",
      "Sheet state: Sheet \"Sheet1\" has 2 columns (Headers are A: \"Hanging Mass (m2) (kg)\", B: \"Acceleration (m/s^2)\") and 122 rows (1 header row and 121 data rows).\n",
      "\n",
      "ASSISTANT\n",
      "- Step 1. Write the formula for acceleration in cell B2.\n",
      "- Step 2. Fill other rows in column B using the formula in B2.\n",
      "- Step 3. Set conditional formatting for cells with accelerations >= 1 to have green\n",
      "  fill.\n",
      "- Step 4. Set conditional formatting for cells with accelerations < 1 to have yellow\n",
      "  fill.\n",
      "\n",
      "\n",
      "USER\n",
      "- Write(range=\"Sheet1!F1\", value=\"Future Value\")\n",
      "- Write(range=\"Sheet1!F2\", value=\"=B2*(1+D2/E2)^(C2*E2)\")\n",
      "- AutoFill(source=\"Sheet1!F2\", destination=\"Sheet1!F2:F5\")\n",
      "\n",
      "Here is the supplementary documentation you can reference:\n",
      "['AutoFill(source: str, destination: str)\\nArgs explanation:\\nsource (string): The range to auto fill from.\\ndestination (string): The range to auto fill into.\\n# The destination must include the source range.\\n\\nUsage example:\\n# Example 1: Autofill down columns\\nAutoFill(\"Sheet1!A1\", \"Sheet1!A1:A10\")\\n', 'Write(range: str, value: str)\\nArgs explanation:\\nrange (string): The range to write the value into. Here, the range must be a single cell.\\nvalue (string): The value to be written. The string in value also can be an Excel formula. A string starting with \"=\" will be treated as a formula. When using address indexing from another sheet in a formula, if the worksheet name contains spaces, its name must be enclosed in single quotes (e.g. \\'Pivot Table\\'!A1). Please use correct absolute and relative references, e.g., $A$1, $A1, A$1, A1.\\n\\nUsage example:\\n# Example 1: Write headers for the new column.\\nWrite(\"Sheet2!A1\", \"Date\")\\nWrite(\"Sheet2!B1\", \"Sales\")\\n# Example 2: Write the formula into the cell.\\nWrite(\"Sheet1!A2\", \"=VLOOKUP(\\'Retail Price\\'!C2, \\'Retail Price\\'!A:B, 2, FALSE)\") # Must single quote the sheet name if it contains spaces.\\nWrite(\"Sheet1!A3\", \"=SUM(Sheet2!$A$1:$A$20)\") # Absolute address.\\n# Example 3: Add a new column after the A column named \"Month\".\\nInsertColumn(\"Sheet1\", after=\"A\")\\nWrite(\"Sheet1!B1\", \"Month\")\\n']\n",
      "Here is the corresponding sheet state:\n",
      "Sheet state: Sheet \"Sheet1\" has 5 columns (Headers are A: \"No.\", B: \"Present Value\", C: \"Years\", D: \"Annual Interest Rate\", E: \"# Compound Periods\") and 5 rows (1 header row and 4 data rows).\n",
      "\n"
     ]
    }
   ],
   "source": [
    "prompt = prompt.format(input_example=get_input_functions(example_input_file_path),\n",
    "                       documentation_example=extract_docs_for_input_functions(input_file_path=example_input_file_path, agent_config=agent_config),\n",
    "                       correct_example=get_correct_summarization(correct_file_path=example_correct_file_path),\n",
    "                       sheet_state_example=get_sheet_state(file_path=example_src_file_path),\n",
    "                       actual_input=get_input_functions(test_input_file_path),\n",
    "                       actual_documentation=extract_docs_for_input_functions(input_file_path=test_input_file_path, agent_config=agent_config),\n",
    "                       actual_sheet_state=get_sheet_state(file_path=test_src_file_path)\n",
    "                       )\n",
    "print(prompt)"
   ]
  },
  {
   "cell_type": "code",
   "execution_count": 24,
   "metadata": {},
   "outputs": [],
   "source": [
    "async def call_chat_gpt():\n",
    "    try:\n",
    "        chatbot = ChatGPT(agent_config['ChatGPT_1'], context=[], interaction_mode=True)\n",
    "        response = await chatbot(prompt)\n",
    "    except Exception as e:\n",
    "        print(f\"error occurs when parsing response: {e}\")\n",
    "    else:\n",
    "        return response\n"
   ]
  },
  {
   "cell_type": "code",
   "execution_count": null,
   "metadata": {},
   "outputs": [],
   "source": [
    "response = await call_chat_gpt()"
   ]
  },
  {
   "cell_type": "code",
   "execution_count": null,
   "metadata": {},
   "outputs": [
    {
     "data": {
      "text/plain": [
       "['- Step 1: Write \"Future Value\" as the header in cell F1.',\n",
       " '- Step 2: Enter the formula for calculating future value in cell F2.',\n",
       " '- Step 3: Fill down the formula from F2 to F5 to apply it to the other rows.']"
      ]
     },
     "execution_count": 26,
     "metadata": {},
     "output_type": "execute_result"
    }
   ],
   "source": [
    "predicted_instructions = response.split('\\n')\n",
    "predicted_instructions"
   ]
  },
  {
   "cell_type": "code",
   "execution_count": 27,
   "metadata": {},
   "outputs": [],
   "source": [
    "test_correct_file_path = correct_response_file_paths[test_index]"
   ]
  },
  {
   "cell_type": "code",
   "execution_count": 28,
   "metadata": {},
   "outputs": [
    {
     "data": {
      "text/plain": [
       "['- Step 1. Create a new column F.',\n",
       " '- Step 2. Write the formula for future value calculation in the first data row.',\n",
       " '- Step 3. Fill the formula down to the other rows.']"
      ]
     },
     "execution_count": 28,
     "metadata": {},
     "output_type": "execute_result"
    }
   ],
   "source": [
    "correct_instructions = get_correct_summarization(correct_file_path=test_correct_file_path).split('\\n')\n",
    "correct_instructions = [instruction for instruction in correct_instructions if instruction != \"\"]\n",
    "correct_instructions"
   ]
  },
  {
   "cell_type": "code",
   "execution_count": 29,
   "metadata": {},
   "outputs": [
    {
     "data": {
      "text/plain": [
       "{'bleu': 0.18217511419048013,\n",
       " 'precisions': [0.5098039215686274,\n",
       "  0.2916666666666667,\n",
       "  0.15555555555555556,\n",
       "  0.047619047619047616],\n",
       " 'brevity_penalty': 1.0,\n",
       " 'length_ratio': 1.275,\n",
       " 'translation_length': 51,\n",
       " 'reference_length': 40}"
      ]
     },
     "execution_count": 29,
     "metadata": {},
     "output_type": "execute_result"
    }
   ],
   "source": [
    "bleu = evaluate.load(\"bleu\")\n",
    "bleu_results = bleu.compute(predictions=predicted_instructions, references=correct_instructions)\n",
    "bleu_results"
   ]
  },
  {
   "cell_type": "code",
   "execution_count": 30,
   "metadata": {},
   "outputs": [
    {
     "data": {
      "text/plain": [
       "{'google_bleu': 0.25257731958762886}"
      ]
     },
     "execution_count": 30,
     "metadata": {},
     "output_type": "execute_result"
    }
   ],
   "source": [
    "google_bleu = evaluate.load(\"google_bleu\")\n",
    "google_bleu_results = google_bleu.compute(predictions=predicted_instructions, references=correct_instructions)\n",
    "google_bleu_results"
   ]
  },
  {
   "cell_type": "code",
   "execution_count": 31,
   "metadata": {},
   "outputs": [
    {
     "data": {
      "text/plain": [
       "{'rouge1': 0.5261158594491927,\n",
       " 'rouge2': 0.3127777777777778,\n",
       " 'rougeL': 0.5014245014245015,\n",
       " 'rougeLsum': 0.5014245014245015}"
      ]
     },
     "execution_count": 31,
     "metadata": {},
     "output_type": "execute_result"
    }
   ],
   "outputs": [],
   "source": [
    "rouge = evaluate.load(\"rouge\")\n",
    "rouge_results = rouge.compute(predictions=predicted_instructions, references=correct_instructions)\n",
    "rouge_results"
   ]
  },
  {
   "cell_type": "code",
   "execution_count": null,
   "metadata": {},
   "outputs": [],
   "source": []
  }
 ],
 "metadata": {
  "kernelspec": {
   "display_name": "llm_ss",
   "language": "python",
   "name": "python3"
  },
  "language_info": {
   "codemirror_mode": {
    "name": "ipython",
    "version": 3
   },
   "file_extension": ".py",
   "mimetype": "text/x-python",
   "name": "python",
   "nbconvert_exporter": "python",
   "pygments_lexer": "ipython3",
   "version": "3.10.14"
  }
 },
 "nbformat": 4,
 "nbformat_minor": 2
}
