{
 "cells": [
  {
   "cell_type": "code",
   "execution_count": 6,
   "metadata": {},
   "outputs": [],
   "source": [
    "import yaml\n",
    "import os\n",
    "import pathlib\n",
    "import time\n",
    "from Agent.xwAPI import xwBackend\n",
    "from utils.construct_prompt import get_api_doc\n",
    "from utils.ChatGPT import ChatGPT"
   ]
  },
  {
   "cell_type": "code",
   "execution_count": 7,
   "metadata": {},
   "outputs": [],
   "source": [
    "config_file = \"./config/config.yaml\"\n",
    "with open(config_file, mode='r') as file:\n",
    "    config = yaml.load(file, Loader=yaml.Loader)\n",
    "\n",
    "\n",
    "interaction_mode = config.get('interaction_mode', False)\n",
    "agent_config = config[\"Agent\"]\n",
    "agent_config['ChatGPT_1']['api_keys'] = [os.environ['OPENAI_API_KEY']]\n",
    "prompt_format = agent_config['ChatGPT_1']['prompt_format']\n",
    "with open(agent_config['api_doc_path']) as f:\n",
    "    api_doc = yaml.load(f, Loader=yaml.FullLoader)"
   ]
  },
  {
   "cell_type": "code",
   "execution_count": 8,
   "metadata": {},
   "outputs": [],
   "source": [
    "if agent_config['API_backend'] == 'xw':\n",
    "    xw_backend = xwBackend(agent_config['APP_backend'], api_doc)"
   ]
  },
  {
   "cell_type": "code",
   "execution_count": null,
   "metadata": {},
   "outputs": [],
   "source": [
    "path_generator = pathlib.Path(f\"../output_dir/refined_responses/\").glob(\"**/*\")\n",
    "response_log_paths = [str(path).split(\"\\\\\")[-1] for path in path_generator if path.is_file()]\n",
    "excel_file_names = [f\"{log_file[2:-5]}.xlsx\" for log_file in response_log_paths]\n",
    "excel_file_names"
   ]
  },
  {
   "cell_type": "code",
   "execution_count": null,
   "metadata": {},
   "outputs": [],
   "source": [
    "response_log_paths"
   ]
  },
  {
   "cell_type": "code",
   "execution_count": null,
   "metadata": {},
   "outputs": [],
   "source": [
    "index = 1\n",
    "file = f\"../dataset/task_sheets/{excel_file_names[index].replace('yaml', 'xlsx')}\"\n",
    "file"
   ]
  },
  {
   "cell_type": "code",
   "execution_count": 6,
   "metadata": {},
   "outputs": [],
   "source": [
    "if file is not None:\n",
    "    time.sleep(0.5)\n",
    "    xw_backend.OpenWorkbook(file)"
   ]
  },
  {
   "cell_type": "code",
   "execution_count": null,
   "metadata": {},
   "outputs": [],
   "source": [
    "sheet_state = xw_backend.GetSheetsState()\n",
    "sheet_state"
   ]
  },
  {
   "cell_type": "code",
   "execution_count": 8,
   "metadata": {},
   "outputs": [],
   "source": [
    "api_list, api_usage, api_detail_doc = get_api_doc(prompt_format, api_doc)"
   ]
  },
  {
   "cell_type": "code",
   "execution_count": 9,
   "metadata": {},
   "outputs": [],
   "source": [
    "response_log_path = f\"../output_dir/refined_responses/{response_log_paths[index]}\"\n",
    "with open(response_log_path) as file:\n",
    "    response_log = yaml.load(file, Loader=yaml.Loader)"
   ]
  },
  {
   "cell_type": "code",
   "execution_count": null,
   "metadata": {},
   "outputs": [],
   "source": [
    "prompt = \"\"\"Summarize the each sub-step of refined responses into explanations in natural language:\n",
    "{refined_response}\n",
    "Here is the supplementary doc you can reference:\n",
    "{documentation}\n",
    "Here is the corresponding sheet state:\n",
    "{sheet_state}\n",
    "\"\"\"\n",
    "prompt"
   ]
  },
  {
   "cell_type": "code",
   "execution_count": null,
   "metadata": {},
   "outputs": [],
   "source": [
    "unique_function_names = set([sub_instruction[:sub_instruction.find(\"(\")] for sub_instruction in response_log[\"refined_response\"]])\n",
    "unique_function_names"
   ]
  },
  {
   "cell_type": "code",
   "execution_count": 12,
   "metadata": {},
   "outputs": [],
   "source": [
    "documentation_for_functions = {\"documentation\": [api_detail_doc[name] for name in unique_function_names]}"
   ]
  },
  {
   "cell_type": "code",
   "execution_count": null,
   "metadata": {},
   "outputs": [],
   "source": [
    "prompt = prompt.format(refined_response=yaml.dump(response_log),documentation=yaml.dump(documentation_for_functions), sheet_state=sheet_state)\n",
    "print(prompt)"
   ]
  },
  {
   "cell_type": "code",
   "execution_count": 14,
   "metadata": {},
   "outputs": [],
   "source": [
    "async def call_chat_gpt():\n",
    "    try:\n",
    "        chatbot = ChatGPT(agent_config['ChatGPT_1'], context=[], interaction_mode=True)\n",
    "        response = await chatbot(prompt)\n",
    "    except Exception as e:\n",
    "        print(f\"error occurs when parsing response: {e}\")\n",
    "    else:\n",
    "        return response\n"
   ]
  },
  {
   "cell_type": "code",
   "execution_count": null,
   "metadata": {},
   "outputs": [],
   "source": [
    "response = await call_chat_gpt()"
   ]
  },
  {
   "cell_type": "code",
   "execution_count": null,
   "metadata": {},
   "outputs": [],
   "source": [
    "print(response)"
   ]
  },
  {
   "cell_type": "code",
   "execution_count": null,
   "metadata": {},
   "outputs": [],
   "source": []
  }
 ],
 "metadata": {
  "kernelspec": {
   "display_name": "llm_ss",
   "language": "python",
   "name": "python3"
  },
  "language_info": {
   "codemirror_mode": {
    "name": "ipython",
    "version": 3
   },
   "file_extension": ".py",
   "mimetype": "text/x-python",
   "name": "python",
   "nbconvert_exporter": "python",
   "pygments_lexer": "ipython3",
   "version": "3.10.14"
  }
 },
 "nbformat": 4,
 "nbformat_minor": 2
}
