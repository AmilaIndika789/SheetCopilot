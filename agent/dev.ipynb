{
 "cells": [
  {
   "cell_type": "code",
   "execution_count": 66,
   "metadata": {},
   "outputs": [],
   "source": [
    "import yaml\n",
    "import os\n",
    "from pprint import pprint\n",
    "import re\n",
    "\n",
    "from prompt import Prompt"
   ]
  },
  {
   "cell_type": "code",
   "execution_count": 2,
   "metadata": {},
   "outputs": [],
   "source": [
    "config_file = \"./config/config.yaml\"\n",
    "output_path = \"../benchmark_dir\"\n",
    "agent_name = \"ChatGPT_1\" # Available: ChatGPT_1 (4o-mini), ChatGPT_2 (4o), Llaama_3_1, Gemma_2, Mistral\n",
    "model_name = \"gpt-4o-mini\" # Available: gpt-4o-mini, gpt-4o, llama-3.1-70b-versatile, gemma2-9b-it, mixtral-8x7b-32768"
   ]
  },
  {
   "cell_type": "code",
   "execution_count": 3,
   "metadata": {},
   "outputs": [],
   "source": [
    "def set_agent_configuration(configuration_file_path, agent_name):\n",
    "    with open(configuration_file_path, mode=\"r\") as file:\n",
    "        config = yaml.load(file, Loader=yaml.Loader)\n",
    "\n",
    "    agent_config = config[\"Agent\"]\n",
    "\n",
    "    if (agent_name == \"ChatGPT_1\") or (agent_name == \"ChatGPT_2\"):\n",
    "        agent_config[agent_name][\"api_keys\"] = [os.environ[\"OPENAI_API_KEY\"]]\n",
    "    else:\n",
    "        agent_config[agent_name][\"api_keys\"] = [os.environ[\"GROQ_API_KEY\"]]\n",
    "    return agent_config"
   ]
  },
  {
   "cell_type": "code",
   "execution_count": 4,
   "metadata": {},
   "outputs": [],
   "source": [
    "agent_config = set_agent_configuration(configuration_file_path=config_file, agent_name=agent_name)"
   ]
  },
  {
   "cell_type": "code",
   "execution_count": 8,
   "metadata": {},
   "outputs": [],
   "source": [
    "prompt = Prompt(\n",
    "    agent_configuration=agent_config,\n",
    "    agent_name=agent_name,\n",
    "    model_name=model_name,\n",
    "    few_shot_count=1\n",
    ")"
   ]
  },
  {
   "cell_type": "code",
   "execution_count": 15,
   "metadata": {},
   "outputs": [],
   "source": [
    "input_path = prompt.get_filepaths()[\"input\"][0]\n",
    "input_functions = prompt.get_input_functions(input_path)\n",
    "input_documentation = prompt.extract_input_function_docs(input_path)"
   ]
  },
  {
   "cell_type": "code",
   "execution_count": 20,
   "metadata": {},
   "outputs": [
    {
     "name": "stdout",
     "output_type": "stream",
     "text": [
      "('- Write(range=\"Sheet2!A1\", value=\"Customers\")\\n'\n",
      " '- Write(range=\"Sheet2!A1\", value=\"Customers\")\\n'\n",
      " '- CreateSheet(sheetName=\"Sheet2\")\\n'\n",
      " '- Write(range=\"Sheet2!A1\", value=\"Customers\")\\n'\n",
      " '- AutoFill(source=\"Sheet1!A2:E2\", destination=\"Sheet2!A2:E11\")\\n'\n",
      " '- AutoFill(source=\"Sheet1!A2:E2\", destination=\"Sheet2!A2:E11\")\\n'\n",
      " '- Write(range=\"Sheet2!A2\", value=\"=Sheet1!A2\")\\n')\n"
     ]
    }
   ],
   "source": [
    "pprint(input_functions)"
   ]
  },
  {
   "cell_type": "code",
   "execution_count": 21,
   "metadata": {},
   "outputs": [
    {
     "name": "stdout",
     "output_type": "stream",
     "text": [
      "['Write(range: str, value: str)\\n'\n",
      " 'Args explanation:\\n'\n",
      " 'range (string): The range to write the value into. Here, the range must be a '\n",
      " 'single cell.\\n'\n",
      " 'value (string): The value to be written. The string in value also can be an '\n",
      " 'Excel formula. A string starting with \"=\" will be treated as a formula. When '\n",
      " 'using address indexing from another sheet in a formula, if the worksheet '\n",
      " 'name contains spaces, its name must be enclosed in single quotes (e.g. '\n",
      " \"'Pivot Table'!A1). Please use correct absolute and relative references, \"\n",
      " 'e.g., $A$1, $A1, A$1, A1.\\n'\n",
      " '\\n'\n",
      " 'Usage example:\\n'\n",
      " '# Example 1: Write headers for the new column.\\n'\n",
      " 'Write(\"Sheet2!A1\", \"Date\")\\n'\n",
      " 'Write(\"Sheet2!B1\", \"Sales\")\\n'\n",
      " '# Example 2: Write the formula into the cell.\\n'\n",
      " 'Write(\"Sheet1!A2\", \"=VLOOKUP(\\'Retail Price\\'!C2, \\'Retail Price\\'!A:B, 2, '\n",
      " 'FALSE)\") # Must single quote the sheet name if it contains spaces.\\n'\n",
      " 'Write(\"Sheet1!A3\", \"=SUM(Sheet2!$A$1:$A$20)\") # Absolute address.\\n'\n",
      " '# Example 3: Add a new column after the A column named \"Month\".\\n'\n",
      " 'InsertColumn(\"Sheet1\", after=\"A\")\\n'\n",
      " 'Write(\"Sheet1!B1\", \"Month\")\\n',\n",
      " 'CreateSheet(sheetName: str = None, before: str = None, after: str = None)\\n'\n",
      " 'Args explanation:\\n'\n",
      " 'sheetName (string): The name for the new sheet.\\n'\n",
      " 'before (string): The name of the sheet before which the new sheet will be '\n",
      " 'inserted.\\n'\n",
      " 'after (string): The name of the sheet after which the new sheet will be '\n",
      " 'inserted.\\n'\n",
      " '\\n'\n",
      " 'Usage example:\\n'\n",
      " \"# Example 1: Create a new sheet named 'Sheet2'.\\n\"\n",
      " \"CreateSheet('Sheet2')\\n\"\n",
      " '# Example 2: Summarize the quantity of products sold by type in a new '\n",
      " 'sheet.\\n'\n",
      " '# Sheet state: Sheet \"Sheet1\" has 6 columns (Headers are A: \"Date Time\", B: '\n",
      " '\"Web Site\", C: \"Product\", D: \"Type\", E: \"Quantity\", F: \"Discount\") and 11 '\n",
      " 'rows (including the header row).\\n'\n",
      " \"CreateSheet('Sheet2')\\n\"\n",
      " \"CreatePivotTable('Sheet1!A1:F11', 'Sheet2', 'PivotTable1', ['Type'], [], [], \"\n",
      " \"['Quantity'])\\n\",\n",
      " 'AutoFill(source: str, destination: str)\\n'\n",
      " 'Args explanation:\\n'\n",
      " 'source (string): The range to auto fill from.\\n'\n",
      " 'destination (string): The range to auto fill into.\\n'\n",
      " '# The destination must include the source range.\\n'\n",
      " '\\n'\n",
      " 'Usage example:\\n'\n",
      " '# Example 1: Autofill down columns\\n'\n",
      " 'AutoFill(\"Sheet1!A1\", \"Sheet1!A1:A10\")\\n']\n"
     ]
    }
   ],
   "source": [
    "pprint(input_documentation)"
   ]
  },
  {
   "cell_type": "code",
   "execution_count": 22,
   "metadata": {},
   "outputs": [
    {
     "data": {
      "text/plain": [
       "'..\\\\benchmark_dir\\\\refined_responses\\\\10_EntireShippingCosts.yaml'"
      ]
     },
     "execution_count": 22,
     "metadata": {},
     "output_type": "execute_result"
    }
   ],
   "source": [
    "input_path"
   ]
  },
  {
   "cell_type": "code",
   "execution_count": 23,
   "metadata": {},
   "outputs": [
    {
     "name": "stdout",
     "output_type": "stream",
     "text": [
      "('- Step 1. Write the headers in Sheet2.\\n'\n",
      " '- Step 1. Create the headers in Sheet2.\\n'\n",
      " '- Step 1. Create Sheet2.\\n'\n",
      " \"- Step 1. Create a new sheet named 'Sheet2'.\\n\"\n",
      " '- Step 2. Write the headers in Sheet2.\\n'\n",
      " '- Step 3. Autofill the first 10 rows of data from Sheet1 to Sheet2.\\n'\n",
      " '- Step 3. Write the first 10 rows of data from Sheet1 to Sheet2 manually.\\n'\n",
      " '- Step 3. Copy the first 10 rows of data from Sheet1 to Sheet2.\\n'\n",
      " '- Step 3. Write the first 10 rows of data from Sheet1 to Sheet2 manually.\\n')\n"
     ]
    }
   ],
   "source": [
    "pprint(prompt.get_correct_summarization(prompt.get_filepaths()[\"response\"][0]))"
   ]
  },
  {
   "cell_type": "code",
   "execution_count": 29,
   "metadata": {},
   "outputs": [],
   "source": [
    "path = \"..\\\\benchmark_dir\\\\10_EntireShippingCosts\\\\10_EntireShippingCosts_log.yaml\"\n",
    "with open(path, mode=\"r\") as file:\n",
    "    log_file = yaml.load(file, Loader=yaml.Loader)\n"
   ]
  },
  {
   "cell_type": "code",
   "execution_count": 41,
   "metadata": {},
   "outputs": [],
   "source": [
    "# refined_response = log_file[\"Success Response\"][0][\"refined response\"]\n",
    "# list(dict.fromkeys([item for sublist in refined_response for item in sublist]))"
   ]
  },
  {
   "cell_type": "code",
   "execution_count": 64,
   "metadata": {},
   "outputs": [],
   "source": [
    "def extract_intermediate_responses(log_file):\n",
    "    intermediate_response = log_file[\"Success Response\"][0][\"intermediate response\"]\n",
    "    intermediate_response = [sub_step[:sub_step.find(\"\\nAction API: \")] for sub_step in intermediate_response]\n",
    "    intermediate_response_dict = {\"intermediate response\": intermediate_response}\n",
    "    return intermediate_response_dict"
   ]
  },
  {
   "cell_type": "code",
   "execution_count": 65,
   "metadata": {},
   "outputs": [
    {
     "data": {
      "text/plain": [
       "{'intermediate response': ['Step 1. Write the headers in Sheet2.',\n",
       "  'Step 1. Create the headers in Sheet2.',\n",
       "  'Step 1. Create Sheet2.',\n",
       "  \"Step 1. Create a new sheet named 'Sheet2'.\",\n",
       "  'Step 2. Write the headers in Sheet2.',\n",
       "  'Step 3. Autofill the first 10 rows of data from Sheet1 to Sheet2.',\n",
       "  'Step 3. Write the first 10 rows of data from Sheet1 to Sheet2 manually.',\n",
       "  'Step 3. Copy the first 10 rows of data from Sheet1 to Sheet2.',\n",
       "  'Step 3. Write the first 10 rows of data from Sheet1 to Sheet2 manually.']}"
      ]
     },
     "execution_count": 65,
     "metadata": {},
     "output_type": "execute_result"
    }
   ],
   "source": [
    "extract_intermediate_responses(log_file)"
   ]
  },
  {
   "cell_type": "code",
   "execution_count": 68,
   "metadata": {},
   "outputs": [
    {
     "data": {
      "text/plain": [
       "9"
      ]
     },
     "execution_count": 68,
     "metadata": {},
     "output_type": "execute_result"
    }
   ],
   "source": [
    "# def extract_refined_responses(log_file):\n",
    "intermediate_response = log_file[\"Success Response\"][0][\"intermediate response\"]\n",
    "refined_response = [re.findall(r'(?<=@)([A-Z].*?\\))(?=@|\\n|$)', sub_step) for sub_step in intermediate_response]\n"
   ]
  },
  {
   "cell_type": "code",
   "execution_count": null,
   "metadata": {},
   "outputs": [],
   "source": []
  }
 ],
 "metadata": {
  "kernelspec": {
   "display_name": "llm_ss",
   "language": "python",
   "name": "python3"
  },
  "language_info": {
   "codemirror_mode": {
    "name": "ipython",
    "version": 3
   },
   "file_extension": ".py",
   "mimetype": "text/x-python",
   "name": "python",
   "nbconvert_exporter": "python",
   "pygments_lexer": "ipython3",
   "version": "3.10.14"
  }
 },
 "nbformat": 4,
 "nbformat_minor": 2
}
