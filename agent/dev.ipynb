{
 "cells": [
  {
   "cell_type": "markdown",
   "metadata": {},
   "source": [
    "## Import required libraries and packages"
   ]
  },
  {
   "cell_type": "code",
   "execution_count": 6,
   "metadata": {},
   "outputs": [],
   "source": [
    "import yaml\n",
    "import os\n",
    "import pathlib\n",
    "import time\n",
    "from Agent.xwAPI import xwBackend\n",
    "from utils.construct_prompt import get_api_doc\n",
    "from utils.ChatGPT import ChatGPT\n",
    "from tqdm import tqdm"
   ]
  },
  {
   "cell_type": "code",
   "execution_count": 2,
   "metadata": {},
   "outputs": [],
   "source": [
    "CONFIG_FILE = \"./config/config.yaml\"\n",
    "OUTPUT_PATH = \"../output_dir\""
   ]
  },
  {
   "cell_type": "markdown",
   "metadata": {},
   "source": [
    "## Helper functions"
   ]
  },
  {
   "cell_type": "code",
   "execution_count": 3,
   "metadata": {},
   "outputs": [],
   "source": [
    "def set_agent_configuration(configuration_file_path):\n",
    "    with open(configuration_file_path, mode=\"r\") as file:\n",
    "        config = yaml.load(file, Loader=yaml.Loader)\n",
    "\n",
    "    agent_config = config[\"Agent\"]\n",
    "    agent_config[\"ChatGPT_1\"][\"api_keys\"] = [os.environ[\"OPENAI_API_KEY\"]]\n",
    "    return agent_config"
   ]
  },
  {
   "cell_type": "code",
   "execution_count": 4,
   "metadata": {},
   "outputs": [],
   "source": [
    "def get_api_documentation(agent_config):\n",
    "    with open(agent_config[\"api_doc_path\"]) as f:\n",
    "        api_doc = yaml.load(f, Loader=yaml.FullLoader)\n",
    "    return api_doc"
   ]
  },
  {
   "cell_type": "code",
   "execution_count": 5,
   "metadata": {},
   "outputs": [],
   "source": [
    "def get_excel_backend(agent_config, api_doc):\n",
    "    if agent_config[\"API_backend\"] == \"xw\":\n",
    "        xw_backend = xwBackend(agent_config[\"APP_backend\"], api_doc)\n",
    "    return xw_backend"
   ]
  },
  {
   "cell_type": "code",
   "execution_count": 6,
   "metadata": {},
   "outputs": [],
   "source": [
    "def create_path_generator(file_path):\n",
    "    return pathlib.Path(f\"{file_path}\").glob(\"**/*\")"
   ]
  },
  {
   "cell_type": "code",
   "execution_count": 7,
   "metadata": {},
   "outputs": [],
   "source": [
    "def get_source_excel_filenames(path_generator):\n",
    "    response_log_paths = [\n",
    "        str(path).split(\"\\\\\")[-1] for path in path_generator if path.is_file()\n",
    "    ]\n",
    "    return [f\"{log_file[2:-5]}.xlsx\" for log_file in response_log_paths]"
   ]
  },
  {
   "cell_type": "code",
   "execution_count": 8,
   "metadata": {},
   "outputs": [],
   "source": [
    "def get_sheet_state(file_path, backend):\n",
    "    if file_path is not None:\n",
    "        time.sleep(0.5)\n",
    "        backend.OpenWorkbook(file_path)\n",
    "\n",
    "    return backend.GetSheetsState()"
   ]
  },
  {
   "cell_type": "code",
   "execution_count": 9,
   "metadata": {},
   "outputs": [],
   "source": [
    "def extract_docs_for_input_functions(input_file_path, agent_config, api_doc):\n",
    "    with open(input_file_path) as file:\n",
    "        input_functions = yaml.load(file, Loader=yaml.Loader)\n",
    "    prompt_format = agent_config[\"ChatGPT_1\"][\"prompt_format\"]\n",
    "    api_list, api_usage, api_detail_doc = get_api_doc(prompt_format, api_doc)\n",
    "    # Filter upto first open paranthesis\n",
    "    unique_function_names = set(\n",
    "        [\n",
    "            function[: function.find(\"(\")]\n",
    "            for function in input_functions[\"refined_response\"]\n",
    "        ]\n",
    "    )\n",
    "    documentation_for_functions = [\n",
    "        api_detail_doc[name] for name in unique_function_names\n",
    "    ]\n",
    "    return documentation_for_functions"
   ]
  },
  {
   "cell_type": "code",
   "execution_count": 10,
   "metadata": {},
   "outputs": [],
   "source": [
    "def get_input_functions(input_file_path):\n",
    "    with open(input_file_path) as file:\n",
    "        input_functions = yaml.load(file, Loader=yaml.Loader)\n",
    "    return yaml.dump(input_functions[\"refined_response\"])"
   ]
  },
  {
   "cell_type": "code",
   "execution_count": 11,
   "metadata": {},
   "outputs": [],
   "source": [
    "def get_correct_summarization(correct_file_path):\n",
    "    with open(correct_file_path) as file:\n",
    "        correct_summarizations = yaml.load(file, Loader=yaml.Loader)\n",
    "    return yaml.dump(correct_summarizations[\"intermediate response\"])"
   ]
  },
  {
   "cell_type": "code",
   "execution_count": 12,
   "metadata": {},
   "outputs": [],
   "source": [
    "def save_prompt(prompt, test_input_file_path):\n",
    "    prompt_filename = test_input_file_path.split('\\\\')[-1].split('.')[0] + '_prompt.txt'\n",
    "    with open(f\"{OUTPUT_PATH}/prompts/{prompt_filename}\", \"w\") as file:\n",
    "        file.write(prompt)"
   ]
  },
  {
   "cell_type": "code",
   "execution_count": 13,
   "metadata": {},
   "outputs": [],
   "source": [
    "def save_gpt_response(predicted_instructions, test_input_file_path):\n",
    "    gpt_response_filename = test_input_file_path.split('\\\\')[-1].split('.')[0] + \"_gpt_response.yaml\"\n",
    "    gpt_response = {\"gpt_response\": predicted_instructions}\n",
    "    with open(f\"{OUTPUT_PATH}/gpt_responses/{gpt_response_filename}\", \"w\") as file:\n",
    "        yaml.dump(gpt_response, file)"
   ]
  },
  {
   "cell_type": "markdown",
   "metadata": {},
   "source": [
    "## Setup and Initializations"
   ]
  },
  {
   "cell_type": "code",
   "execution_count": 14,
   "metadata": {},
   "outputs": [],
   "source": [
    "agent_config = set_agent_configuration(configuration_file_path=CONFIG_FILE)\n",
    "api_doc = get_api_documentation(agent_config=agent_config)\n",
    "xw_backend = get_excel_backend(agent_config=agent_config, api_doc=api_doc)"
   ]
  },
  {
   "cell_type": "code",
   "execution_count": 15,
   "metadata": {},
   "outputs": [],
   "source": [
    "path_generator = create_path_generator(file_path=f\"{OUTPUT_PATH}/refined_responses/\")\n",
    "input_file_paths = [str(path) for path in path_generator]\n",
    "# input_file_paths"
   ]
  },
  {
   "cell_type": "code",
   "execution_count": 16,
   "metadata": {},
   "outputs": [],
   "source": [
    "path_generator = create_path_generator(file_path=f\"{OUTPUT_PATH}/refined_responses/\")\n",
    "excel_file_names = get_source_excel_filenames(path_generator=path_generator)\n",
    "excel_file_paths = [\n",
    "    f\"../dataset/task_sheets/{file_name}\" for file_name in excel_file_names\n",
    "]\n",
    "# excel_file_paths"
   ]
  },
  {
   "cell_type": "markdown",
   "metadata": {},
   "source": [
    "## Example for One-shot Learning"
   ]
  },
  {
   "cell_type": "code",
   "execution_count": 17,
   "metadata": {},
   "outputs": [],
   "source": [
    "example_index = 0\n",
    "example_src_file_path = excel_file_paths[example_index]\n",
    "example_input_file_path = input_file_paths[example_index]\n",
    "# example_src_file_path, example_input_file_path"
   ]
  },
  {
   "cell_type": "code",
   "execution_count": 18,
   "metadata": {},
   "outputs": [],
   "source": [
    "path_generator = create_path_generator(\n",
    "    file_path=f\"{OUTPUT_PATH}/intermediate_responses/\"\n",
    ")\n",
    "correct_response_file_paths = [str(path) for path in path_generator]\n",
    "# correct_response_file_paths"
   ]
  },
  {
   "cell_type": "code",
   "execution_count": 19,
   "metadata": {},
   "outputs": [],
   "source": [
    "example_correct_file_path = correct_response_file_paths[example_index]\n",
    "# example_correct_file_path"
   ]
  },
  {
   "cell_type": "code",
   "execution_count": 20,
   "metadata": {},
   "outputs": [],
   "source": [
    "example_sheet_state = get_sheet_state(\n",
    "    file_path=example_src_file_path, backend=xw_backend\n",
    ")\n",
    "# example_sheet_state"
   ]
  },
  {
   "cell_type": "markdown",
   "metadata": {},
   "source": [
    "## Test set (except one-shot example)"
   ]
  },
  {
   "cell_type": "code",
   "execution_count": 21,
   "metadata": {},
   "outputs": [],
   "source": [
    "async def call_chat_gpt(prompt):\n",
    "    try:\n",
    "        chatbot = ChatGPT(agent_config[\"ChatGPT_1\"], context=[], interaction_mode=True)\n",
    "        response = await chatbot(prompt)\n",
    "    except Exception as e:\n",
    "        print(f\"error occurs when parsing response: {e}\")\n",
    "    else:\n",
    "        return response"
   ]
  },
  {
   "cell_type": "code",
   "execution_count": 23,
   "metadata": {},
   "outputs": [],
   "source": [
    "test_index = 1"
   ]
  },
  {
   "cell_type": "code",
   "execution_count": 25,
   "metadata": {},
   "outputs": [],
   "source": [
    "# for test_index in tqdm(range(1, len(input_file_paths))):\n",
    "test_input_file_path = input_file_paths[test_index]\n",
    "test_src_file_path = excel_file_paths[test_index]\n",
    "\n",
    "# Create prompt\n",
    "prompt = (\n",
    "    \"SYSTEM\\n\"\n",
    "    \"Summarize the each sub-step of instructions into explanations in natural language. \"\n",
    "    \"Be brief and do not provide verbose explanations.\\n\\n\"\n",
    "    \"USER\\n\"\n",
    "    \"{input_example}\\n\"\n",
    "    \"Here is the supplementary documentation you can reference:\\n\"\n",
    "    \"{documentation_example}\\n\"\n",
    "    \"Here is the corresponding sheet state:\\n\"\n",
    "    \"{sheet_state_example}\\n\\n\"\n",
    "    \"ASSISTANT\\n\"\n",
    "    \"{correct_example}\\n\\n\"\n",
    "    \"USER\\n\"\n",
    "    \"{actual_input}\\n\"\n",
    "    \"Here is the supplementary documentation you can reference:\\n\"\n",
    "    \"{actual_documentation}\\n\"\n",
    "    \"Here is the corresponding sheet state:\\n\"\n",
    "    \"{actual_sheet_state}\\n\"\n",
    ")\n",
    "\n",
    "# Format the prompt\n",
    "prompt = prompt.format(\n",
    "    input_example=get_input_functions(example_input_file_path),\n",
    "    documentation_example=extract_docs_for_input_functions(\n",
    "        input_file_path=example_input_file_path,\n",
    "        agent_config=agent_config,\n",
    "        api_doc=api_doc,\n",
    "    ),\n",
    "    correct_example=get_correct_summarization(\n",
    "        correct_file_path=example_correct_file_path\n",
    "    ),\n",
    "    sheet_state_example=get_sheet_state(\n",
    "        file_path=example_src_file_path, backend=xw_backend\n",
    "    ),\n",
    "    actual_input=get_input_functions(test_input_file_path),\n",
    "    actual_documentation=extract_docs_for_input_functions(\n",
    "        input_file_path=test_input_file_path,\n",
    "        agent_config=agent_config,\n",
    "        api_doc=api_doc,\n",
    "    ),\n",
    "    actual_sheet_state=get_sheet_state(\n",
    "        file_path=test_src_file_path, backend=xw_backend\n",
    "    ),\n",
    ")\n",
    "\n",
    "# save_prompt(prompt, test_input_file_path)\n",
    "\n",
    "# # Get GPT response\n",
    "# response = await call_chat_gpt(prompt)\n",
    "\n",
    "# predicted_instructions = response.split(\"\\n\")\n",
    "# save_gpt_response(predicted_instructions, test_input_file_path)"
   ]
  },
  {
   "cell_type": "code",
   "execution_count": 26,
   "metadata": {},
   "outputs": [
    {
     "data": {
      "text/plain": [
       "'SYSTEM\\nSummarize the each sub-step of instructions into explanations in natural language. Be brief and do not provide verbose explanations.\\n\\nUSER\\n- AutoFill(source=\"Sheet1!B2\", destination=\"Sheet1!B2:B122\")\\n- CreateChart(source=\"Sheet1!A1:B122\", destSheet=\"Sheet1\", chartType=\"XYScatterSmoothNoMarkers\",\\n  chartName=\"Acceleration vs. Hanging Mass\")\\n- SetChartTitle(chartName=\"Acceleration vs. Hanging Mass\", title=\"Acceleration vs.\\n  Hanging Mass\")\\n- SetChartAxis(chartName=\"Acceleration vs. Hanging Mass\", axis=\"x\", title=\"Hanging\\n  Mass (m2) (kg)\")\\n- SetChartAxis(chartName=\"Acceleration vs. Hanging Mass\", axis=\"y\", title=\"Acceleration\\n  (m/s^2)\")\\n\\nHere is the supplementary documentation you can reference:\\n[\\'CreateChart(source: str, destSheet: str, chartType: str, chartName: str, XField: int = None, YField: List[int] = [])\\\\nArgs explanation:\\\\nsource (string): The range that contains the data used to create the chart.\\\\ndestSheet (string): The name of the sheet where the chart will be located.\\\\nchartType (string): The type of chart. It can be \\\\\\'Area\\\\\\', \\\\\\'AreaStacked\\\\\\', \\\\\\'BarClustered\\\\\\', \\\\\\'BarOfPie\\\\\\', \\\\\\'BarStacked\\\\\\', \\\\\\'Bubble\\\\\\', \\\\\\'ColumnClustered\\\\\\', \\\\\\'ColumnStacked\\\\\\', \\\\\\'Line\\\\\\', \\\\\\'LineMarkers\\\\\\', \\\\\\'LineMarkersStacked\\\\\\', \\\\\\'LineStacked\\\\\\', \\\\\\'Pie\\\\\\', \\\\\\'XYScatter\\\\\\', \\\\\\'XYScatterLines\\\\\\', \\\\\\'XYScatterLinesNoMarkers\\\\\\', \\\\\\'XYScatterSmooth\\\\\\', \\\\\\'XYScatterSmoothNoMarkers\\\\\\', \\\\\\'3DPie\\\\\\'.\\\\nchartName (string): The name for the chart to be created.\\\\nXField (int): The index of the column that contains the X values, starting from 1. If XField is None, the first column will be used.\\\\nYField (List[int]): The indices of the columns that contain the Y values, starting from 1. If YField is [], all columns except the first column will be used.\\\\n\\\\nUsage example:\\\\n# Example 1: Create a chart in Sheet2 based on the data from A1 to B10 in Sheet1 and set the chart name to \\\\\\'Chart1\\\\\\'.\\\\nCreateChart(source=\\\\\\'Sheet1!A1:B10\\\\\\', destSheet=\\\\\\'Sheet2\\\\\\', chartType=\\\\\\'ColumnClustered\\\\\\', chartName=\\\\\\'Chart1\\\\\\')\\\\n# After implementing this action, a chart named \\\\\\'Chart1\\\\\\' will be created in Sheet2 based on the data from A1 to B10 in Sheet1.\\\\n# Example 2: Create a chart based on the data from A1 to B10 in Sheet1 and set the chart title to \\\\\\'Chart1 Title\\\\\\'.\\\\nCreateChart(source=\\\\\\'Sheet1!A1:B10\\\\\\', destSheet=\\\\\\'Sheet1\\\\\\', chartType=\\\\\\'ColumnClustered\\\\\\', chartName=\\\\\\'Chart1\\\\\\')\\\\nSetChartTitle(chartName=\\\\\\'Chart1\\\\\\', title=\\\\\\'Chart1 Title\\\\\\')\\\\n# After implementing this action, a chart named \\\\\\'Chart1\\\\\\' will be created for the data from Sheet1 A1 to B10 and the chart title will be \\\\\\'Chart1 Title\\\\\\'.\\\\n# Example 3: Create a scatter chart in the ScatterChart sheet with Columns B, C on the y-axis and Column A on the x-axis. XField is set as 1 to denote Column A. YField is set as [2,3] to denote Columns B and C.\\\\nCreateChart(source=\"Sheet1!A1:B122\", destSheet=\"ScatterChart\", chartType=\"XYScatter\", chartName=\"ScatterChart1\", XField=1, YField=[2,3])\\\\n\\', \"SetChartTitle(chartName: str, title: str, fontSize: float = None, bold: bool = None, color: str = None)\\\\nArgs explanation:\\\\nchartName (string): The name of the chart to set the title.\\\\ntitle (string): The title for the chart.\\\\nfontSize (float): The font size for the title.\\\\nbold (bool): Whether to set bold. True means bold, False means not bold.\\\\ncolor (string): The color for the title. It can be \\'black\\', \\'white\\', \\'red\\', \\'green\\', \\'blue\\', \\'yellow\\', \\'magenta\\', \\'cyan\\', \\'dark_red\\', \\'dark_green\\'.\\\\n\\\\nUsage example:\\\\nNone\", \\'AutoFill(source: str, destination: str)\\\\nArgs explanation:\\\\nsource (string): The range to auto fill from.\\\\ndestination (string): The range to auto fill into.\\\\n# The destination must include the source range.\\\\n\\\\nUsage example:\\\\n# Example 1: Autofill down columns\\\\nAutoFill(\"Sheet1!A1\", \"Sheet1!A1:A10\")\\\\n\\', \"SetChartAxis(chartName: str, axis: str, title: str = None, labelOrientation: str = None, maxValue: float = None, miniValue: float = None)\\\\nArgs explanation:\\\\nchartName (string): The name of the chart to set axis.\\\\naxis (string): The axis to set. It can be \\'x\\', \\'y\\'.\\\\ntitle (string): The title for the axis.\\\\nlabelOrientation (string): The label orientation for the axis. It can be \\'horizontal\\', \\'vertical\\', \\'upward\\', \\'downward\\'.\\\\nmaxValue (float): The max value for the axis.\\\\nminiValue (float): The mini value for the axis.\\\\n\\\\nUsage example:\\\\n# Example 1: Set the X and Y-axis titles as Year and Cost.\\\\nSetChartAxis(chartName=\\'Chart1\\', axis=\\'x\\', title=\\'Year\\')\\\\nSetChartAxis(chartName=\\'Chart1\\', axis=\\'y\\', title=\\'Cost\\')\\\\n# Example 2: Turn off all axis titles\\\\nSetChartAxis(chartName=\\'Chart1\\', axis=\\'x\\', title=\\'\\')\\\\nSetChartAxis(chartName=\\'Chart1\\', axis=\\'y\\', title=\\'\\')\\\\n# After implementing this action, the X and Y-axis titles will be removed while the two axes still exist.\\\\n\"]\\nHere is the corresponding sheet state:\\nSheet state: Sheet \"Sheet1\" has 2 columns (Headers are A: \"Hanging Mass (m2) (kg)\", B: \"Acceleration (m/s^2)\") and 122 rows (1 header row and 121 data rows).\\n\\nASSISTANT\\n- Step 1. Fill out other rows in column B using the formula in B2.\\n- Step 2. Create a scatter plot with smooth lines and without markers.\\n- Step 3. Set the chart title as \"Acceleration vs. Hanging Mass\".\\n- Step 4. Set the X-axis title as \"Hanging Mass (m2) (kg)\".\\n- Step 5. Set the Y-axis title as \"Acceleration (m/s^2)\".\\n\\n\\nUSER\\n- Write(range=\"Sheet1!B2\", value=\"=(A2*9.81)/(0.75+A2)\")\\n- AutoFill(source=\"Sheet1!B2\", destination=\"Sheet1!B2:B122\")\\n- SetConditionalFormat(source=\"Sheet1!B2:B122\", formula=\"=$B2>=1\", fillColor=\"green\")\\n- SetConditionalFormat(source=\"Sheet1!B2:B122\", formula=\"=$B2<1\", fillColor=\"yellow\")\\n\\nHere is the supplementary documentation you can reference:\\n[\\'Write(range: str, value: str)\\\\nArgs explanation:\\\\nrange (string): The range to write the value into. Here, the range must be a single cell.\\\\nvalue (string): The value to be written. The string in value also can be an Excel formula. A string starting with \"=\" will be treated as a formula. When using address indexing from another sheet in a formula, if the worksheet name contains spaces, its name must be enclosed in single quotes (e.g. \\\\\\'Pivot Table\\\\\\'!A1). Please use correct absolute and relative references, e.g., $A$1, $A1, A$1, A1.\\\\n\\\\nUsage example:\\\\n# Example 1: Write headers for the new column.\\\\nWrite(\"Sheet2!A1\", \"Date\")\\\\nWrite(\"Sheet2!B1\", \"Sales\")\\\\n# Example 2: Write the formula into the cell.\\\\nWrite(\"Sheet1!A2\", \"=VLOOKUP(\\\\\\'Retail Price\\\\\\'!C2, \\\\\\'Retail Price\\\\\\'!A:B, 2, FALSE)\") # Must single quote the sheet name if it contains spaces.\\\\nWrite(\"Sheet1!A3\", \"=SUM(Sheet2!$A$1:$A$20)\") # Absolute address.\\\\n# Example 3: Add a new column after the A column named \"Month\".\\\\nInsertColumn(\"Sheet1\", after=\"A\")\\\\nWrite(\"Sheet1!B1\", \"Month\")\\\\n\\', \\'AutoFill(source: str, destination: str)\\\\nArgs explanation:\\\\nsource (string): The range to auto fill from.\\\\ndestination (string): The range to auto fill into.\\\\n# The destination must include the source range.\\\\n\\\\nUsage example:\\\\n# Example 1: Autofill down columns\\\\nAutoFill(\"Sheet1!A1\", \"Sheet1!A1:A10\")\\\\n\\', \\'SetConditionalFormat(source: str, formula: str, bold: nool = None, color: str = None, fillColor: str = None, italic: bool = None, underline: bool = None)\\\\nArgs explanation:\\\\nsource (string): The range to set conditional format.\\\\nformula (string): The Excel formula representing the condition. For example, \"=A1>B1\" means highlight the first cell of the source range if the value in A1 is greater than the value in B1.\\\\nbold (bool): Whether to set bold. True means bold, False means not bold.\\\\ncolor (string): The color to set. It can be \\\\\\'black\\\\\\', \\\\\\'white\\\\\\', \\\\\\'red\\\\\\', \\\\\\'green\\\\\\', \\\\\\'blue\\\\\\', \\\\\\'yellow\\\\\\', \\\\\\'magenta\\\\\\', \\\\\\'cyan\\\\\\', \\\\\\'dark_red\\\\\\', \\\\\\'dark_green\\\\\\'.\\\\nfillColor (string): The fill color to set. It can be \\\\\\'black\\\\\\', \\\\\\'white\\\\\\', \\\\\\'red\\\\\\', \\\\\\'green\\\\\\', \\\\\\'blue\\\\\\', \\\\\\'yellow\\\\\\', \\\\\\'magenta\\\\\\', \\\\\\'cyan\\\\\\', \\\\\\'dark_red\\\\\\', \\\\\\'dark_green\\\\\\'.\\\\nitalic (bool): Whether to set italic. True means italic, False means not italic.\\\\nunderline (bool): Whether to set underline. True means underline, False means not underline.\\\\n\\\\nUsage example:\\\\n# Example 1: Highlight cells A1 to A10 greater than cell D1 with white text and red background.\\\\nSetConditionalFormat(source=\\\\\\'Sheet1!A1:A10\\\\\\', formula=\\\\\\'=$A1>$D$1\\\\\\', color=\"white\", fillColor=\"red\")\\\\n# Absolute reference is used for A1 because iteration is done for rows while the column is fixed. Absolute reference is used for D1 because it is the only target to be compared with.\\\\n# After implementing this action, the cells in range A1:A10 whose values >= D1 will have white texts and red fill.\\\\n# Example 2: lf column D contains the letter \\\\\\'H\\\\\\' highlight the colum F cell texts in yellow. \\\\nSetConditionalFormat(source=\\\\\\'Sheet1!D2:D\\\\\\', formula=\\\\\\'=ISNUMBER(SEARCH(\"H\",$D2))\\\\\\', color=\"yellow\")\\\\n# Absolute reference is used for D2 because iteration is done for rows while the column is fixed. source starts from D2 because the column header needs to be ignored.\\\\n# Example 3: Highlight the column B cells in Sheet1 between 2pm and 5pm in bold text. If the time is formatted as Text, TIMEVALUE can be used to convert time to factions. The following API call can be used in this case.\\\\nSetConditionalFormat(source=\"Sheet1!B2:B36\", formula=\\\\\\'=AND(TIMEVALUE($B2)>=TIMEVALUE(\"14:00:00\"),TIMEVALUE($B2)<=TIMEVALUE(\"17:00:00\"))\\\\\\', fillColor=\"yellow\")\\\\n\\']\\nHere is the corresponding sheet state:\\nSheet state: Sheet \"Sheet1\" has 2 columns (Headers are A: \"Hanging Mass (m2) (kg)\", B: \"Acceleration (m/s^2)\") and 122 rows (1 header row and 121 data rows).\\n'"
      ]
     },
     "execution_count": 26,
     "metadata": {},
     "output_type": "execute_result"
    }
   ],
   "source": [
    "prompt"
   ]
  },
  {
   "cell_type": "code",
   "execution_count": null,
   "metadata": {},
   "outputs": [
    {
     "name": "stdout",
     "output_type": "stream",
     "text": [
      "\n"
     ]
    }
   ],
   "source": [
    "response = await call_chat_gpt()"
   ]
  },
  {
   "cell_type": "code",
   "execution_count": 24,
   "metadata": {},
   "outputs": [
    {
     "name": "stdout",
     "output_type": "stream",
     "text": [
      "- Step 1. Write \"Future Value\" in cell F1 to label the new column.\n",
      "- Step 2. Write a formula in cell F2 to calculate the future value based on the present value, interest rate, and compounding periods.\n",
      "- Step 3. AutoFill the formula from F2 down to F5 to apply it to the other rows in the column.\n"
     ]
    }
   ],
   "source": [
    "print(response)"
   ]
  },
  {
   "cell_type": "code",
   "execution_count": 25,
   "metadata": {},
   "outputs": [
    {
     "data": {
      "text/plain": [
       "['- Step 1. Write \"Future Value\" in cell F1 to label the new column.',\n",
       " '- Step 2. Write a formula in cell F2 to calculate the future value based on the present value, interest rate, and compounding periods.',\n",
       " '- Step 3. AutoFill the formula from F2 down to F5 to apply it to the other rows in the column.']"
      ]
     },
     "execution_count": 25,
     "metadata": {},
     "output_type": "execute_result"
    }
   ],
   "source": [
    "predicted_instructions = response.split(\"\\n\")\n",
    "predicted_instructions"
   ]
  },
  {
   "cell_type": "code",
   "execution_count": 26,
   "metadata": {},
   "outputs": [],
   "source": [
    "test_correct_file_path = correct_response_file_paths[test_index]"
   ]
  },
  {
   "cell_type": "code",
   "execution_count": 27,
   "metadata": {},
   "outputs": [
    {
     "data": {
      "text/plain": [
       "['- Step 1. Create a new column F.',\n",
       " '- Step 2. Write the formula for future value calculation in the first data row.',\n",
       " '- Step 3. Fill the formula down to the other rows.']"
      ]
     },
     "execution_count": 27,
     "metadata": {},
     "output_type": "execute_result"
    }
   ],
   "source": [
    "correct_instructions = get_correct_summarization(\n",
    "    correct_file_path=test_correct_file_path\n",
    ").split(\"\\n\")\n",
    "correct_instructions = [\n",
    "    instruction for instruction in correct_instructions if instruction != \"\"\n",
    "]\n",
    "correct_instructions"
   ]
  },
  {
   "cell_type": "code",
   "execution_count": null,
   "metadata": {},
   "outputs": [],
   "source": []
  }
 ],
 "metadata": {
  "kernelspec": {
   "display_name": "llm_ss",
   "language": "python",
   "name": "python3"
  },
  "language_info": {
   "codemirror_mode": {
    "name": "ipython",
    "version": 3
   },
   "file_extension": ".py",
   "mimetype": "text/x-python",
   "name": "python",
   "nbconvert_exporter": "python",
   "pygments_lexer": "ipython3",
   "version": "3.10.14"
  }
 },
 "nbformat": 4,
 "nbformat_minor": 2
}
