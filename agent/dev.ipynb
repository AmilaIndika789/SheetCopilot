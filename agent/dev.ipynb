{
 "cells": [
  {
   "cell_type": "code",
   "execution_count": 5,
   "metadata": {},
   "outputs": [],
   "source": [
    "import yaml\n",
    "import pathlib\n",
    "import time\n",
    "from Agent.xwAPI import xwBackend"
   ]
  },
  {
   "cell_type": "code",
   "execution_count": 2,
   "metadata": {},
   "outputs": [],
   "source": [
    "config_file = \"./config/config.yaml\"\n",
    "with open(config_file, mode='r') as file:\n",
    "    config = yaml.load(file, Loader=yaml.Loader)\n",
    "\n",
    "agent_config = config[\"Agent\"]\n",
    "with open(agent_config['api_doc_path']) as f:\n",
    "    api_doc = yaml.load(f, Loader=yaml.FullLoader)"
   ]
  },
  {
   "cell_type": "code",
   "execution_count": 3,
   "metadata": {},
   "outputs": [],
   "source": [
    "if agent_config['API_backend'] == 'xw':\n",
    "    xw_backend = xwBackend(agent_config['APP_backend'], api_doc)"
   ]
  },
  {
   "cell_type": "code",
   "execution_count": 23,
   "metadata": {},
   "outputs": [
    {
     "data": {
      "text/plain": [
       "['DemographicProfile.xlsx', 'Dragging.xlsx', 'DemographicProfile.xlsx']"
      ]
     },
     "execution_count": 23,
     "metadata": {},
     "output_type": "execute_result"
    }
   ],
   "source": [
    "path_generator = pathlib.Path(f\"../output_dir/intermediate_responses/\").glob(\"**/*\")\n",
    "response_logs = [str(path).split(\"\\\\\")[-1] for path in path_generator if path.is_file()]\n",
    "excel_file_names = [f\"{log_file[2:-5]}.xlsx\" for log_file in response_logs]\n",
    "excel_file_names"
   ]
  },
  {
   "cell_type": "code",
   "execution_count": 25,
   "metadata": {},
   "outputs": [
    {
     "data": {
      "text/plain": [
       "'../dataset/task_sheets/DemographicProfile.xlsx'"
      ]
     },
     "execution_count": 25,
     "metadata": {},
     "output_type": "execute_result"
    }
   ],
   "source": [
    "file = f\"../dataset/task_sheets/{excel_file_names[0].replace('yaml', 'xlsx')}\"\n",
    "file"
   ]
  },
  {
   "cell_type": "code",
   "execution_count": 26,
   "metadata": {},
   "outputs": [],
   "source": [
    "if file is not None:\n",
    "    time.sleep(0.5)\n",
    "    xw_backend.OpenWorkbook(file)"
   ]
  },
  {
   "cell_type": "code",
   "execution_count": 27,
   "metadata": {},
   "outputs": [
    {
     "data": {
      "text/plain": [
       "'Sheet state: Sheet \"Sheet1\" has 4 columns (Headers are A: \"Respondents\", B: \"Sex\", C: \"Civil Status\", D: \"Highest Educational Attainment\") and 41 rows (1 header row and 40 data rows).'"
      ]
     },
     "execution_count": 27,
     "metadata": {},
     "output_type": "execute_result"
    }
   ],
   "source": [
    "sheet_state = xw_backend.GetSheetsState()\n",
    "sheet_state"
   ]
  },
  {
   "cell_type": "code",
   "execution_count": null,
   "metadata": {},
   "outputs": [],
   "source": [
    "def extract_intermediate_responses(log_file):\n",
    "    intermediate_response = log_file[\"Success Response\"][0][\"intermediate response\"]\n",
    "    intermediate_response = [sub_step[:sub_step.find(\"\\nAction API: \")] for sub_step in intermediate_response]\n",
    "    intermediate_response_dict = {\"intermediate response\": intermediate_response}\n",
    "    return intermediate_response_dict"
   ]
  },
  {
   "cell_type": "code",
   "execution_count": null,
   "metadata": {},
   "outputs": [],
   "source": [
    "def save_dictionary(save_path, task_name, dictionary):\n",
    "    pathlib.Path(f\"{save_path}\").mkdir(parents=True, exist_ok=True)\n",
    "    with open(f\"{save_path}/{task_name}.yaml\", mode=\"w\") as file:\n",
    "        yaml.dump(dictionary, file, default_flow_style=False)"
   ]
  },
  {
   "cell_type": "code",
   "execution_count": null,
   "metadata": {},
   "outputs": [],
   "source": [
    "def extract_refined_responses(log_file):\n",
    "    refined_response = log_file[\"Success Response\"][0][\"refined response\"]\n",
    "    refined_response = [code_segment[0] for code_segment in refined_response]\n",
    "    refined_response_dict = {\"refined_response\": refined_response}\n",
    "    return refined_response_dict"
   ]
  },
  {
   "cell_type": "code",
   "execution_count": null,
   "metadata": {},
   "outputs": [],
   "source": [
    "for success_task_name in successful_list:\n",
    "    log_file = load_success_log(success_task_name)\n",
    "    intermediate_response_dict = extract_intermediate_responses(log_file)\n",
    "    refined_response_dict = extract_refined_responses(log_file)\n",
    "    save_dictionary(save_path=\"../output_dir/intermediate_responses\", task_name=success_task_name, dictionary=intermediate_response_dict)\n",
    "    save_dictionary(save_path=\"../output_dir/refined_responses\", task_name=success_task_name, dictionary=refined_response_dict)"
   ]
  },
  {
   "cell_type": "code",
   "execution_count": null,
   "metadata": {},
   "outputs": [],
   "source": []
  }
 ],
 "metadata": {
  "kernelspec": {
   "display_name": "llm_ss",
   "language": "python",
   "name": "python3"
  },
  "language_info": {
   "codemirror_mode": {
    "name": "ipython",
    "version": 3
   },
   "file_extension": ".py",
   "mimetype": "text/x-python",
   "name": "python",
   "nbconvert_exporter": "python",
   "pygments_lexer": "ipython3",
   "version": "3.10.14"
  }
 },
 "nbformat": 4,
 "nbformat_minor": 2
}
