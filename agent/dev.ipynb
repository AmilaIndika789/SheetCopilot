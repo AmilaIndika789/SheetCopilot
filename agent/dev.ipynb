{
 "cells": [
  {
   "cell_type": "code",
   "execution_count": 1,
   "metadata": {},
   "outputs": [],
   "source": [
    "import yaml\n",
    "import pathlib\n",
    "import time\n",
    "from Agent.xwAPI import xwBackend\n",
    "from utils.construct_prompt import get_api_doc"
   ]
  },
  {
   "cell_type": "code",
   "execution_count": 2,
   "metadata": {},
   "outputs": [],
   "source": [
    "config_file = \"./config/config.yaml\"\n",
    "with open(config_file, mode='r') as file:\n",
    "    config = yaml.load(file, Loader=yaml.Loader)\n",
    "\n",
    "agent_config = config[\"Agent\"]\n",
    "prompt_format = agent_config['ChatGPT_1']['prompt_format']\n",
    "with open(agent_config['api_doc_path']) as f:\n",
    "    api_doc = yaml.load(f, Loader=yaml.FullLoader)"
   ]
  },
  {
   "cell_type": "code",
   "execution_count": 3,
   "metadata": {},
   "outputs": [],
   "source": [
    "if agent_config['API_backend'] == 'xw':\n",
    "    xw_backend = xwBackend(agent_config['APP_backend'], api_doc)"
   ]
  },
  {
   "cell_type": "code",
   "execution_count": 4,
   "metadata": {},
   "outputs": [
    {
     "data": {
      "text/plain": [
       "['DemographicProfile.xlsx', 'Dragging.xlsx', 'DemographicProfile.xlsx']"
      ]
     },
     "execution_count": 4,
     "metadata": {},
     "output_type": "execute_result"
    }
   ],
   "source": [
    "path_generator = pathlib.Path(f\"../output_dir/refined_responses/\").glob(\"**/*\")\n",
    "response_log_paths = [str(path).split(\"\\\\\")[-1] for path in path_generator if path.is_file()]\n",
    "excel_file_names = [f\"{log_file[2:-5]}.xlsx\" for log_file in response_log_paths]\n",
    "excel_file_names"
   ]
  },
  {
   "cell_type": "code",
   "execution_count": 5,
   "metadata": {},
   "outputs": [
    {
     "data": {
      "text/plain": [
       "'../dataset/task_sheets/Dragging.xlsx'"
      ]
     },
     "execution_count": 5,
     "metadata": {},
     "output_type": "execute_result"
    }
   ],
   "source": [
    "index = 1\n",
    "file = f\"../dataset/task_sheets/{excel_file_names[index].replace('yaml', 'xlsx')}\"\n",
    "file"
   ]
  },
  {
   "cell_type": "code",
   "execution_count": 6,
   "metadata": {},
   "outputs": [],
   "source": [
    "if file is not None:\n",
    "    time.sleep(0.5)\n",
    "    xw_backend.OpenWorkbook(file)"
   ]
  },
  {
   "cell_type": "code",
   "execution_count": 7,
   "metadata": {},
   "outputs": [
    {
     "data": {
      "text/plain": [
       "'Sheet state: Sheet \"Sheet1\" has 2 columns (Headers are A: \"Hanging Mass (m2) (kg)\", B: \"Acceleration (m/s^2)\") and 122 rows (1 header row and 121 data rows).'"
      ]
     },
     "execution_count": 7,
     "metadata": {},
     "output_type": "execute_result"
    }
   ],
   "source": [
    "sheet_state = xw_backend.GetSheetsState()\n",
    "sheet_state"
   ]
  },
  {
   "cell_type": "code",
   "execution_count": 8,
   "metadata": {},
   "outputs": [],
   "source": [
    "api_list, api_usage, api_detail_doc = get_api_doc(prompt_format, api_doc)"
   ]
  },
  {
   "cell_type": "code",
   "execution_count": 9,
   "metadata": {},
   "outputs": [],
   "source": [
    "response_log_path = f\"../output_dir/refined_responses/{response_log_paths[index]}\"\n",
    "with open(response_log_path) as file:\n",
    "    response_log = yaml.load(file, Loader=yaml.Loader)"
   ]
  },
  {
   "cell_type": "code",
   "execution_count": 10,
   "metadata": {},
   "outputs": [
    {
     "data": {
      "text/plain": [
       "'Summarize the each sub-step of refined responses into explanations in natural language:\\n{refined_response}\\nHere is the supplementary doc you can reference:\\n{documentation}\\nHere is the corresponding sheet state:\\n{sheet_state}\\n'"
      ]
     },
     "execution_count": 10,
     "metadata": {},
     "output_type": "execute_result"
    }
   ],
   "source": [
    "prompt = \"\"\"Summarize the each sub-step of refined responses into explanations in natural language:\n",
    "{refined_response}\n",
    "Here is the supplementary doc you can reference:\n",
    "{documentation}\n",
    "Here is the corresponding sheet state:\n",
    "{sheet_state}\n",
    "\"\"\"\n",
    "prompt"
   ]
  },
  {
   "cell_type": "code",
   "execution_count": 11,
   "metadata": {},
   "outputs": [
    {
     "data": {
      "text/plain": [
       "{'AutoFill', 'CreateChart', 'CreateSheet', 'SetChartAxis', 'SetChartTitle'}"
      ]
     },
     "execution_count": 11,
     "metadata": {},
     "output_type": "execute_result"
    }
   ],
   "source": [
    "unique_function_names = set([sub_instruction[:sub_instruction.find(\"(\")] for sub_instruction in response_log[\"refined_response\"]])\n",
    "unique_function_names"
   ]
  },
  {
   "cell_type": "code",
   "execution_count": 12,
   "metadata": {},
   "outputs": [],
   "source": [
    "documentation_for_functions = {\"documentation\": [api_detail_doc[name] for name in unique_function_names]}"
   ]
  },
  {
   "cell_type": "code",
   "execution_count": 13,
   "metadata": {},
   "outputs": [
    {
     "name": "stdout",
     "output_type": "stream",
     "text": [
      "Summarize the each sub-step of refined responses into explanations in natural language:\n",
      "refined_response:\n",
      "- AutoFill(source=\"Sheet1!B2\", destination=\"Sheet1!B2:B122\")\n",
      "- CreateSheet(sheetName=\"ScatterChart\")\n",
      "- CreateChart(source=\"Sheet1!A1:B122\", destSheet=\"ScatterChart\", chartType=\"XYScatter\",\n",
      "  chartName=\"Acceleration vs Hanging Mass\", XField=1, YField=[2])\n",
      "- SetChartTitle(chartName=\"Acceleration vs Hanging Mass\", title=\"Acceleration vs Hanging\n",
      "  Mass\")\n",
      "- SetChartAxis(chartName=\"Acceleration vs Hanging Mass\", axis=\"x\", title=\"Hanging\n",
      "  Mass (m2) (kg)\")\n",
      "- SetChartAxis(chartName=\"Acceleration vs Hanging Mass\", axis=\"y\", title=\"Acceleration\n",
      "  (m/s^2)\")\n",
      "\n",
      "Here is the supplementary doc you can reference:\n",
      "documentation:\n",
      "- 'AutoFill(source: str, destination: str)\n",
      "\n",
      "  Args explanation:\n",
      "\n",
      "  source (string): The range to auto fill from.\n",
      "\n",
      "  destination (string): The range to auto fill into.\n",
      "\n",
      "  # The destination must include the source range.\n",
      "\n",
      "\n",
      "  Usage example:\n",
      "\n",
      "  # Example 1: Autofill down columns\n",
      "\n",
      "  AutoFill(\"Sheet1!A1\", \"Sheet1!A1:A10\")\n",
      "\n",
      "  '\n",
      "- 'CreateChart(source: str, destSheet: str, chartType: str, chartName: str, XField:\n",
      "  int = None, YField: List[int] = [])\n",
      "\n",
      "  Args explanation:\n",
      "\n",
      "  source (string): The range that contains the data used to create the chart.\n",
      "\n",
      "  destSheet (string): The name of the sheet where the chart will be located.\n",
      "\n",
      "  chartType (string): The type of chart. It can be ''Area'', ''AreaStacked'', ''BarClustered'',\n",
      "  ''BarOfPie'', ''BarStacked'', ''Bubble'', ''ColumnClustered'', ''ColumnStacked'',\n",
      "  ''Line'', ''LineMarkers'', ''LineMarkersStacked'', ''LineStacked'', ''Pie'', ''XYScatter'',\n",
      "  ''XYScatterLines'', ''XYScatterLinesNoMarkers'', ''XYScatterSmooth'', ''XYScatterSmoothNoMarkers'',\n",
      "  ''3DPie''.\n",
      "\n",
      "  chartName (string): The name for the chart to be created.\n",
      "\n",
      "  XField (int): The index of the column that contains the X values, starting from\n",
      "  1. If XField is None, the first column will be used.\n",
      "\n",
      "  YField (List[int]): The indices of the columns that contain the Y values, starting\n",
      "  from 1. If YField is [], all columns except the first column will be used.\n",
      "\n",
      "\n",
      "  Usage example:\n",
      "\n",
      "  # Example 1: Create a chart in Sheet2 based on the data from A1 to B10 in Sheet1\n",
      "  and set the chart name to ''Chart1''.\n",
      "\n",
      "  CreateChart(source=''Sheet1!A1:B10'', destSheet=''Sheet2'', chartType=''ColumnClustered'',\n",
      "  chartName=''Chart1'')\n",
      "\n",
      "  # After implementing this action, a chart named ''Chart1'' will be created in Sheet2\n",
      "  based on the data from A1 to B10 in Sheet1.\n",
      "\n",
      "  # Example 2: Create a chart based on the data from A1 to B10 in Sheet1 and set the\n",
      "  chart title to ''Chart1 Title''.\n",
      "\n",
      "  CreateChart(source=''Sheet1!A1:B10'', destSheet=''Sheet1'', chartType=''ColumnClustered'',\n",
      "  chartName=''Chart1'')\n",
      "\n",
      "  SetChartTitle(chartName=''Chart1'', title=''Chart1 Title'')\n",
      "\n",
      "  # After implementing this action, a chart named ''Chart1'' will be created for the\n",
      "  data from Sheet1 A1 to B10 and the chart title will be ''Chart1 Title''.\n",
      "\n",
      "  # Example 3: Create a scatter chart in the ScatterChart sheet with Columns B, C\n",
      "  on the y-axis and Column A on the x-axis. XField is set as 1 to denote Column A.\n",
      "  YField is set as [2,3] to denote Columns B and C.\n",
      "\n",
      "  CreateChart(source=\"Sheet1!A1:B122\", destSheet=\"ScatterChart\", chartType=\"XYScatter\",\n",
      "  chartName=\"ScatterChart1\", XField=1, YField=[2,3])\n",
      "\n",
      "  '\n",
      "- 'CreateSheet(sheetName: str = None, before: str = None, after: str = None)\n",
      "\n",
      "  Args explanation:\n",
      "\n",
      "  sheetName (string): The name for the new sheet.\n",
      "\n",
      "  before (string): The name of the sheet before which the new sheet will be inserted.\n",
      "\n",
      "  after (string): The name of the sheet after which the new sheet will be inserted.\n",
      "\n",
      "\n",
      "  Usage example:\n",
      "\n",
      "  # Example 1: Create a new sheet named ''Sheet2''.\n",
      "\n",
      "  CreateSheet(''Sheet2'')\n",
      "\n",
      "  # Example 2: Summarize the quantity of products sold by type in a new sheet.\n",
      "\n",
      "  # Sheet state: Sheet \"Sheet1\" has 6 columns (Headers are A: \"Date Time\", B: \"Web\n",
      "  Site\", C: \"Product\", D: \"Type\", E: \"Quantity\", F: \"Discount\") and 11 rows (including\n",
      "  the header row).\n",
      "\n",
      "  CreateSheet(''Sheet2'')\n",
      "\n",
      "  CreatePivotTable(''Sheet1!A1:F11'', ''Sheet2'', ''PivotTable1'', [''Type''], [],\n",
      "  [], [''Quantity''])\n",
      "\n",
      "  '\n",
      "- 'SetChartAxis(chartName: str, axis: str, title: str = None, labelOrientation: str\n",
      "  = None, maxValue: float = None, miniValue: float = None)\n",
      "\n",
      "  Args explanation:\n",
      "\n",
      "  chartName (string): The name of the chart to set axis.\n",
      "\n",
      "  axis (string): The axis to set. It can be ''x'', ''y''.\n",
      "\n",
      "  title (string): The title for the axis.\n",
      "\n",
      "  labelOrientation (string): The label orientation for the axis. It can be ''horizontal'',\n",
      "  ''vertical'', ''upward'', ''downward''.\n",
      "\n",
      "  maxValue (float): The max value for the axis.\n",
      "\n",
      "  miniValue (float): The mini value for the axis.\n",
      "\n",
      "\n",
      "  Usage example:\n",
      "\n",
      "  # Example 1: Set the X and Y-axis titles as Year and Cost.\n",
      "\n",
      "  SetChartAxis(chartName=''Chart1'', axis=''x'', title=''Year'')\n",
      "\n",
      "  SetChartAxis(chartName=''Chart1'', axis=''y'', title=''Cost'')\n",
      "\n",
      "  # Example 2: Turn off all axis titles\n",
      "\n",
      "  SetChartAxis(chartName=''Chart1'', axis=''x'', title='''')\n",
      "\n",
      "  SetChartAxis(chartName=''Chart1'', axis=''y'', title='''')\n",
      "\n",
      "  # After implementing this action, the X and Y-axis titles will be removed while\n",
      "  the two axes still exist.\n",
      "\n",
      "  '\n",
      "- 'SetChartTitle(chartName: str, title: str, fontSize: float = None, bold: bool =\n",
      "  None, color: str = None)\n",
      "\n",
      "  Args explanation:\n",
      "\n",
      "  chartName (string): The name of the chart to set the title.\n",
      "\n",
      "  title (string): The title for the chart.\n",
      "\n",
      "  fontSize (float): The font size for the title.\n",
      "\n",
      "  bold (bool): Whether to set bold. True means bold, False means not bold.\n",
      "\n",
      "  color (string): The color for the title. It can be ''black'', ''white'', ''red'',\n",
      "  ''green'', ''blue'', ''yellow'', ''magenta'', ''cyan'', ''dark_red'', ''dark_green''.\n",
      "\n",
      "\n",
      "  Usage example:\n",
      "\n",
      "  None'\n",
      "\n",
      "Here is the corresponding sheet state:\n",
      "Sheet state: Sheet \"Sheet1\" has 2 columns (Headers are A: \"Hanging Mass (m2) (kg)\", B: \"Acceleration (m/s^2)\") and 122 rows (1 header row and 121 data rows).\n",
      "\n"
     ]
    }
   ],
   "source": [
    "print(prompt.format(refined_response=yaml.dump(response_log),documentation=yaml.dump(documentation_for_functions), sheet_state=sheet_state))"
   ]
  },
  {
   "cell_type": "code",
   "execution_count": null,
   "metadata": {},
   "outputs": [],
   "source": []
  }
 ],
 "metadata": {
  "kernelspec": {
   "display_name": "llm_ss",
   "language": "python",
   "name": "python3"
  },
  "language_info": {
   "codemirror_mode": {
    "name": "ipython",
    "version": 3
   },
   "file_extension": ".py",
   "mimetype": "text/x-python",
   "name": "python",
   "nbconvert_exporter": "python",
   "pygments_lexer": "ipython3",
   "version": "3.10.14"
  }
 },
 "nbformat": 4,
 "nbformat_minor": 2
}
