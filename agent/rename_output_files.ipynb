{
 "cells": [
  {
   "cell_type": "code",
   "execution_count": 1,
   "metadata": {},
   "outputs": [],
   "source": [
    "import os\n",
    "import pandas as pd"
   ]
  },
  {
   "cell_type": "code",
   "execution_count": 2,
   "metadata": {},
   "outputs": [],
   "source": [
    "output_path = \"../output_dir\""
   ]
  },
  {
   "cell_type": "code",
   "execution_count": null,
   "metadata": {},
   "outputs": [],
   "source": [
    "tasks = pd.read_excel(\"../dataset/dataset_149_copy.xlsx\")"
   ]
  },
  {
   "cell_type": "code",
   "execution_count": 4,
   "metadata": {},
   "outputs": [],
   "source": [
    "for index, task_row in tasks.iterrows():\n",
    "    sheet_name = task_row['Sheet Name']\n",
    "    task_no = task_row['No.']\n",
    "    task_index = index + 1\n",
    "    path = f\"{output_path}/{task_index}_{sheet_name}\"\n",
    "    if os.path.exists(path):\n",
    "        os.rename(src=f\"{path}/{task_index}_{sheet_name}_1\", dst=f\"{path}/{task_no}_{sheet_name}_1\")\n",
    "        os.rename(src=f\"{path}/{task_index}_{sheet_name}_1.xlsx\", dst=f\"{path}/{task_no}_{sheet_name}_1.xlsx\")\n",
    "        os.rename(src=f\"{path}/{task_index}_{sheet_name}_log.yaml\", dst=f\"{path}/{task_no}_{sheet_name}_log.yaml\")\n",
    "        os.rename(src=f\"{path}/{task_index}_{sheet_name}_source.xlsx\", dst=f\"{path}/{task_no}_{sheet_name}_source.xlsx\")\n",
    "        os.rename(src=f\"{path}\", dst=f\"{output_path}/{task_no}_{sheet_name}\")\n"
   ]
  },
  {
   "cell_type": "code",
   "execution_count": null,
   "metadata": {},
   "outputs": [],
   "source": []
  }
 ],
 "metadata": {
  "kernelspec": {
   "display_name": "llm_ss",
   "language": "python",
   "name": "python3"
  },
  "language_info": {
   "codemirror_mode": {
    "name": "ipython",
    "version": 3
   },
   "file_extension": ".py",
   "mimetype": "text/x-python",
   "name": "python",
   "nbconvert_exporter": "python",
   "pygments_lexer": "ipython3",
   "version": "3.10.14"
  }
 },
 "nbformat": 4,
 "nbformat_minor": 2
}
