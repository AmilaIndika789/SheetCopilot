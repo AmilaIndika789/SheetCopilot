{
 "cells": [
  {
   "cell_type": "code",
   "execution_count": 1,
   "metadata": {},
   "outputs": [],
   "source": [
    "import os\n",
    "import pandas as pd"
   ]
  },
  {
   "cell_type": "code",
   "execution_count": 2,
   "metadata": {},
   "outputs": [],
   "source": [
    "output_path = \"../output_dir_02\""
   ]
  },
  {
   "cell_type": "code",
   "execution_count": 3,
   "metadata": {},
   "outputs": [],
   "source": [
    "tasks = pd.read_excel(\"../dataset/dataset_221_copy.xlsx\")"
   ]
  },
  {
   "cell_type": "code",
   "execution_count": 4,
   "metadata": {},
   "outputs": [],
   "source": [
    "for index, task_row in tasks.iterrows():\n",
    "    path = f\"{output_path}/{index+1}_{task_row['Sheet Name']}\"\n",
    "    if os.path.exists(path):\n",
    "        os.rename(src=f\"{path}/{index+1}_{task_row['Sheet Name']}_1\", dst=f\"{path}/{task_row['No.']}_{task_row['Sheet Name']}_1\")\n",
    "        os.rename(src=f\"{path}/{index+1}_{task_row['Sheet Name']}_1.xlsx\", dst=f\"{path}/{task_row['No.']}_{task_row['Sheet Name']}_1.xlsx\")\n",
    "        os.rename(src=f\"{path}/{index+1}_{task_row['Sheet Name']}_log.yaml\", dst=f\"{path}/{task_row['No.']}_{task_row['Sheet Name']}_log.yaml\")\n",
    "        os.rename(src=f\"{path}/{index+1}_{task_row['Sheet Name']}_source.xlsx\", dst=f\"{path}/{task_row['No.']}_{task_row['Sheet Name']}_source.xlsx\")\n",
    "        os.rename(src=f\"{path}\", dst=f\"{output_path}/{task_row['No.']}_{task_row['Sheet Name']}\")\n"
   ]
  },
  {
   "cell_type": "code",
   "execution_count": null,
   "metadata": {},
   "outputs": [],
   "source": []
  }
 ],
 "metadata": {
  "kernelspec": {
   "display_name": "llm_ss",
   "language": "python",
   "name": "python3"
  },
  "language_info": {
   "codemirror_mode": {
    "name": "ipython",
    "version": 3
   },
   "file_extension": ".py",
   "mimetype": "text/x-python",
   "name": "python",
   "nbconvert_exporter": "python",
   "pygments_lexer": "ipython3",
   "version": "3.10.14"
  }
 },
 "nbformat": 4,
 "nbformat_minor": 2
}
