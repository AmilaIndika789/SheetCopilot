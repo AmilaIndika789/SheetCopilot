{
 "cells": [
  {
   "cell_type": "markdown",
   "metadata": {},
   "source": [
    "## Import required libraries and packages"
   ]
  },
  {
   "cell_type": "code",
   "execution_count": 1,
   "metadata": {},
   "outputs": [],
   "source": [
    "import yaml\n",
    "import os\n",
    "from tqdm import tqdm\n",
    "import time\n",
    "\n",
    "from prompt import Prompt\n",
    "from utils.LLM import LLM"
   ]
  },
  {
   "cell_type": "code",
   "execution_count": 2,
   "metadata": {},
   "outputs": [],
   "source": [
    "config_file = \"./config/config.yaml\"\n",
    "output_path = \"../benchmark_dir\"\n",
    "agent_name = \"ChatGPT_2\" # Available: ChatGPT_1 (4o-mini), ChatGPT_2 (4o), Llaama_3_3, Gemma_2, Mistral\n",
    "model_name = \"gpt-4o\" # Available: gpt-4o-mini, gpt-4o, llama-3.3-70b-versatile, gemma2-9b-it, mixtral-8x7b-32768\n",
    "few_shot_count = 4"
   ]
  },
  {
   "cell_type": "markdown",
   "metadata": {},
   "source": [
    "## Helper functions"
   ]
  },
  {
   "cell_type": "code",
   "execution_count": 3,
   "metadata": {},
   "outputs": [],
   "source": [
    "def set_agent_configuration(configuration_file_path, agent_name):\n",
    "    with open(configuration_file_path, mode=\"r\") as file:\n",
    "        config = yaml.load(file, Loader=yaml.Loader)\n",
    "\n",
    "    agent_config = config[\"Agent\"]\n",
    "\n",
    "    if (agent_name == \"ChatGPT_1\") or (agent_name == \"ChatGPT_2\"):\n",
    "        agent_config[agent_name][\"api_keys\"] = [os.environ[\"OPENAI_API_KEY\"]]\n",
    "    else:\n",
    "        agent_config[agent_name][\"api_keys\"] = [os.environ[\"GROQ_API_KEY\"]]\n",
    "    return agent_config"
   ]
  },
  {
   "cell_type": "markdown",
   "metadata": {},
   "source": [
    "## Setup and Initializations"
   ]
  },
  {
   "cell_type": "code",
   "execution_count": 4,
   "metadata": {},
   "outputs": [],
   "source": [
    "agent_config = set_agent_configuration(\n",
    "    configuration_file_path=config_file, agent_name=agent_name\n",
    ")"
   ]
  },
  {
   "cell_type": "markdown",
   "metadata": {},
   "source": [
    "## Examples for few shot learning"
   ]
  },
  {
   "cell_type": "code",
   "execution_count": 5,
   "metadata": {},
   "outputs": [],
   "source": [
    "prompt = Prompt(\n",
    "    agent_configuration=agent_config,\n",
    "    agent_name=agent_name,\n",
    "    model_name=model_name,\n",
    "    few_shot_count=few_shot_count,\n",
    ")"
   ]
  },
  {
   "cell_type": "code",
   "execution_count": 6,
   "metadata": {},
   "outputs": [],
   "source": [
    "few_shot_examples = prompt.create_few_shot_examples()"
   ]
  },
  {
   "cell_type": "markdown",
   "metadata": {},
   "source": [
    "## Test set (except one-shot example)"
   ]
  },
  {
   "cell_type": "code",
   "execution_count": null,
   "metadata": {},
   "outputs": [
    {
     "name": "stderr",
     "output_type": "stream",
     "text": [
      "100%|██████████| 107/107 [07:34<00:00,  4.24s/it]\n"
     ]
    }
   ],
   "source": [
    "for test_index in tqdm(range(4, 111)):\n",
    "    system_prompt, actual_prompt = prompt.create_actual_prompt(index=test_index)\n",
    "\n",
    "    final_prompt = [system_prompt] + few_shot_examples.copy()\n",
    "    final_prompt.append(actual_prompt)\n",
    "    LLM_agent = LLM(\n",
    "        agent_configuration=agent_config,\n",
    "        agent_name=agent_name,\n",
    "        model_name=model_name,\n",
    "        output_path=output_path,\n",
    "    )\n",
    "\n",
    "    if (agent_name == \"ChatGPT_1\") or (agent_name == \"ChatGPT_2\"):  # OpenAI\n",
    "        model_prediction = LLM_agent.call_chatgpt_api(final_prompt)\n",
    "    else:  # Groq\n",
    "        model_prediction = LLM_agent.call_groq_api(final_prompt)\n",
    "    model_prediction = model_prediction.split(\"\\n\")\n",
    "\n",
    "    # Save LLM response\n",
    "    LLM_agent.save_response(\n",
    "        predicted_instructions=model_prediction,\n",
    "        test_input_path=prompt.get_filepaths()[\"input\"][test_index],\n",
    "        few_shot_count=prompt.get_few_shot_count(),\n",
    "    )\n",
    "\n",
    "    # Save Prompt\n",
    "    LLM_agent.save_prompt(\n",
    "        prompt=final_prompt,\n",
    "        test_input_path=prompt.get_filepaths()[\"input\"][test_index],\n",
    "        few_shot_count=prompt.get_few_shot_count(),\n",
    "    )"
   ]
  },
  {
   "cell_type": "code",
   "execution_count": null,
   "metadata": {},
   "outputs": [],
   "source": []
  }
 ],
 "metadata": {
  "kernelspec": {
   "display_name": "llm_ss",
   "language": "python",
   "name": "python3"
  },
  "language_info": {
   "codemirror_mode": {
    "name": "ipython",
    "version": 3
   },
   "file_extension": ".py",
   "mimetype": "text/x-python",
   "name": "python",
   "nbconvert_exporter": "python",
   "pygments_lexer": "ipython3",
   "version": "3.10.14"
  }
 },
 "nbformat": 4,
 "nbformat_minor": 2
}
